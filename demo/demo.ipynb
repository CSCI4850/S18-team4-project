{
 "cells": [
  {
   "cell_type": "markdown",
   "metadata": {},
   "source": [
    "# <b>Comparing Feed-Forward and Convolutional Neural Networks in the Task of Classifying Poker Hands</b>"
   ]
  },
  {
   "cell_type": "markdown",
   "metadata": {},
   "source": [
    "#### <b>Introduction:</b>"
   ]
  },
  {
   "cell_type": "markdown",
   "metadata": {},
   "source": [
    "Poker has always shown itself to be a challenging way to test one's luck and grit against odds that are exceptionally low. There are many different variants that slightly alter the odds. The poker variant 5 card draw has 2,598,960 different hand combinations in a standard 52 card deck. With this many possible hands it is easy to see how difficult it could be to get even a decent hand in a single 5 card draw. The reason that these odds do not hinder most players is that even a terrible hand has a chance to win with a good bluff. Great human poker players have learned when to bluff and how to tell when another player is bluffing. In order to compete, computerized robot players must focus on a categorical approach based on the odds and significant training. The overall aim of our project is to discover which techniques and neural networks performed the best at classifying poker hands.\n",
    "\n",
    "Our team trained two different types of Neural Networks and compared their performance in order to assess which was superior for the problem at hand. We will be going over them and learning about them in brief in this demo."
   ]
  },
  {
   "cell_type": "markdown",
   "metadata": {},
   "source": [
    "#### <b>Installation:</b>"
   ]
  },
  {
   "cell_type": "markdown",
   "metadata": {},
   "source": [
    "In the event that you are the explorative type and ended up here before you read the readme, here are some quick steps to get going with this interactive demo:\n",
    "\n",
    "  <b>Step 1:</b> Install Jupyter here - http://jupyter.readthedocs.io/en/latest/install.html\n",
    "\n",
    "  <b>Step 2:</b> Install the package Treys here - https://github.com/ihendley/treys/tree/master/treys\n",
    "  \n",
    "  This will be used to handle our deck of cards and other related things.\n",
    "\n",
    "  <b>Step 3:</b> Make a local copy of this repo.\n"
   ]
  },
  {
   "cell_type": "markdown",
   "metadata": {},
   "source": [
    "#### <b>How does this Jupyter Notebook thing work?:</b>"
   ]
  },
  {
   "cell_type": "markdown",
   "metadata": {},
   "source": [
    "Jupyter notebooks work almost the exact same way as a normal programming environment, with one very big yet simple difference. In a Jupyter Notebook everything is divided into modular cells, so you can just run individual segments of code instead of the entire program. All you need to do to run a cell of code is to click on it and then press cntrl-enter.\n",
    "\n",
    "Otherwise everything should be relatively intuitive."
   ]
  },
  {
   "cell_type": "markdown",
   "metadata": {},
   "source": [
    "#### <b>What is a Neural Network?:</b>"
   ]
  },
  {
   "cell_type": "markdown",
   "metadata": {},
   "source": [
    "Maureen Caudill succinctly answered this question in 1989 and explained Neural Networks as: \"...a computing system made up of a number of simple, highly interconnected processing elements, which process information by their dynamic state response to external inputs\". -- \"Neural Network Primer: Part I\" by Maureen Caudill, AI Expert, Feb. 1989.\n",
    "\n",
    "Want to learn more? Visit: http://www.explainthatstuff.com/introduction-to-neural-networks.html"
   ]
  },
  {
   "cell_type": "markdown",
   "metadata": {},
   "source": [
    "#### <b>Data:</b>"
   ]
  },
  {
   "cell_type": "markdown",
   "metadata": {},
   "source": [
    "In order to train a Neural Network you must first have a dataset to learn from. Our dataset is available within our repository here: https://github.com/CSCI4850/S18-team4-project/tree/master/data\n",
    "\n",
    "It is simply every possible hand in poker."
   ]
  },
  {
   "cell_type": "markdown",
   "metadata": {},
   "source": [
    "#### <b>Feed-Forward Neural Networks:</b>"
   ]
  },
  {
   "cell_type": "markdown",
   "metadata": {},
   "source": [
    "The first type of Neural Network we trained was a Feed-Forward Neural Network. Feed-Forward Neural Networks are a type of Neural Network where the connections from unit to unit don't form a cycle.\n",
    "\n",
    "If you want to learn more in-depth about Feed-Forward Networks, please visit: https://www.researchgate.net/publication/228394623_A_brief_review_of_feed-forward_neural_networks"
   ]
  },
  {
   "cell_type": "markdown",
   "metadata": {},
   "source": [
    "#### <b>Our Feed-Forward Neural Network:</b>"
   ]
  },
  {
   "cell_type": "markdown",
   "metadata": {},
   "source": [
    "Let's look at our results! We won't be training the network in this demo as it can take quite a long time, but images of the entire process are provided. "
   ]
  },
  {
   "cell_type": "markdown",
   "metadata": {},
   "source": [
    "If you want to see the actual file where this was done, please head to: https://github.com/CSCI4850/S18-team4-project/blob/master/FeedNN.ipynb"
   ]
  },
  {
   "cell_type": "markdown",
   "metadata": {},
   "source": [
    "Okay, so let's get our data and set it up in a format our network can understand!"
   ]
  },
  {
   "cell_type": "markdown",
   "metadata": {},
   "source": [
    "![](setup_data_FFNN.png)"
   ]
  },
  {
   "cell_type": "markdown",
   "metadata": {},
   "source": [
    "![](setup_data_FFNN_part2.png)"
   ]
  },
  {
   "cell_type": "markdown",
   "metadata": {},
   "source": [
    "Next, we have to build our model..."
   ]
  },
  {
   "cell_type": "markdown",
   "metadata": {},
   "source": [
    "![](build_FFNN_model.png)"
   ]
  },
  {
   "cell_type": "markdown",
   "metadata": {},
   "source": [
    "![](build_FFNN_model_2.png)"
   ]
  },
  {
   "cell_type": "markdown",
   "metadata": {},
   "source": [
    "Here's the part everyone always talks about, training!"
   ]
  },
  {
   "cell_type": "markdown",
   "metadata": {},
   "source": [
    "![](train_FFNN.png)"
   ]
  },
  {
   "cell_type": "markdown",
   "metadata": {},
   "source": [
    "![](train_FFNN_2.png)"
   ]
  },
  {
   "cell_type": "markdown",
   "metadata": {},
   "source": [
    "![](train_FFNN_3.png)"
   ]
  },
  {
   "cell_type": "markdown",
   "metadata": {},
   "source": [
    "And finally here you can see the results of our training!"
   ]
  },
  {
   "cell_type": "markdown",
   "metadata": {},
   "source": [
    "![](results_FFNN.png)"
   ]
  },
  {
   "cell_type": "markdown",
   "metadata": {},
   "source": [
    "![](ff_graph.png)"
   ]
  },
  {
   "cell_type": "markdown",
   "metadata": {},
   "source": [
    "As you can see we got <b>98%</b> accuracy, which is really quite good!"
   ]
  },
  {
   "cell_type": "markdown",
   "metadata": {},
   "source": [
    "#### <b>Let's play some poker against the Feed-Forward Neural Network! :</b>"
   ]
  },
  {
   "cell_type": "markdown",
   "metadata": {},
   "source": [
    "All of this work and no fun? Time to see what the above code can really do in a game against yourself in a slightly more tangible example.\n",
    "\n",
    "Please note that the neural network knows how to classify hands, this means it can look at 5 cards and tell you if the hand is a high card, 2 of a kind, royal flush, etc. \n",
    "\n",
    "All decision making based on what the neural network says the hand is has been hard coded.\n",
    "\n",
    "Don't worry about the following code blocks, just double click on them one at a time and then press cntrl+enter and the game will begin!"
   ]
  },
  {
   "cell_type": "markdown",
   "metadata": {},
   "source": [
    "Setup game:"
   ]
  },
  {
   "cell_type": "code",
   "execution_count": 143,
   "metadata": {},
   "outputs": [],
   "source": [
    "from treys import Deck,Card,Evaluator\n",
    "import keras\n",
    "import pandas as pd\n",
    "import numpy as np\n",
    "from keras.models import load_model"
   ]
  },
  {
   "cell_type": "code",
   "execution_count": 147,
   "metadata": {},
   "outputs": [],
   "source": [
    "deck=Deck()\n",
    "evaluator=Evaluator()\n",
    "trans = {'Ah': [1,1], '2h': [1,2], '3h': [1,3], '4h': [1,4],'5h': [1,5], '6h': [1,6], '7h': [1,7], '8h': [1,8], '9h': [1,9], 'Th': [1,10],'Jh': [1,11], 'Qh': [1,12], 'Kh': [1,13],\n",
    "        'As': [2,1], '2s': [2,2], '3s': [2,3], '4s': [2,4],'5s': [2,5], '6s': [2,6], '7s': [2,7], '8s': [2,8], '9s': [2,9], 'Ts': [2,10],'Js': [2,11], 'Qs': [2,12], 'Ks': [2,13],\n",
    "        'Ad': [3,1], '2d': [3,2], '3d': [3,3], '4d': [3,4],'5d': [3,5], '6d': [3,6], '7d': [3,7], '8d': [3,8], '9d': [3,9], 'Td': [3,10],'Jd': [3,11], 'Qd': [3,12], 'Kd': [3,13],\n",
    "        'Ac': [4,1], '2c': [4,2], '3c': [4,3], '4c': [4,4],'5c': [4,5], '6c': [4,6], '7c': [4,7], '8c': [4,8], '9c': [4,9], 'Tc': [4,10],'Jc': [4,11], 'Qc': [4,12], 'Kc': [4,13]\n",
    "        } #dict creation"
   ]
  },
  {
   "cell_type": "markdown",
   "metadata": {},
   "source": [
    "Get and show initial hands:"
   ]
  },
  {
   "cell_type": "code",
   "execution_count": 148,
   "metadata": {},
   "outputs": [
    {
     "name": "stdout",
     "output_type": "stream",
     "text": [
      "Your hand: \n",
      " [3\u001b[31m♥\u001b[0m],[4\u001b[31m♥\u001b[0m],[6\u001b[31m♦\u001b[0m],[8♣],[K♣] \n"
     ]
    }
   ],
   "source": [
    "player1_hand=deck.draw(5) #draw initial hands\n",
    "nn_hand=deck.draw(5)\n",
    "\n",
    "player1_hand.sort()\n",
    "\n",
    "print (\"Your hand: \")# prints initial hands\n",
    "Card.print_pretty_cards(player1_hand)"
   ]
  },
  {
   "cell_type": "markdown",
   "metadata": {},
   "source": [
    "Please specify which cards you would like to discard.\n",
    "\n",
    "Your cards are ordered 0-4 from left to right."
   ]
  },
  {
   "cell_type": "code",
   "execution_count": 149,
   "metadata": {},
   "outputs": [
    {
     "name": "stdout",
     "output_type": "stream",
     "text": [
      "Please enter yes or no to indicate your choice:\n",
      "Would you like to discard your card at position 0? \n",
      "\n",
      "Would you like to discard your card at position 1? \n",
      "\n",
      "Would you like to discard your card at position 2? \n",
      "\n",
      "Would you like to discard your card at position 3? \n",
      "\n",
      "Would you like to discard your card at position 4? \n",
      "\n",
      "Your current hand is: \n",
      "\n",
      " [K\u001b[31m♥\u001b[0m],[2\u001b[31m♥\u001b[0m],[Q\u001b[31m♦\u001b[0m],[Q♠],[3♠] \n"
     ]
    }
   ],
   "source": [
    "new_hand=[0,0,0,0,0]\n",
    "print('Please enter yes or no to indicate your choice:')\n",
    "print('Would you like to discard your card at position 0?','\\n')\n",
    "zero=input()\n",
    "print('Would you like to discard your card at position 1?','\\n')\n",
    "one=input()\n",
    "print('Would you like to discard your card at position 2?','\\n')\n",
    "two=input()\n",
    "print('Would you like to discard your card at position 3?','\\n')\n",
    "three=input()\n",
    "print('Would you like to discard your card at position 4?','\\n')\n",
    "four=input()\n",
    "\n",
    "\n",
    "if(zero.lower()=='yes'):\n",
    "    new_hand[0]=deck.draw(1)\n",
    "if(one.lower()=='yes'):\n",
    "    new_hand[1]=deck.draw(1)\n",
    "if(two.lower()=='yes'):\n",
    "    new_hand[2]=deck.draw(1)\n",
    "if(three.lower()=='yes'):\n",
    "    new_hand[3]=deck.draw(1)\n",
    "if(four.lower()=='yes'):\n",
    "    new_hand[4]=deck.draw(1)\n",
    "\n",
    "for i in range(0,5):\n",
    "    if(new_hand[i]!=0):\n",
    "        player1_hand[i]=new_hand[i]        \n",
    "\n",
    "print(\"Your current hand is:\" ,'\\n')\n",
    "Card.print_pretty_cards(player1_hand)\n"
   ]
  },
  {
   "cell_type": "markdown",
   "metadata": {},
   "source": [
    "#### Note: You might want to wait ~20 seconds for the code in this next cell to finish..."
   ]
  },
  {
   "cell_type": "code",
   "execution_count": 150,
   "metadata": {},
   "outputs": [],
   "source": [
    "#determine what the NN thinks of the hand\n",
    "hand_for_nn=[]\n",
    "for i in range(0,5):\n",
    "    hand_for_nn=(hand_for_nn+trans[Card.int_to_str(nn_hand[i])])\n",
    "\n",
    "    \n",
    "    \n",
    "model = load_model('demo/ffbnn.h5') #ffbnn.h5 is feed forward NN\n",
    "\n",
    "handarray = np.array([hand_for_nn]) #convert hand to np array for input\n",
    "\n",
    "preds = model.predict(handarray) #calculates probabilities of each class from NN\n",
    "\n",
    "label=np.argmax(preds)\n",
    "\n",
    "#if nothing in hand\n",
    "if (label==0):\n",
    "    \n",
    "    new_hand=deck.draw(5)#draw 5 new cards\n",
    "    \n",
    "    \n",
    "#if one pair\n",
    "if (label==1):\n",
    "    nn_hand.sort() #sort arr by val\n",
    "    \n",
    "    \n",
    "    cards_to_keep=[0,0] #array where will store the cards from hand to keep, init as strings for testing\n",
    "    new_hand=[0,0] #actual arr where cards will be stored as their int encodings\n",
    "    count=2\n",
    "    for i in range(0,4):\n",
    "        current=Card.int_to_str(nn_hand[i]) #get card as str\n",
    "        current_num=nn_hand[i]\n",
    "        for x in range(0,5):\n",
    "            if (x!=i): #if we're not on the card we are checking for a match for\n",
    "                check=Card.int_to_str(nn_hand[x]) #get card to check against current\n",
    "                check_num=nn_hand[x]\n",
    "                if(check[0]==current[0]): #if the cards have the same value aka are a pair\n",
    "                    cards_to_keep[0]=check\n",
    "                    cards_to_keep[1]=current\n",
    "                    \n",
    "                    new_hand[0]=check_num \n",
    "                    new_hand[1]=current_num\n",
    "                    \n",
    "                    \n",
    "                    \n",
    "    draw_3=deck.draw(3)#draw 3 new cards\n",
    "    new_hand=new_hand+draw_3 #add the 3 new cards to the hand, keeping the pairs\n",
    "                    \n",
    "    Card.print_pretty_cards(new_hand)\n",
    "    #for y in range(0,5):\n",
    "     #   print(Card.int_to_str(new_hand[y]))\n",
    "                \n",
    "            \n",
    "if (label==2): #two pairs\n",
    "    \n",
    "    \n",
    "   \n",
    "    \n",
    "    nn_hand.sort() #sort arr by val\n",
    "    \n",
    "    cards_to_keep=[0,0,0,0] #array where will store the cards from hand to keep, init as strings for testing\n",
    "    new_hand=[0,0,0,0] #actual arr where cards will be stored as their int encodings\n",
    "    count=0\n",
    "    has_1_pair=0\n",
    "    for i in range(0,4):\n",
    "        current=Card.int_to_str(nn_hand[i]) #get card as str\n",
    "        current_num=nn_hand[i]\n",
    "        if(i==4):\n",
    "            break\n",
    "        for x in range(0,5):\n",
    "            if (x!=i): #if we're not on the card we are checking for a match for\n",
    "                check=Card.int_to_str(nn_hand[x]) #get card to check against current\n",
    "                check_num=nn_hand[x]\n",
    "                if(check[0]==current[0] and (check_num!=new_hand[0] and check_num!=new_hand[1])): #if the cards have the same value aka are a pair \n",
    "                    for y in range(0,4):\n",
    "                        if (check_num not in new_hand): #man python is nice\n",
    "                            cards_to_keep[count]=check\n",
    "                            new_hand[count]=check_num\n",
    "                            count+=1\n",
    "                            cards_to_keep[count]=current\n",
    "                            new_hand[count]=current_num\n",
    "                            count+=1\n",
    "                            #print(len(new_hand))\n",
    "                    \n",
    "                   \n",
    "    draw_1=deck.draw(1)#draw 1 new card\n",
    "    drawn=[draw_1]\n",
    "    new_hand=new_hand+drawn #add the new card to the hand, keeping the pairs\n",
    "                \n",
    "    \n",
    "    \n",
    "if (label==3): #three of a kind\n",
    "    nn_hand.sort() #sort arr by val\n",
    "   \n",
    "    cards_to_keep=[0,0,0] #array where will store the cards from hand to keep, init as strings for testing\n",
    "    new_hand=[0,0,0] #actual arr where cards will be stored as their int encodings\n",
    "    count=0\n",
    "    for i in range(0,4):\n",
    "        current=Card.int_to_str(nn_hand[i]) #get card as str\n",
    "        current_num=nn_hand[i]\n",
    "        for x in range(0,4):\n",
    "            if (x!=i): #if we're not on the card we are checking for a match for\n",
    "                check=Card.int_to_str(nn_hand[x]) #get card to check against current\n",
    "                check_num=nn_hand[x]\n",
    "                if(check[0]==current[0]): #if the cards have the same value aka are a pair\n",
    "                    cards_to_keep[0]=check\n",
    "                    cards_to_keep[1]=current\n",
    "                    \n",
    "                    new_hand[0]=check_num \n",
    "                    new_hand[1]=current_num\n",
    "                   \n",
    "                    \n",
    "                    #find third card\n",
    "                    for y in range(0,5):\n",
    "                        check2=Card.int_to_str(nn_hand[y])\n",
    "                        if(check2[0]==current[0] and (check2[1]!=check[1] and check2[1]!=current[1])): #if card is same val as other 2 and not already in the list to keep #can also use not in list\n",
    "                            store=nn_hand[y]\n",
    "                            \n",
    "                            new_hand[2]=new_hand[1]\n",
    "                            new_hand[1]=store\n",
    "                            cards_to_keep[2]=check2\n",
    "                    \n",
    "                    \n",
    "                   \n",
    "    draw_2=deck.draw(2)#draw 2 new cards\n",
    "    new_hand=new_hand+draw_2 #add the 2 new cards to the hand, keeping the pairs\n",
    "    \n",
    "   \n",
    "    \n",
    "\n",
    "if(label>3):\n",
    "    print(\"\")"
   ]
  },
  {
   "cell_type": "code",
   "execution_count": 151,
   "metadata": {},
   "outputs": [
    {
     "name": "stdout",
     "output_type": "stream",
     "text": [
      "YOU win!\n",
      "Player1 hand: \n",
      " [K\u001b[31m♥\u001b[0m],[2\u001b[31m♥\u001b[0m],[Q\u001b[31m♦\u001b[0m],[Q♠],[3♠] \n",
      "NN hand: \n",
      " [J\u001b[31m♥\u001b[0m],[6♠],[A♠],[3♣],[7\u001b[31m♥\u001b[0m] \n"
     ]
    }
   ],
   "source": [
    "#using rankings of evaluator from Treys to determine winner\n",
    "\n",
    "#get scores\n",
    "player1_score=evaluator._five(player1_hand)\n",
    "nn_score=evaluator._five(new_hand)\n",
    "\n",
    "if (nn_score<player1_score):\n",
    "    print(\"NN wins!\")\n",
    "else:\n",
    "    print(\"YOU win!\")\n",
    "    \n",
    "print (\"Player1 hand: \")# prints hands\n",
    "Card.print_pretty_cards(player1_hand)\n",
    "\n",
    "print (\"NN hand: \")\n",
    "Card.print_pretty_cards(new_hand)"
   ]
  },
  {
   "cell_type": "markdown",
   "metadata": {},
   "source": [
    "#### <b>Convolutional Neural Networks:</b>"
   ]
  },
  {
   "cell_type": "markdown",
   "metadata": {},
   "source": [
    "Normally in neural networks the input is a vector, but in Convolutional Neural Networks the input is divided into multiple channels. This input is then used to produce a Convolutional Layer that are then trained through back-propagation.\n",
    "\n",
    "Want to learn more about Convolutional Neural Networks? Visit: https://ujjwalkarn.me/2016/08/11/intuitive-explanation-convnets/"
   ]
  },
  {
   "cell_type": "markdown",
   "metadata": {},
   "source": [
    "#### <b>Our Convolutional Neural Network! :</b>"
   ]
  },
  {
   "cell_type": "markdown",
   "metadata": {},
   "source": [
    "Again, we won't be training any network in this demo because it can take an obscene amount of time, so screenshots of the process will be provided. "
   ]
  },
  {
   "cell_type": "markdown",
   "metadata": {},
   "source": [
    "Setting up the data:"
   ]
  },
  {
   "cell_type": "markdown",
   "metadata": {},
   "source": [
    "![](setup_data_CNN-V2.png)"
   ]
  },
  {
   "cell_type": "markdown",
   "metadata": {},
   "source": [
    "Build the CNN model:"
   ]
  },
  {
   "cell_type": "markdown",
   "metadata": {},
   "source": [
    "![](build_CNN_model-V2.png)"
   ]
  },
  {
   "cell_type": "markdown",
   "metadata": {},
   "source": [
    "![](build_CNN_model-V2-PARA.png)"
   ]
  },
  {
   "cell_type": "markdown",
   "metadata": {},
   "source": [
    "Time to do the training!"
   ]
  },
  {
   "cell_type": "markdown",
   "metadata": {},
   "source": [
    "![](train_CNN-V2.png)"
   ]
  },
  {
   "cell_type": "markdown",
   "metadata": {},
   "source": [
    "![](train_CNN-V2_2.png)"
   ]
  },
  {
   "cell_type": "markdown",
   "metadata": {},
   "source": [
    "Results:"
   ]
  },
  {
   "cell_type": "markdown",
   "metadata": {},
   "source": [
    "![](results_CNN-V2.png)"
   ]
  },
  {
   "cell_type": "markdown",
   "metadata": {},
   "source": [
    "![title](CNN_graph-V2.png)"
   ]
  },
  {
   "cell_type": "markdown",
   "metadata": {},
   "source": [
    "As you can see, this performed <b>marginally</b> worse than the Feed-Forward Neural Network."
   ]
  },
  {
   "cell_type": "markdown",
   "metadata": {},
   "source": [
    "#### <b>Let's play some poker against the Convolutional Neural Network! :</b>"
   ]
  },
  {
   "cell_type": "markdown",
   "metadata": {},
   "source": [
    "Time to take on another AI.\n",
    "\n",
    "Remember it plays the game in the same way as the Feed-Forward Neural Network."
   ]
  },
  {
   "cell_type": "code",
   "execution_count": 152,
   "metadata": {},
   "outputs": [],
   "source": [
    "from treys import Deck,Card,Evaluator\n",
    "import keras\n",
    "import pandas as pd\n",
    "import numpy as np\n",
    "from keras.models import load_model\n",
    "\n",
    "deck=Deck()\n",
    "evaluator=Evaluator()\n",
    "trans = {'Ah': [1,1], '2h': [1,2], '3h': [1,3], '4h': [1,4],'5h': [1,5], '6h': [1,6], '7h': [1,7], '8h': [1,8], '9h': [1,9], 'Th': [1,10],'Jh': [1,11], 'Qh': [1,12], 'Kh': [1,13],\n",
    "        'As': [2,1], '2s': [2,2], '3s': [2,3], '4s': [2,4],'5s': [2,5], '6s': [2,6], '7s': [2,7], '8s': [2,8], '9s': [2,9], 'Ts': [2,10],'Js': [2,11], 'Qs': [2,12], 'Ks': [2,13],\n",
    "        'Ad': [3,1], '2d': [3,2], '3d': [3,3], '4d': [3,4],'5d': [3,5], '6d': [3,6], '7d': [3,7], '8d': [3,8], '9d': [3,9], 'Td': [3,10],'Jd': [3,11], 'Qd': [3,12], 'Kd': [3,13],\n",
    "        'Ac': [4,1], '2c': [4,2], '3c': [4,3], '4c': [4,4],'5c': [4,5], '6c': [4,6], '7c': [4,7], '8c': [4,8], '9c': [4,9], 'Tc': [4,10],'Jc': [4,11], 'Qc': [4,12], 'Kc': [4,13]\n",
    "        } #dict creation"
   ]
  },
  {
   "cell_type": "code",
   "execution_count": 153,
   "metadata": {},
   "outputs": [
    {
     "name": "stdout",
     "output_type": "stream",
     "text": [
      "Your hand: \n",
      " [J♣],[3\u001b[31m♥\u001b[0m],[5♠],[T♣],[J\u001b[31m♥\u001b[0m] \n"
     ]
    }
   ],
   "source": [
    "player1_hand=deck.draw(5) #draw initial hands\n",
    "nn_hand=deck.draw(5)\n",
    "\n",
    "print (\"Your hand: \")# prints initial hands\n",
    "Card.print_pretty_cards(player1_hand)"
   ]
  },
  {
   "cell_type": "markdown",
   "metadata": {},
   "source": [
    "Please specify which cards you would like to discard.\n",
    "\n",
    "Your cards are ordered 0-4 from left to right."
   ]
  },
  {
   "cell_type": "code",
   "execution_count": 154,
   "metadata": {},
   "outputs": [
    {
     "name": "stdout",
     "output_type": "stream",
     "text": [
      "Please enter yes or no to indicate your choice:\n",
      "Would you like to discard your card at position 0? \n",
      "\n",
      "Would you like to discard your card at position 1? \n",
      "\n",
      "Would you like to discard your card at position 2? \n",
      "\n",
      "Would you like to discard your card at position 3? \n",
      "\n",
      "Would you like to discard your card at position 4? \n",
      "\n",
      "Your current hand is: \n",
      "\n",
      " [2\u001b[31m♥\u001b[0m],[3♣],[6♣],[T♠],[K♣] \n"
     ]
    }
   ],
   "source": [
    "new_hand=[0,0,0,0,0]\n",
    "print('Please enter yes or no to indicate your choice:')\n",
    "print('Would you like to discard your card at position 0?','\\n')\n",
    "zero=input()\n",
    "print('Would you like to discard your card at position 1?','\\n')\n",
    "one=input()\n",
    "print('Would you like to discard your card at position 2?','\\n')\n",
    "two=input()\n",
    "print('Would you like to discard your card at position 3?','\\n')\n",
    "three=input()\n",
    "print('Would you like to discard your card at position 4?','\\n')\n",
    "four=input()\n",
    "if(zero.lower()=='yes'):\n",
    "    new_hand[0]=deck.draw(1)\n",
    "if(one.lower()=='yes'):\n",
    "    new_hand[1]=deck.draw(1)\n",
    "if(two.lower()=='yes'):\n",
    "    new_hand[2]=deck.draw(1)\n",
    "if(three.lower()=='yes'):\n",
    "    new_hand[3]=deck.draw(1)\n",
    "if(four.lower()=='yes'):\n",
    "    new_hand[4]=deck.draw(1)\n",
    "\n",
    "for i in range(0,5):\n",
    "    if(new_hand[i]!=0):\n",
    "        player1_hand[i]=new_hand[i]        \n",
    "\n",
    "print(\"Your current hand is:\" ,'\\n')\n",
    "Card.print_pretty_cards(player1_hand)"
   ]
  },
  {
   "cell_type": "markdown",
   "metadata": {},
   "source": [
    "#### Note: You might want to wait ~20 seconds for the code in this next cell to finish..."
   ]
  },
  {
   "cell_type": "code",
   "execution_count": 155,
   "metadata": {},
   "outputs": [],
   "source": [
    "#determine what the CNN thinks of the hand\n",
    "hand_for_nn2=[]\n",
    "for i in range(0,5):\n",
    "    hand_for_nn2=(hand_for_nn2+trans[Card.int_to_str(nn_hand[i])])\n",
    "\n",
    "    \n",
    "    \n",
    "model2 = load_model('demo/cnn.h5') #ffbnn.h5 is feed forward NN\n",
    "\n",
    "handarray2 = np.array([hand_for_nn2]) #convert hand to np array for input\n",
    "    \n",
    "    \n",
    "handarray2_t = handarray2[:,:,None]\n",
    "    \n",
    "handarray2_t.reshape(handarray2.shape[0],handarray2.shape[1],1)\n",
    "   \n",
    "preds2 = model2.predict(handarray2_t) #calculates probabilities of each class from NN\n",
    "\n",
    "label=np.argmax(preds2)\n",
    "\n",
    "#if nothing in hand\n",
    "if (label==0):\n",
    "    \n",
    "    new_hand=deck.draw(5)#draw 5 new cards\n",
    "    \n",
    "    \n",
    "#if one pair\n",
    "if (label==1):\n",
    "    nn_hand.sort() #sort arr by val\n",
    "\n",
    "    cards_to_keep=[0,0] #array where will store the cards from hand to keep, init as strings for testing\n",
    "    new_hand=[0,0] #actual arr where cards will be stored as their int encodings\n",
    "    count=2\n",
    "    for i in range(0,4):\n",
    "        current=Card.int_to_str(nn_hand[i]) #get card as str\n",
    "        current_num=nn_hand[i]\n",
    "        for x in range(0,5):\n",
    "            if (x!=i): #if we're not on the card we are checking for a match for\n",
    "                check=Card.int_to_str(nn_hand[x]) #get card to check against current\n",
    "                check_num=nn_hand[x]\n",
    "                if(check[0]==current[0]): #if the cards have the same value aka are a pair\n",
    "                    cards_to_keep[0]=check\n",
    "                    cards_to_keep[1]=current\n",
    "                    \n",
    "                    new_hand[0]=check_num \n",
    "                    new_hand[1]=current_num\n",
    "                    \n",
    "                    \n",
    "                    \n",
    "    draw_3=deck.draw(3)#draw 3 new cards\n",
    "    new_hand=new_hand+draw_3 #add the 3 new cards to the hand, keeping the pairs\n",
    "                \n",
    "            \n",
    "if (label==2): #two pairs\n",
    "    \n",
    "    \n",
    "   \n",
    "    \n",
    "    nn_hand.sort() #sort arr by val\n",
    "    \n",
    "    cards_to_keep=[0,0,0,0] #array where will store the cards from hand to keep, init as strings for testing\n",
    "    new_hand=[0,0,0,0] #actual arr where cards will be stored as their int encodings\n",
    "    count=0\n",
    "    has_1_pair=0\n",
    "    for i in range(0,4):\n",
    "        current=Card.int_to_str(nn_hand[i]) #get card as str\n",
    "        current_num=nn_hand[i]\n",
    "        if(i==4):\n",
    "            break\n",
    "        for x in range(0,5):\n",
    "            if (x!=i): #if we're not on the card we are checking for a match for\n",
    "                check=Card.int_to_str(nn_hand[x]) #get card to check against current\n",
    "                check_num=nn_hand[x]\n",
    "                if(check[0]==current[0] and (check_num!=new_hand[0] and check_num!=new_hand[1])): #if the cards have the same value aka are a pair \n",
    "                    for y in range(0,4):\n",
    "                        if (check_num not in new_hand): #man python is nice\n",
    "                            cards_to_keep[count]=check\n",
    "                            new_hand[count]=check_num\n",
    "                            count+=1\n",
    "                            cards_to_keep[count]=current\n",
    "                            new_hand[count]=current_num\n",
    "                            count+=1\n",
    "                            #print(len(new_hand))\n",
    "                    \n",
    "                   \n",
    "    draw_1=deck.draw(1)#draw 1 new card\n",
    "    drawn=[draw_1]\n",
    "    new_hand=new_hand+drawn #add the new card to the hand, keeping the pairs\n",
    "    \n",
    "    \n",
    "if (label==3): #three of a kind\n",
    "    nn_hand.sort() #sort arr by val\n",
    "    \n",
    "    cards_to_keep=[0,0,0] #array where will store the cards from hand to keep, init as strings for testing\n",
    "    new_hand=[0,0,0] #actual arr where cards will be stored as their int encodings\n",
    "    count=0\n",
    "    for i in range(0,4):\n",
    "        current=Card.int_to_str(nn_hand[i]) #get card as str\n",
    "        current_num=nn_hand[i]\n",
    "        for x in range(0,4):\n",
    "            if (x!=i): #if we're not on the card we are checking for a match for\n",
    "                check=Card.int_to_str(nn_hand[x]) #get card to check against current\n",
    "                check_num=nn_hand[x]\n",
    "                if(check[0]==current[0]): #if the cards have the same value aka are a pair\n",
    "                    cards_to_keep[0]=check\n",
    "                    cards_to_keep[1]=current\n",
    "                    \n",
    "                    new_hand[0]=check_num \n",
    "                    new_hand[1]=current_num\n",
    "                   \n",
    "                    \n",
    "                    #find third card\n",
    "                    for y in range(0,5):\n",
    "                        check2=Card.int_to_str(nn_hand[y])\n",
    "                        if(check2[0]==current[0] and (check2[1]!=check[1] and check2[1]!=current[1])): #if card is same val as other 2 and not already in the list to keep #can also use not in list\n",
    "                            store=nn_hand[y]\n",
    "                            \n",
    "                            new_hand[2]=new_hand[1]\n",
    "                            new_hand[1]=store\n",
    "                            cards_to_keep[2]=check2\n",
    "                    \n",
    "                    \n",
    "                   \n",
    "    draw_2=deck.draw(2)#draw 2 new cards\n",
    "    new_hand=new_hand+draw_2 #add the 2 new cards to the hand, keeping the pairs\n",
    "    \n",
    "   \n",
    "    \n",
    "\n",
    "if(label>3):\n",
    "    print(\"\")"
   ]
  },
  {
   "cell_type": "code",
   "execution_count": 156,
   "metadata": {},
   "outputs": [
    {
     "name": "stdout",
     "output_type": "stream",
     "text": [
      "NN wins!\n",
      "Player1 hand: \n",
      " [2\u001b[31m♥\u001b[0m],[3♣],[6♣],[T♠],[K♣] \n",
      "NN hand: \n",
      " [7\u001b[31m♥\u001b[0m],[5\u001b[31m♦\u001b[0m],[8\u001b[31m♦\u001b[0m],[K\u001b[31m♦\u001b[0m],[8♠] \n"
     ]
    }
   ],
   "source": [
    "#using rankings of evaluator from Treys to determine winner\n",
    "\n",
    "#get scores\n",
    "player1_score=evaluator._five(player1_hand)\n",
    "nn_score=evaluator._five(new_hand)\n",
    "\n",
    "if (nn_score<player1_score):\n",
    "    print(\"NN wins!\")\n",
    "else:\n",
    "    print(\"YOU win!\")\n",
    "    \n",
    "print (\"Player1 hand: \")# prints hands\n",
    "Card.print_pretty_cards(player1_hand)\n",
    "\n",
    "print (\"NN hand: \")\n",
    "Card.print_pretty_cards(new_hand)"
   ]
  },
  {
   "cell_type": "markdown",
   "metadata": {},
   "source": [
    "#### <b>How do these Neural Networks perform against each other? :</b>"
   ]
  },
  {
   "cell_type": "markdown",
   "metadata": {},
   "source": [
    "We ran <b>1000</b> poker games net vs net and determined which neural network performed better with our poker game, check out the results below!"
   ]
  },
  {
   "cell_type": "markdown",
   "metadata": {},
   "source": [
    "![](net_v_net.png)"
   ]
  },
  {
   "cell_type": "markdown",
   "metadata": {},
   "source": [
    "It seem like that <b>marginal</b> difference in accuracy, less than <b>0.5%</b> lead to <b>4.5%</b> better performance in \"the real world\"! This actually makes a great case for fighting for every little sliver of accuracy when training neural networks.\n",
    "\n",
    "In the end, we found that both Feed-Forward and Convolutional Neural Networks performed well at the task of classifying poker hands, but had a bit more success with the Feed-Forward Neural Network."
   ]
  }
 ],
 "metadata": {
  "kernelspec": {
   "display_name": "Python 3",
   "language": "python",
   "name": "python3"
  },
  "language_info": {
   "codemirror_mode": {
    "name": "ipython",
    "version": 3
   },
   "file_extension": ".py",
   "mimetype": "text/x-python",
   "name": "python",
   "nbconvert_exporter": "python",
   "pygments_lexer": "ipython3",
   "version": "3.5.3"
  }
 },
 "nbformat": 4,
 "nbformat_minor": 2
}
