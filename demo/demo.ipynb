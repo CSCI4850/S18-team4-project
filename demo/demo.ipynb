{
 "cells": [
  {
   "cell_type": "code",
   "execution_count": 6,
   "metadata": {},
   "outputs": [],
   "source": [
    "#TODO:\n",
    "\n",
    "#URLS for data sets links\n",
    "\n",
    "#shell commands/ info on how to use demo materials\n",
    "\n",
    "#Explanation/ showing of FF NN, probably intro FFNN succienctly, and link to more\n",
    "\n",
    "#play against FF NN\n",
    "\n",
    "#explanation/ Showing of CNN, probably intro CNN succienctly, and link to more\n",
    "\n",
    "#play against CNN\n",
    "\n",
    "#game of CNN vs FFNN\n",
    "\n",
    "#stats of 1000 games played CNN vs FFNN\n",
    "\n",
    "#other?\n",
    "\n",
    "#should be ~10min of time to go thru this for someone who doesn't know about NN, but is CS\n",
    "\n",
    "#Rubric\n",
    "#1. Do you utilize the README.md and linked materials to provide necessary prerequisite information (including installation help) at the\n",
    "#start of the demo? (5 points)\n",
    "\n",
    "#2. Is the motivation for the demo clearly indicated to the user (why will it be helpful for the user to understand what your team has\n",
    "#accomplished)? (20 points)\n",
    "\n",
    "#3. Does your demo provide a succinct set of steps which can be run within a 10-minute timeframe for unfamiliar users to run your\n",
    "#demo and generate results? (30 points)\n",
    "\n",
    "#4. Are your results clearly presented back to the user in a way that allows them to understand what they mean? (15 points)\n",
    "\n",
    "#5. Do the results clearly back up the main aim(s) of your project? (10 points)\n",
    "\n",
    "#####################PROVIDE PDF IN FOLDER of FULLY PLAYED DEMO GAMES, ETC."
   ]
  },
  {
   "cell_type": "markdown",
   "metadata": {},
   "source": [
    "# <b>Comparing Feed-Forward and Convolutional Neural Networks by Training Poker AIs</b>"
   ]
  },
  {
   "cell_type": "markdown",
   "metadata": {},
   "source": [
    "#### <b>Introduction:</b>"
   ]
  },
  {
   "cell_type": "markdown",
   "metadata": {},
   "source": [
    "Poker has always shown itself to be a challenging way to test one's luck and grit against odds that are exceptionally low. There are many different variants that slightly alter the odds. The poker variant 5 card draw has 2,598,960 different hand combinations in a standard 52 card deck. With this many possible hands it is easy to see how difficult it could be to get even a decent hand in a single 5 card draw. The reason that these odds do not hinder most players is that even a terrible hand has a chance to win with a good bluff. Great human poker players have learned when to bluff and how to tell when another player is bluffing. In order to compete, computerized robot players must focus on a categorical approach based on the odds and significant training. The overall aim of our project is to discover which techniques and neural networks performed the best at classifying poker hands.\n",
    "\n",
    "Our team trained two different types of Neural Networks and compared their performance in order to assess which was superior for the problem at hand. We will be going over them and learning about them in brief in this demo."
   ]
  },
  {
   "cell_type": "markdown",
   "metadata": {},
   "source": [
    "#### <b>Installation:</b>"
   ]
  },
  {
   "cell_type": "markdown",
   "metadata": {},
   "source": [
    "In the event that you are the explorative type and ended up here before you read the readme, here are some quick steps to get going with this interactive demo:\n",
    "\n",
    "  <b>Step 1:</b> Install Jupyter here - http://jupyter.readthedocs.io/en/latest/install.html\n",
    "\n",
    "  <b>Step 2:</b> Install the package Treys here - https://github.com/ihendley/treys/tree/master/treys\n",
    "  \n",
    "  This will be used to handle our deck of cards and other related things.\n",
    "\n",
    "  <b>Step 3:</b> Make a local copy of this repo.\n"
   ]
  },
  {
   "cell_type": "markdown",
   "metadata": {},
   "source": [
    "#### <b>How does this Jupyter Notebook thing work?:</b>"
   ]
  },
  {
   "cell_type": "markdown",
   "metadata": {},
   "source": [
    "Jupyter notebooks work almost the exact same way as a normal programming environment, with one very big yet simple difference. In a Jupyter Notebook everything is divided into modular cells, so you can just run individual segments of code instead of the entire program. All you need to do to run a cell of code is to click on it and then press cntrl-enter.\n",
    "\n",
    "Otherwise everything should be relatively intuative."
   ]
  },
  {
   "cell_type": "markdown",
   "metadata": {},
   "source": [
    "#### <b>What is a Neural Network?:</b>"
   ]
  },
  {
   "cell_type": "markdown",
   "metadata": {},
   "source": [
    "Maureen Caudill succinctly answered this question in 1989 and explained Neural Networks as: \"...a computing system made up of a number of simple, highly interconnected processing elements, which process information by their dynamic state response to external inputs\". -- \"Neural Network Primer: Part I\" by Maureen Caudill, AI Expert, Feb. 1989.\n",
    "\n",
    "Want to learn more? Visit: http://www.explainthatstuff.com/introduction-to-neural-networks.html"
   ]
  },
  {
   "cell_type": "markdown",
   "metadata": {},
   "source": [
    "#### <b>Data:</b>"
   ]
  },
  {
   "cell_type": "markdown",
   "metadata": {},
   "source": [
    "In order to train a Neural Network you must first have a dataset to learn from. Our dataset is available within our repository here: https://github.com/CSCI4850/S18-team4-project/tree/master/data\n",
    "\n",
    "It is simply every possible hand in poker."
   ]
  },
  {
   "cell_type": "markdown",
   "metadata": {},
   "source": [
    "#### <b>Feed-Forward Neural Networks:</b>"
   ]
  },
  {
   "cell_type": "markdown",
   "metadata": {},
   "source": [
    "The first type of Neural Network we trained was a Feed-Forward Neural Network. "
   ]
  }
 ],
 "metadata": {
  "kernelspec": {
   "display_name": "Python 3",
   "language": "python",
   "name": "python3"
  },
  "language_info": {
   "codemirror_mode": {
    "name": "ipython",
    "version": 3
   },
   "file_extension": ".py",
   "mimetype": "text/x-python",
   "name": "python",
   "nbconvert_exporter": "python",
   "pygments_lexer": "ipython3",
   "version": "3.5.3"
  }
 },
 "nbformat": 4,
 "nbformat_minor": 2
}
