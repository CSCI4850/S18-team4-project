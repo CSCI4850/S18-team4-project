{
 "cells": [
  {
   "cell_type": "code",
   "execution_count": 1,
   "metadata": {},
   "outputs": [
    {
     "name": "stderr",
     "output_type": "stream",
     "text": [
      "/home/csci4850/lib/python3.5/site-packages/h5py/__init__.py:36: FutureWarning: Conversion of the second argument of issubdtype from `float` to `np.floating` is deprecated. In future, it will be treated as `np.float64 == np.dtype(float).type`.\n",
      "  from ._conv import register_converters as _register_converters\n",
      "Using TensorFlow backend.\n"
     ]
    }
   ],
   "source": [
    "import numpy as np\n",
    "import keras\n",
    "import pandas\n",
    "\n",
    "from IPython.display import SVG\n",
    "from IPython.display import display\n",
    "from keras.utils.vis_utils import model_to_dot\n",
    "from sympy import *\n",
    "\n",
    "init_printing(use_latex=True)\n",
    "import matplotlib.pyplot as plt\n",
    "%matplotlib inline\n",
    "\n",
    "\"\"\"\n",
    "Attribute Information:\n",
    "\n",
    "0: Nothing in hand; not a recognized poker hand\n",
    "1: One pair; one pair of equal ranks within five cards\n",
    "2: Two pairs; two pairs of equal ranks within five cards\n",
    "3: Three of a kind; three equal ranks within five cards\n",
    "4: Straight; five cards, sequentially ranked with no gaps\n",
    "5: Flush; five cards with the same suit\n",
    "6: Full house; pair + different rank three of a kind\n",
    "7: Four of a kind; four equal ranks within five cards\n",
    "8: Straight flush; straight + flush\n",
    "9: Royal flush; {Ace, King, Queen, Jack, Ten} + flush\n",
    "\n",
    "\n",
    "10 target classes.\n",
    "\"\"\""
   ]
  },
  {
   "cell_type": "code",
   "execution_count": null,
   "metadata": {},
   "outputs": [],
   "source": []
  },
  {
   "cell_type": "code",
   "execution_count": 2,
   "metadata": {},
   "outputs": [
    {
     "name": "stdout",
     "output_type": "stream",
     "text": [
      "(25010, 11) train\n",
      "(1000000, 11) test\n"
     ]
    }
   ],
   "source": [
    "\"\"\"\n",
    "https://archive.ics.uci.edu/ml/datasets/Poker+Hand\n",
    "\"\"\"\n",
    "\n",
    "#you will prob have to change path location to load data.\n",
    "train_path = \"http://archive.ics.uci.edu/ml/machine-learning-databases/poker/poker-hand-training-true.data\"\n",
    "test_path = \"http://archive.ics.uci.edu/ml/machine-learning-databases/poker/poker-hand-testing.data\"\n",
    "\n",
    "#setting attribute info, column names for data set. \n",
    "# S1 refers to Suit of card #1\n",
    "# C1 refers to Rank of card #1 and so on.\n",
    "# see data set attributes (poker-hand.names)\n",
    "column = ['S1', 'C1', 'S2', 'C2', 'S3','C3','S4','C4','S5','C5','class']\n",
    "suit = ['S1','S2','S3','S4','S5']\n",
    "rank = ['C1','C2','C3','C4','C5']\n",
    "_class = ['class']\n",
    "\n",
    "#labeling\n",
    "poker_train = np.array((pandas.read_table(train_path,names=column,\n",
    "                            #delim_whitespace=True,\n",
    "                            header=None,sep =',')))\n",
    "poker_tst = np.array((pandas.read_table(test_path,names=column,\n",
    "                            #delim_whitespace=True,\n",
    "                            header=None,sep =',')))\n",
    "\n",
    "print(poker_train.shape,'train')\n",
    "print(poker_tst.shape,'test')\n",
    "\n",
    "#for each attribute of suit of cards we will convert var into category\n",
    "#this will allow us to do one hot encoding / dummy encoding later on\n",
    "#for i in suit:\n",
    "#    poker_train[i] = poker_train[i].astype('category')\n",
    "#    poker_tst[i] = poker_tst[i].astype('category')\n",
    "# suits are now one hot encoded\n",
    "#poker_train = pandas.get_dummies(poker_train)\n",
    "#poker_tst = pandas.get_dummies(poker_tst)\n",
    "#print(poker_tst.shape)\n",
    "#print(poker_train.shape)\n"
   ]
  },
  {
   "cell_type": "code",
   "execution_count": 3,
   "metadata": {},
   "outputs": [
    {
     "name": "stdout",
     "output_type": "stream",
     "text": [
      "(25010, 10, 1)\n",
      "(25010, 10, 1)\n",
      "_________________________________________________________________\n",
      "Layer (type)                 Output Shape              Param #   \n",
      "=================================================================\n",
      "conv1d_1 (Conv1D)            (None, 3, 512)            4608      \n",
      "_________________________________________________________________\n",
      "conv1d_2 (Conv1D)            (None, 2, 512)            524800    \n",
      "_________________________________________________________________\n",
      "max_pooling1d_1 (MaxPooling1 (None, 1, 512)            0         \n",
      "_________________________________________________________________\n",
      "flatten_1 (Flatten)          (None, 512)               0         \n",
      "_________________________________________________________________\n",
      "dense_1 (Dense)              (None, 512)               262656    \n",
      "_________________________________________________________________\n",
      "dropout_1 (Dropout)          (None, 512)               0         \n",
      "_________________________________________________________________\n",
      "dense_2 (Dense)              (None, 10)                5130      \n",
      "=================================================================\n",
      "Total params: 797,194\n",
      "Trainable params: 797,194\n",
      "Non-trainable params: 0\n",
      "_________________________________________________________________\n"
     ]
    }
   ],
   "source": [
    "#Building MODEL\n",
    "\n",
    "#26 variables, also convert into category and do our one hot encoding.\n",
    "\n",
    "#X = np.array(poker_train.drop('class',axis=1))\n",
    "X = poker_train[:,0:10]\n",
    "labels = poker_train[:,10]\n",
    "#one hot encoding categorical values\n",
    "#get_dummies creates dummy/indicator variables (1 or 0).\n",
    "#Y2 = pandas.get_dummies(poker_train['class'].astype('category'))\n",
    "Y = keras.utils.to_categorical(labels,\n",
    "                               len(np.unique(labels)))\n",
    "#print(Y)\n",
    "#validation set\n",
    "#test_X = np.array(poker_tst.drop('class',axis=1))\n",
    "test_X = poker_tst[:,0:10]\n",
    "olabels = poker_tst[:,10]\n",
    "#test_y2 = pandas.get_dummies(poker_tst['class'].astype('category'))\n",
    "test_Y = keras.utils.to_categorical(olabels,\n",
    "                               len(np.unique(olabels)))\n",
    "tempX = X[:,:,None]\n",
    "tempY = Y[:,:,None]\n",
    "\n",
    "tempX.reshape(X.shape[0],X.shape[1],1)\n",
    "#temp.reshape(temp.shape[0],temp.shape[2],temp.shape[1])\n",
    "\n",
    "tempY.reshape(Y.shape[0],Y.shape[1],1)\n",
    "\n",
    "print(tempX.shape)\n",
    "print(tempY.shape)\n",
    "\n",
    "#######    MODEL ########\n",
    "\n",
    "model = keras.Sequential()\n",
    "model.add(keras.layers.Conv1D(512, kernel_size=(8),\n",
    "        activation='relu',input_shape=[tempX.shape[1],\n",
    "        tempX.shape[2]]))\n",
    "model.add(keras.layers.Conv1D(512, (2), activation='relu'))\n",
    "model.add(keras.layers.MaxPooling1D(pool_size=(2)))\n",
    "model.add(keras.layers.Flatten())\n",
    "model.add(keras.layers.Dense(512, activation='relu'))\n",
    "model.add(keras.layers.Dropout(0.25))\n",
    "model.add(keras.layers.Dense(tempY.shape[1], activation='softmax'))\n",
    "model.compile(loss=keras.losses.categorical_crossentropy,\n",
    "        optimizer=keras.optimizers.Adam(),\n",
    "        metrics=['accuracy'])\n",
    "model.summary()\n"
   ]
  },
  {
   "cell_type": "code",
   "execution_count": 4,
   "metadata": {},
   "outputs": [
    {
     "name": "stdout",
     "output_type": "stream",
     "text": [
      "Train on 16756 samples, validate on 8254 samples\n",
      "Epoch 1/25\n",
      "16756/16756 [==============================] - 10s 588us/step - loss: 1.0228 - acc: 0.4849 - val_loss: 0.9828 - val_acc: 0.4977\n",
      "Epoch 2/25\n",
      "16756/16756 [==============================] - 9s 544us/step - loss: 0.9846 - acc: 0.5058 - val_loss: 0.9675 - val_acc: 0.5309\n",
      "Epoch 3/25\n",
      "16756/16756 [==============================] - 9s 538us/step - loss: 0.9701 - acc: 0.5273 - val_loss: 0.9627 - val_acc: 0.5265\n",
      "Epoch 4/25\n",
      "16756/16756 [==============================] - 9s 544us/step - loss: 0.9562 - acc: 0.5428 - val_loss: 0.9479 - val_acc: 0.5476\n",
      "Epoch 5/25\n",
      "16756/16756 [==============================] - 9s 533us/step - loss: 0.9471 - acc: 0.5579 - val_loss: 0.9379 - val_acc: 0.5531\n",
      "Epoch 6/25\n",
      "16756/16756 [==============================] - 9s 552us/step - loss: 0.9351 - acc: 0.5680 - val_loss: 0.9569 - val_acc: 0.5240\n",
      "Epoch 7/25\n",
      "16756/16756 [==============================] - 9s 541us/step - loss: 0.9250 - acc: 0.5714 - val_loss: 0.9196 - val_acc: 0.5606\n",
      "Epoch 8/25\n",
      "16756/16756 [==============================] - 9s 548us/step - loss: 0.9070 - acc: 0.5864 - val_loss: 0.9369 - val_acc: 0.5550\n",
      "Epoch 9/25\n",
      "16756/16756 [==============================] - 9s 563us/step - loss: 0.8963 - acc: 0.5908 - val_loss: 0.8974 - val_acc: 0.5876\n",
      "Epoch 10/25\n",
      "16756/16756 [==============================] - 9s 545us/step - loss: 0.8779 - acc: 0.6034 - val_loss: 0.8833 - val_acc: 0.5903\n",
      "Epoch 11/25\n",
      "16756/16756 [==============================] - 9s 530us/step - loss: 0.8621 - acc: 0.6166 - val_loss: 0.8658 - val_acc: 0.6083\n",
      "Epoch 12/25\n",
      "16756/16756 [==============================] - 9s 532us/step - loss: 0.8410 - acc: 0.6263 - val_loss: 0.8580 - val_acc: 0.6069\n",
      "Epoch 13/25\n",
      "16756/16756 [==============================] - 9s 525us/step - loss: 0.8188 - acc: 0.6323 - val_loss: 0.8209 - val_acc: 0.6387\n",
      "Epoch 14/25\n",
      "16756/16756 [==============================] - 9s 541us/step - loss: 0.7883 - acc: 0.6536 - val_loss: 0.7815 - val_acc: 0.6596\n",
      "Epoch 15/25\n",
      "16756/16756 [==============================] - 9s 527us/step - loss: 0.7571 - acc: 0.6718 - val_loss: 0.7336 - val_acc: 0.6918\n",
      "Epoch 16/25\n",
      "16756/16756 [==============================] - 9s 535us/step - loss: 0.7099 - acc: 0.6970 - val_loss: 0.6826 - val_acc: 0.7160\n",
      "Epoch 17/25\n",
      "16756/16756 [==============================] - 9s 526us/step - loss: 0.6266 - acc: 0.7431 - val_loss: 0.6198 - val_acc: 0.7453\n",
      "Epoch 18/25\n",
      "16756/16756 [==============================] - 9s 524us/step - loss: 0.5380 - acc: 0.7903 - val_loss: 0.5067 - val_acc: 0.8137\n",
      "Epoch 19/25\n",
      "16756/16756 [==============================] - 9s 527us/step - loss: 0.4658 - acc: 0.8244 - val_loss: 0.4651 - val_acc: 0.8237\n",
      "Epoch 20/25\n",
      "16756/16756 [==============================] - 9s 526us/step - loss: 0.3566 - acc: 0.8704 - val_loss: 0.3380 - val_acc: 0.8805\n",
      "Epoch 21/25\n",
      "16756/16756 [==============================] - 9s 528us/step - loss: 0.3105 - acc: 0.8868 - val_loss: 0.2987 - val_acc: 0.8974\n",
      "Epoch 22/25\n",
      "16756/16756 [==============================] - 9s 525us/step - loss: 0.2575 - acc: 0.9085 - val_loss: 0.2560 - val_acc: 0.9055\n",
      "Epoch 23/25\n",
      "16756/16756 [==============================] - 9s 543us/step - loss: 0.2170 - acc: 0.9243 - val_loss: 0.2661 - val_acc: 0.9043\n",
      "Epoch 24/25\n",
      "16756/16756 [==============================] - 9s 543us/step - loss: 0.1912 - acc: 0.9346 - val_loss: 0.1737 - val_acc: 0.9437\n",
      "Epoch 25/25\n",
      "16756/16756 [==============================] - 10s 586us/step - loss: 0.1403 - acc: 0.9546 - val_loss: 0.1584 - val_acc: 0.9535\n"
     ]
    }
   ],
   "source": [
    "batch_size = 100\n",
    "epochs = 25\n",
    "history = model.fit(tempX,Y,\n",
    "                   batch_size=batch_size,\n",
    "                   epochs=epochs,\n",
    "                   verbose=1,\n",
    "                   validation_split=.33)"
   ]
  },
  {
   "cell_type": "code",
   "execution_count": 5,
   "metadata": {},
   "outputs": [
    {
     "name": "stdout",
     "output_type": "stream",
     "text": [
      "25010/25010 [==============================] - 6s 249us/step\n",
      "Test loss: 0.12084040802354958\n",
      "Test accuracy: 0.9654538184726109\n"
     ]
    }
   ],
   "source": [
    "#   Model Accuracy\n",
    "score = model.evaluate(tempX, Y, verbose=1)\n",
    "print('Test loss:',score[0])\n",
    "print('Test accuracy:',score[1])\n"
   ]
  },
  {
   "cell_type": "code",
   "execution_count": 6,
   "metadata": {},
   "outputs": [
    {
     "data": {
      "image/png": "[encoded data removed]",
      "text/plain": [
       "<matplotlib.figure.Figure at 0x7f22cae52470>"
      ]
     },
     "metadata": {},
     "output_type": "display_data"
    }
   ],
   "source": [
    "#   Plotting\n",
    "plt.figure(1)\n",
    "# summarize history for accuracy\n",
    "plt.subplot(211)\n",
    "plt.plot(history.history['acc'])\n",
    "plt.plot(history.history['val_acc'])\n",
    "plt.title('model accuracy')\n",
    "plt.ylabel('accuracy')\n",
    "plt.xlabel('epoch')\n",
    "plt.legend(['train', 'test'], loc='upper left')\n",
    "\n",
    "# summarize history for loss\n",
    "\n",
    "plt.subplot(212)\n",
    "plt.plot(history.history['loss'])\n",
    "plt.plot(history.history['val_loss'])\n",
    "plt.title('model loss')\n",
    "plt.ylabel('loss')\n",
    "plt.xlabel('epoch')\n",
    "plt.legend(['train', 'test'], loc='upper left')\n",
    "plt.tight_layout()\n",
    "plt.show()"
   ]
  },
  {
   "cell_type": "code",
   "execution_count": 7,
   "metadata": {},
   "outputs": [],
   "source": [
    "model.save('cnn.h5')"
   ]
  },
  {
   "cell_type": "code",
   "execution_count": 8,
   "metadata": {},
   "outputs": [
    {
     "name": "stdout",
     "output_type": "stream",
     "text": [
      "(1, 10, 1) pls_t\n",
      "[[2.0553773e-04 9.9275041e-01 7.0315721e-03 9.1186757e-06 9.3742836e-09\n",
      "  5.4908171e-09 6.6660803e-08 9.0676150e-10 3.3167312e-06 2.3741320e-08]]\n",
      "[[[ 2]\n",
      "  [ 4]\n",
      "  [ 1]\n",
      "  [13]\n",
      "  [ 4]\n",
      "  [ 9]\n",
      "  [ 1]\n",
      "  [ 5]\n",
      "  [ 4]\n",
      "  [13]]]\n",
      "1\n"
     ]
    }
   ],
   "source": [
    "pls = np.array([[ 2 , 4 , 1 , 13 , 4 , 9 , 1 , 5 , 4 , 13]])\n",
    "\n",
    "pls_t = pls[:,:,None]\n",
    "pls_t.reshape(pls.shape[0],pls.shape[1],1)\n",
    "print(pls_t.shape,\"pls_t\")\n",
    "\n",
    "preds = model.predict(pls_t)\n",
    "print(preds)\n",
    "print(pls_t)\n",
    "print(np.argmax(preds))"
   ]
  },
  {
   "cell_type": "code",
   "execution_count": null,
   "metadata": {},
   "outputs": [],
   "source": []
  }
 ],
 "metadata": {
  "kernelspec": {
   "display_name": "Python 3",
   "language": "python",
   "name": "python3"
  },
  "language_info": {
   "codemirror_mode": {
    "name": "ipython",
    "version": 3
   },
   "file_extension": ".py",
   "mimetype": "text/x-python",
   "name": "python",
   "nbconvert_exporter": "python",
   "pygments_lexer": "ipython3",
   "version": "3.5.3"
  }
 },
 "nbformat": 4,
 "nbformat_minor": 2
}
