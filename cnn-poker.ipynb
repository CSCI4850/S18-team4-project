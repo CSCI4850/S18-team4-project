{
 "cells": [
  {
   "cell_type": "code",
   "execution_count": 1,
   "metadata": {},
   "outputs": [
    {
     "name": "stderr",
     "output_type": "stream",
     "text": [
      "/home/csci4850/lib/python3.5/site-packages/h5py/__init__.py:36: FutureWarning: Conversion of the second argument of issubdtype from `float` to `np.floating` is deprecated. In future, it will be treated as `np.float64 == np.dtype(float).type`.\n",
      "  from ._conv import register_converters as _register_converters\n",
      "Using TensorFlow backend.\n"
     ]
    },
    {
     "data": {
      "text/plain": [
       "'\\nAttribute Information:\\n\\n0: Nothing in hand; not a recognized poker hand\\n1: One pair; one pair of equal ranks within five cards\\n2: Two pairs; two pairs of equal ranks within five cards\\n3: Three of a kind; three equal ranks within five cards\\n4: Straight; five cards, sequentially ranked with no gaps\\n5: Flush; five cards with the same suit\\n6: Full house; pair + different rank three of a kind\\n7: Four of a kind; four equal ranks within five cards\\n8: Straight flush; straight + flush\\n9: Royal flush; {Ace, King, Queen, Jack, Ten} + flush\\n\\n\\n10 target classes.\\n'"
      ]
     },
     "execution_count": 1,
     "metadata": {},
     "output_type": "execute_result"
    }
   ],
   "source": [
    "import numpy as np\n",
    "import keras\n",
    "import pandas\n",
    "\n",
    "from IPython.display import SVG\n",
    "from IPython.display import display\n",
    "from keras.utils.vis_utils import model_to_dot\n",
    "from sympy import *\n",
    "\n",
    "init_printing(use_latex=True)\n",
    "import matplotlib.pyplot as plt\n",
    "%matplotlib inline\n",
    "\n",
    "\"\"\"\n",
    "Attribute Information:\n",
    "\n",
    "0: Nothing in hand; not a recognized poker hand\n",
    "1: One pair; one pair of equal ranks within five cards\n",
    "2: Two pairs; two pairs of equal ranks within five cards\n",
    "3: Three of a kind; three equal ranks within five cards\n",
    "4: Straight; five cards, sequentially ranked with no gaps\n",
    "5: Flush; five cards with the same suit\n",
    "6: Full house; pair + different rank three of a kind\n",
    "7: Four of a kind; four equal ranks within five cards\n",
    "8: Straight flush; straight + flush\n",
    "9: Royal flush; {Ace, King, Queen, Jack, Ten} + flush\n",
    "\n",
    "\n",
    "10 target classes.\n",
    "\"\"\""
   ]
  },
  {
   "cell_type": "code",
   "execution_count": 2,
   "metadata": {},
   "outputs": [
    {
     "name": "stdout",
     "output_type": "stream",
     "text": [
      "(25010, 11) train\n",
      "(1000000, 11) test\n",
      "(25010, 26)\n"
     ]
    }
   ],
   "source": [
    "\"\"\"\n",
    "https://archive.ics.uci.edu/ml/datasets/Poker+Hand\n",
    "\"\"\"\n",
    "\n",
    "\"\"\"\n",
    "#you will prob have to change path location to load data.\n",
    "train_path = os.path.join(\"data\",\"poker-hand-training-true.data\")\n",
    "test_path = os.path.join(\"data\",\"poker-hand-testing.data\")\n",
    "\"\"\"\n",
    "\n",
    "train_path = \"http://archive.ics.uci.edu/ml/machine-learning-databases/poker/poker-hand-training-true.data\"\n",
    "test_path = \"http://archive.ics.uci.edu/ml/machine-learning-databases/poker/poker-hand-testing.data\"\n",
    "\n",
    "\n",
    "#setting attribute info, column names for data set. \n",
    "# S1 refers to Suit of card #1\n",
    "# C1 refers to Rank of card #1 and so on.\n",
    "# see data set attributes (poker-hand.names)\n",
    "column = ['S1', 'C1', 'S2', 'C2', 'S3','C3','S4','C4','S5','C5','class']\n",
    "suit = ['S1','S2','S3','S4','S5']\n",
    "rank = ['C1','C2','C3','C4','C5']\n",
    "_class = ['class']\n",
    "\n",
    "\n",
    "#labeling\n",
    "poker_train = (pandas.read_table(train_path,names=column,\n",
    "                            #delim_whitespace=True,\n",
    "                            header=None,sep =','))\n",
    "poker_tst = (pandas.read_table(test_path,names=column,\n",
    "                            #delim_whitespace=True,\n",
    "                            header=None,sep =','))\n",
    "\n",
    "print(poker_train.shape,'train')\n",
    "print(poker_tst.shape,'test')\n",
    "\n",
    "#for each attribute of suit of cards we will convert var into category\n",
    "#this will allow us to do one hot encoding / dummy encoding later on\n",
    "for i in suit:\n",
    "    poker_train[i] = poker_train[i].astype('category')\n",
    "    poker_tst[i] = poker_tst[i].astype('category')\n",
    "    \n",
    "# suits are now one hot encoded\n",
    "poker_train = pandas.get_dummies(poker_train)\n",
    "poker_tst = pandas.get_dummies(poker_tst)\n",
    "\n",
    "print(poker_train.shape)"
   ]
  },
  {
   "cell_type": "code",
   "execution_count": 3,
   "metadata": {},
   "outputs": [
    {
     "name": "stdout",
     "output_type": "stream",
     "text": [
      "_________________________________________________________________\n",
      "Layer (type)                 Output Shape              Param #   \n",
      "=================================================================\n",
      "conv1d_1 (Conv1D)            (None, 18, 256)           2304      \n",
      "_________________________________________________________________\n",
      "conv1d_2 (Conv1D)            (None, 17, 256)           131328    \n",
      "_________________________________________________________________\n",
      "max_pooling1d_1 (MaxPooling1 (None, 8, 256)            0         \n",
      "_________________________________________________________________\n",
      "flatten_1 (Flatten)          (None, 2048)              0         \n",
      "_________________________________________________________________\n",
      "dense_1 (Dense)              (None, 256)               524544    \n",
      "_________________________________________________________________\n",
      "dropout_1 (Dropout)          (None, 256)               0         \n",
      "_________________________________________________________________\n",
      "dense_2 (Dense)              (None, 10)                2570      \n",
      "=================================================================\n",
      "Total params: 660,746\n",
      "Trainable params: 660,746\n",
      "Non-trainable params: 0\n",
      "_________________________________________________________________\n"
     ]
    }
   ],
   "source": [
    "#Building MODEL\n",
    "\n",
    "#26 variables, also convert into category and do our one hot encoding.\n",
    "\n",
    "X = np.array(poker_train.drop('class',axis=1))\n",
    "#one hot encoding categorical values\n",
    "#get_dummies creates dummy/indicator variables (1 or 0).\n",
    "Y2 = pandas.get_dummies(poker_train['class'].astype('category'))\n",
    "Y = np.array(Y2)\n",
    "\n",
    "#2dims - 3dims\n",
    "tempX = X[:,:,None]\n",
    "tempY = Y[:,:,None]\n",
    "\n",
    "tempX.reshape(X.shape[0],X.shape[1],1)\n",
    "#temp.reshape(temp.shape[0],temp.shape[2],temp.shape[1])\n",
    "\n",
    "tempY.reshape(Y.shape[0],Y.shape[1],1)\n",
    "\n",
    "\n",
    "#validation set\n",
    "test_X = np.array(poker_tst.drop('class',axis=1))\n",
    "test_y2 = pandas.get_dummies(poker_tst['class'].astype('category'))\n",
    "test_Y = np.array(test_y2)\n",
    "\n",
    "\n",
    "\n",
    "model = keras.Sequential()\n",
    "model.add(keras.layers.Conv1D(256, kernel_size=(8),\n",
    "        activation='relu',input_shape=[tempX.shape[1],\n",
    "        tempX.shape[2]]))\n",
    "model.add(keras.layers.Conv1D(256, (2), activation='relu'))\n",
    "model.add(keras.layers.MaxPooling1D(pool_size=(2)))\n",
    "model.add(keras.layers.Flatten())\n",
    "model.add(keras.layers.Dense(256, activation='relu'))\n",
    "model.add(keras.layers.Dropout(0.25))\n",
    "model.add(keras.layers.Dense(tempY.shape[1], activation='softmax'))\n",
    "model.compile(loss=keras.losses.categorical_crossentropy,\n",
    "        optimizer=keras.optimizers.Adam(),\n",
    "        metrics=['accuracy'])\n",
    "model.summary()\n"
   ]
  },
  {
   "cell_type": "code",
   "execution_count": 4,
   "metadata": {},
   "outputs": [
    {
     "name": "stdout",
     "output_type": "stream",
     "text": [
      "Train on 16756 samples, validate on 8254 samples\n",
      "Epoch 1/25\n",
      "16756/16756 [==============================] - 9s 521us/step - loss: 1.0253 - acc: 0.4915 - val_loss: 0.9637 - val_acc: 0.5344\n",
      "Epoch 2/25\n",
      "16756/16756 [==============================] - 7s 430us/step - loss: 0.9735 - acc: 0.5292 - val_loss: 0.9512 - val_acc: 0.5416\n",
      "Epoch 3/25\n",
      "16756/16756 [==============================] - 7s 420us/step - loss: 0.9505 - acc: 0.5445 - val_loss: 0.9387 - val_acc: 0.5351\n",
      "Epoch 4/25\n",
      "16756/16756 [==============================] - 7s 436us/step - loss: 0.9220 - acc: 0.5646 - val_loss: 0.9093 - val_acc: 0.5624\n",
      "Epoch 5/25\n",
      "16756/16756 [==============================] - 7s 416us/step - loss: 0.8965 - acc: 0.5861 - val_loss: 0.8982 - val_acc: 0.5797\n",
      "Epoch 6/25\n",
      "16756/16756 [==============================] - 7s 447us/step - loss: 0.8686 - acc: 0.6053 - val_loss: 0.8799 - val_acc: 0.5811\n",
      "Epoch 7/25\n",
      "16756/16756 [==============================] - 7s 441us/step - loss: 0.8385 - acc: 0.6253 - val_loss: 0.8073 - val_acc: 0.6434\n",
      "Epoch 8/25\n",
      "16756/16756 [==============================] - 7s 434us/step - loss: 0.7951 - acc: 0.6451 - val_loss: 0.8388 - val_acc: 0.6198\n",
      "Epoch 9/25\n",
      "16756/16756 [==============================] - 7s 424us/step - loss: 0.7384 - acc: 0.6783 - val_loss: 0.6849 - val_acc: 0.7144\n",
      "Epoch 10/25\n",
      "16756/16756 [==============================] - 8s 470us/step - loss: 0.6448 - acc: 0.7317 - val_loss: 0.5584 - val_acc: 0.7870\n",
      "Epoch 11/25\n",
      "16756/16756 [==============================] - 8s 450us/step - loss: 0.5042 - acc: 0.8062 - val_loss: 0.4307 - val_acc: 0.8478\n",
      "Epoch 12/25\n",
      "16756/16756 [==============================] - 7s 434us/step - loss: 0.3780 - acc: 0.8675 - val_loss: 0.2995 - val_acc: 0.9065\n",
      "Epoch 13/25\n",
      "16756/16756 [==============================] - 7s 427us/step - loss: 0.2864 - acc: 0.9019 - val_loss: 0.2452 - val_acc: 0.9122\n",
      "Epoch 14/25\n",
      "16756/16756 [==============================] - 7s 427us/step - loss: 0.2396 - acc: 0.9168 - val_loss: 0.2046 - val_acc: 0.9294\n",
      "Epoch 15/25\n",
      "16756/16756 [==============================] - 7s 446us/step - loss: 0.2054 - acc: 0.9250 - val_loss: 0.2292 - val_acc: 0.9166\n",
      "Epoch 16/25\n",
      "16756/16756 [==============================] - 7s 423us/step - loss: 0.1944 - acc: 0.9296 - val_loss: 0.1584 - val_acc: 0.9474\n",
      "Epoch 17/25\n",
      "16756/16756 [==============================] - 7s 418us/step - loss: 0.1477 - acc: 0.9486 - val_loss: 0.1183 - val_acc: 0.9598\n",
      "Epoch 18/25\n",
      "16756/16756 [==============================] - 7s 416us/step - loss: 0.1250 - acc: 0.9549 - val_loss: 0.1183 - val_acc: 0.9618\n",
      "Epoch 19/25\n",
      "16756/16756 [==============================] - 7s 435us/step - loss: 0.1080 - acc: 0.9628 - val_loss: 0.1553 - val_acc: 0.9432\n",
      "Epoch 20/25\n",
      "16756/16756 [==============================] - 8s 449us/step - loss: 0.0931 - acc: 0.9703 - val_loss: 0.0814 - val_acc: 0.9749\n",
      "Epoch 21/25\n",
      "16756/16756 [==============================] - 7s 416us/step - loss: 0.0788 - acc: 0.9746 - val_loss: 0.0844 - val_acc: 0.9773\n",
      "Epoch 22/25\n",
      "16756/16756 [==============================] - 7s 444us/step - loss: 0.0818 - acc: 0.9741 - val_loss: 0.0878 - val_acc: 0.9696\n",
      "Epoch 23/25\n",
      "16756/16756 [==============================] - 7s 419us/step - loss: 0.0762 - acc: 0.9750 - val_loss: 0.1037 - val_acc: 0.9618\n",
      "Epoch 24/25\n",
      "16756/16756 [==============================] - 7s 420us/step - loss: 0.0530 - acc: 0.9840 - val_loss: 0.0655 - val_acc: 0.9770\n",
      "Epoch 25/25\n",
      "16756/16756 [==============================] - 7s 434us/step - loss: 0.0530 - acc: 0.9832 - val_loss: 0.0771 - val_acc: 0.9712\n"
     ]
    }
   ],
   "source": [
    "batch_size = 100\n",
    "epochs = 25\n",
    "history = model.fit(tempX,Y,\n",
    "                   batch_size=batch_size,\n",
    "                   epochs=epochs,\n",
    "                   verbose=1,\n",
    "                   validation_split=.33)"
   ]
  },
  {
   "cell_type": "code",
   "execution_count": 5,
   "metadata": {},
   "outputs": [
    {
     "name": "stdout",
     "output_type": "stream",
     "text": [
      "25010/25010 [==============================] - 7s 281us/step\n",
      "Test loss: 0.05553173646852166\n",
      "Test accuracy: 0.9792483006797281\n"
     ]
    }
   ],
   "source": [
    "#   Model Accuracy\n",
    "score = model.evaluate(tempX, Y, verbose=1)\n",
    "print('Test loss:',score[0])\n",
    "print('Test accuracy:',score[1])\n"
   ]
  },
  {
   "cell_type": "code",
   "execution_count": 6,
   "metadata": {},
   "outputs": [
    {
     "data": {
      "image/png": "[encoded data removed]",
      "text/plain": [
       "<matplotlib.figure.Figure at 0x7fe102e10470>"
      ]
     },
     "metadata": {},
     "output_type": "display_data"
    }
   ],
   "source": [
    "#   Plotting\n",
    "plt.figure(1)\n",
    "# summarize history for accuracy\n",
    "plt.subplot(211)\n",
    "plt.plot(history.history['acc'])\n",
    "plt.plot(history.history['val_acc'])\n",
    "plt.title('model accuracy')\n",
    "plt.ylabel('accuracy')\n",
    "plt.xlabel('epoch')\n",
    "plt.legend(['train', 'test'], loc='upper left')\n",
    "\n",
    "# summarize history for loss\n",
    "\n",
    "plt.subplot(212)\n",
    "plt.plot(history.history['loss'])\n",
    "plt.plot(history.history['val_loss'])\n",
    "plt.title('model loss')\n",
    "plt.ylabel('loss')\n",
    "plt.xlabel('epoch')\n",
    "plt.legend(['train', 'test'], loc='upper left')\n",
    "plt.tight_layout()\n",
    "plt.show()"
   ]
  }
 ],
 "metadata": {
  "kernelspec": {
   "display_name": "Python 3",
   "language": "python",
   "name": "python3"
  },
  "language_info": {
   "codemirror_mode": {
    "name": "ipython",
    "version": 3
   },
   "file_extension": ".py",
   "mimetype": "text/x-python",
   "name": "python",
   "nbconvert_exporter": "python",
   "pygments_lexer": "ipython3",
   "version": "3.5.3"
  }
 },
 "nbformat": 4,
 "nbformat_minor": 2
}
