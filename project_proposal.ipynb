{
 "cells": [
  {
   "cell_type": "markdown",
   "metadata": {},
   "source": [
    "\n",
    "#### Delkhaz Ibrahimi\n",
    "#### Loraina Lampley\n",
    "#### Brandon Lowery\n",
    "#### Jeremy Watts"
   ]
  },
  {
   "cell_type": "markdown",
   "metadata": {},
   "source": [
    "# How Well Can a Neural Network Play Poker?\n",
    "\n",
    "### Team Perceptron \n",
    "\n",
    "Poker has always shown itself to be a challenging way to test one's luck and grit against odds that are exceptionally low. There are many different variants that slightly alter the odds. The poker variant 5 card draw has 2,598,960 different hand combinations in a standard 52 card deck. With this many possible hands it is easy to see how difficult it could be to get even a decent hand in a single 5 card draw. The reason that these odds do not hinder most players is that even a terrible hand has a chance to win with a good bluff. Great human poker players have learned when to bluff and how to tell when another player is bluffing. In order to compete, computerized robot players must focus on a categorical approach based on the odds and significant training. The overall aim of our project is to discover which techniques and networks will perform the best at classifying poker hands. The vast poker hand possibilities can lead to quite an interesting challenge for a neural network to solve.\n",
    "\n",
    "For this project, we will be developing two neural networks with distinct architectures. One network will be a feed-forward neural network which we have already seen in class and the other will be a convolutional neural network which is also possible via Keras. These networks will be used to classify poker hands with data provided by Robert Cattral and Franz Oppacher from the Computer Science department at Carleton University featured at the [UCI Machine Learning Library.](http://archive.ics.uci.edu/ml/datasets/Poker+Hand) We will then compare the rates of accuracy in classifying new hands to determine which neural network is superior at the task. With this knowledge in hand, we will implement our best performing neural network into a console program with which a user can play a game of poker against it. \n",
    "\n",
    "In order to validate our model, we will tackle both quantitative and qualitative success. First, we determine whether or not we can classify a poker hand correctly i.e. (High card, One pair, Two pairs, Three of a kind, Straight, Flush, Full house, Four of a kind, Straight flush, Royal flush). Second, in a game against a randomized poker 'bot' , the neural net should achieve above 50% success over a series of games.  Third, the neural network should achieve some level of success against a human that has the ability to make an intellectual decision, if armed with nothing else other than the ability to classify a hand and determine how likely it is to be in the lead based on a prior knowledge of the statistics of its hand.\n",
    "\n",
    "The network's qualitative success is inextricably linked to its quantitative success - the network can be judged to be a better poker player by how many hands it can win against its opponent. An opponent that acts randomly will provide the baseline for our network's success as it should beat a random opponent over 50% of the time. We do not forsee the neural network being able to outperform a human opponent, but it will be interesting to see just how well the network can play against a human and what the winrate might be based on the skill level of its opponent. In addition, the interaction with humans in the form of a game will provide a fun mechanism for others to interact with our trained neural network.\n"
   ]
  },
  {
   "cell_type": "code",
   "execution_count": null,
   "metadata": {},
   "outputs": [],
   "source": []
  }
 ],
 "metadata": {
  "kernelspec": {
   "display_name": "Python 3",
   "language": "python",
   "name": "python3"
  },
  "language_info": {
   "codemirror_mode": {
    "name": "ipython",
    "version": 3
   },
   "file_extension": ".py",
   "mimetype": "text/x-python",
   "name": "python",
   "nbconvert_exporter": "python",
   "pygments_lexer": "ipython3",
   "version": "3.5.3"
  }
 },
 "nbformat": 4,
 "nbformat_minor": 2
}
