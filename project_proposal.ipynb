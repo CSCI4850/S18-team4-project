{
 "cells": [
  {
   "cell_type": "markdown",
   "metadata": {},
   "source": [
    "# Team 4 Project Proposal"
   ]
  },
  {
   "cell_type": "markdown",
   "metadata": {},
   "source": [
    "   The overall aim of our project is to discover which techniques and networks will perform\n",
    "the best at classifying poker hands. The game of poker can have 2,598,960 possible hand combinations. These vast poker hand possibilities can lead to quite an interesting challenge for a neural network to solve. All of the data that our team needs to complete this task is available from the [UCI Machine Learning Library.](http://archive.ics.uci.edu/ml/datasets/Poker+Hand)"
   ]
  }
 ],
 "metadata": {
  "kernelspec": {
   "display_name": "Python 3",
   "language": "python",
   "name": "python3"
  },
  "language_info": {
   "codemirror_mode": {
    "name": "ipython",
    "version": 3
   },
   "file_extension": ".py",
   "mimetype": "text/x-python",
   "name": "python",
   "nbconvert_exporter": "python",
   "pygments_lexer": "ipython3",
   "version": "3.5.3"
  }
 },
 "nbformat": 4,
 "nbformat_minor": 2
}
