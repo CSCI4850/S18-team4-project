{
 "cells": [
  {
   "cell_type": "markdown",
   "metadata": {},
   "source": [
    "\n",
    "#### Delkhaz Ibrahimi\n",
    "#### Loraina Lampley\n",
    "#### Brandon Lowery\n",
    "#### Jeremy Watts"
   ]
  },
  {
   "cell_type": "markdown",
   "metadata": {},
   "source": [
    "# title: \n",
    "\n",
    "### Team Perceptron \n",
    "\n",
    "Poker has always shown itself to be a challenging way to test one's luck and grit against the odds that are exceptionally low. There are many different variant’s that slightly alter the odds. The poker variant 5 card stud has 2,598,960 different hand combinations in a standard 52 card deck. With this many possible hands it is easy to see how difficult it could be to get even a decent hand in a single 5 card draw. The reason that these odds do not hinder most players is that even a terrible hand has a chance to win with a good bluff. Great human poker players have learned when to bluff and how to tell when another player is bluffing. In order to compete, computerized robot players must focus on a categorical approach based on the odds and significant training. The overall aim of our project is to discover which techniques and networks will perform the best at classifying poker hands. The vast poker hand possibilities can lead to quite an interesting challenge for a neural network to solve.\n",
    "\n",
    "\n",
    "For this project, we propose a method of building two different neural networks the first one being a standard feed forward model. The second being a recurrent neural network. \n",
    "// need to add more to this ^ \n",
    "// classification\n",
    "\n",
    "\n",
    "In order to validate our model, we will tackle both quantitative and qualitative success , we will first determine whether or not we can classify a poker hand correctly i.e. (High card, One pair, Two pairs, Three of a kind, Straight, Flush, Full house, Four of a kind, Straight flush, Royal flush). \n",
    "Second, in a game against a randomized poker 'bot' , the neural net should achieve above 50% success over a series of games.\n",
    "Third, as well as some level of success against a human that has the ability to make an intellectual decision.\n",
    "qualitatively we will look at the bots ability to win more often than not i.e. (ability to come out on top). Additonally we could look at how our neural network model compares against other machine learning algorithms i.e. reinforcement learning.We will compare the different model accuracies in order to determine which algorithms are most effective given our data set, and data sets that are similar. \n",
    "\n",
    " All of the data that our team needs to complete this task is available from the [UCI Machine Learning Library.](http://archive.ics.uci.edu/ml/datasets/Poker+Hand)\n",
    "\n"
   ]
  },
  {
   "cell_type": "code",
   "execution_count": null,
   "metadata": {},
   "outputs": [],
   "source": []
  }
 ],
 "metadata": {
  "kernelspec": {
   "display_name": "Python 3",
   "language": "python",
   "name": "python3"
  },
  "language_info": {
   "codemirror_mode": {
    "name": "ipython",
    "version": 3
   },
   "file_extension": ".py",
   "mimetype": "text/x-python",
   "name": "python",
   "nbconvert_exporter": "python",
   "pygments_lexer": "ipython3",
   "version": "3.5.3"
  }
 },
 "nbformat": 4,
 "nbformat_minor": 2
}
