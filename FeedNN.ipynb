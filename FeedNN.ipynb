{
 "cells": [
  {
   "cell_type": "code",
   "execution_count": 1,
   "metadata": {},
   "outputs": [
    {
     "name": "stderr",
     "output_type": "stream",
     "text": [
      "Using TensorFlow backend.\n"
     ]
    }
   ],
   "source": [
    "import numpy as np\n",
    "import keras\n",
    "import pandas\n",
    "\n",
    "from IPython.display import SVG\n",
    "from IPython.display import display\n",
    "from keras.utils.vis_utils import model_to_dot\n",
    "from sympy import *\n",
    "\n",
    "init_printing(use_latex=True)\n",
    "import matplotlib.pyplot as plt\n",
    "%matplotlib inline"
   ]
  },
  {
   "cell_type": "markdown",
   "metadata": {},
   "source": [
    "Attribute Information:\n",
    "\n",
    "0: Nothing in hand; not a recognized poker hand\n",
    "1: One pair; one pair of equal ranks within five cards\n",
    "2: Two pairs; two pairs of equal ranks within five cards\n",
    "3: Three of a kind; three equal ranks within five cards\n",
    "4: Straight; five cards, sequentially ranked with no gaps\n",
    "5: Flush; five cards with the same suit\n",
    "6: Full house; pair + different rank three of a kind\n",
    "7: Four of a kind; four equal ranks within five cards\n",
    "8: Straight flush; straight + flush\n",
    "9: Royal flush; {Ace, King, Queen, Jack, Ten} + flush\n",
    "\n",
    "\n",
    "10 target classes."
   ]
  },
  {
   "cell_type": "code",
   "execution_count": 20,
   "metadata": {},
   "outputs": [
    {
     "name": "stdout",
     "output_type": "stream",
     "text": [
      "(25010, 11) train\n",
      "(1000000, 11) test\n"
     ]
    }
   ],
   "source": [
    "\"\"\"\n",
    "https://archive.ics.uci.edu/ml/datasets/Poker+Hand\n",
    "\"\"\"\n",
    "\n",
    "#you will prob have to change path location to load data.\n",
    "train_path = \"http://archive.ics.uci.edu/ml/machine-learning-databases/poker/poker-hand-training-true.data\"\n",
    "test_path = \"http://archive.ics.uci.edu/ml/machine-learning-databases/poker/poker-hand-testing.data\"\n",
    "\n",
    "#setting attribute info, column names for data set. \n",
    "# S1 refers to Suit of card #1\n",
    "# C1 refers to Rank of card #1 and so on.\n",
    "# see data set attributes (poker-hand.names)\n",
    "column = ['S1', 'C1', 'S2', 'C2', 'S3','C3','S4','C4','S5','C5','class']\n",
    "suit = ['S1','S2','S3','S4','S5']\n",
    "rank = ['C1','C2','C3','C4','C5']\n",
    "_class = ['class']\n",
    "\n",
    "\n",
    "#labeling\n",
    "poker_train = np.array((pandas.read_table(train_path,names=column,\n",
    "                            #delim_whitespace=True,\n",
    "                            header=None,sep =',')))\n",
    "poker_tst = np.array((pandas.read_table(test_path,names=column,\n",
    "                            #delim_whitespace=True,\n",
    "                            header=None,sep =',')))\n",
    "\n",
    "print(poker_train.shape,'train')\n",
    "print(poker_tst.shape,'test')\n",
    "\n",
    "#for each attribute of suit of cards we will convert var into category\n",
    "#this will allow us to do one hot encoding / dummy encoding later on\n",
    "#for i in suit:\n",
    "#    poker_train[i] = poker_train[i].astype('category')\n",
    "#    poker_tst[i] = poker_tst[i].astype('category')\n",
    "    \n",
    "# suits are now one hot encoded\n",
    "#poker_train = pandas.get_dummies(poker_train)\n",
    "#poker_tst = pandas.get_dummies(poker_tst)\n",
    "\n",
    "#print(poker_train)\n",
    "#print(poker_tst)\n",
    "#print(poker_train.shape)\n",
    "#print(poker_train)"
   ]
  },
  {
   "cell_type": "code",
   "execution_count": 21,
   "metadata": {},
   "outputs": [
    {
     "name": "stdout",
     "output_type": "stream",
     "text": [
      "(1000000, 10)\n",
      "(1000000, 10)\n",
      "_________________________________________________________________\n",
      "Layer (type)                 Output Shape              Param #   \n",
      "=================================================================\n",
      "dense_17 (Dense)             (None, 512)               5632      \n",
      "_________________________________________________________________\n",
      "dense_18 (Dense)             (None, 512)               262656    \n",
      "_________________________________________________________________\n",
      "dense_19 (Dense)             (None, 512)               262656    \n",
      "_________________________________________________________________\n",
      "dense_20 (Dense)             (None, 10)                5130      \n",
      "=================================================================\n",
      "Total params: 536,074\n",
      "Trainable params: 536,074\n",
      "Non-trainable params: 0\n",
      "_________________________________________________________________\n"
     ]
    }
   ],
   "source": [
    "#Building MODEL\n",
    "\n",
    "#26 variables, also convert into category and do our one hot encoding.\n",
    "\n",
    "#X = np.array(poker_train.drop('class',axis=1))\n",
    "X = poker_train[:,0:10]\n",
    "labels = poker_train[:,10]\n",
    "#one hot encoding categorical values\n",
    "#get_dummies creates dummy/indicator variables (1 or 0).\n",
    "#Y2 = pandas.get_dummies(poker_train['class'].astype('category'))\n",
    "Y = keras.utils.to_categorical(labels,\n",
    "                               len(np.unique(labels)))\n",
    "#print(Y)\n",
    "\n",
    "#validation set\n",
    "#test_X = np.array(poker_tst.drop('class',axis=1))\n",
    "test_X = poker_tst[:,0:10]\n",
    "olabels = poker_tst[:,10]\n",
    "#test_y2 = pandas.get_dummies(poker_tst['class'].astype('category'))\n",
    "test_Y = keras.utils.to_categorical(olabels,\n",
    "                               len(np.unique(olabels)))\n",
    "\n",
    "print(test_X.shape)\n",
    "print(test_Y.shape)\n",
    "\n",
    "#######    MODEL ########\n",
    "\n",
    "model = keras.models.Sequential()\n",
    "\n",
    "model.add(keras.layers.Dense(512,input_dim=10,activation='relu'))\n",
    "model.add(keras.layers.Dense(512,activation='relu'))\n",
    "model.add(keras.layers.Dense(512,activation='relu'))\n",
    "\n",
    "model.add(keras.layers.Dense(10,activation='softmax'))\n",
    "\n",
    "model.compile(loss=keras.losses.categorical_crossentropy,\n",
    "              optimizer=keras.optimizers.Adam(),\n",
    "              metrics=['accuracy'])\n",
    "\n",
    "model.summary()\n"
   ]
  },
  {
   "cell_type": "code",
   "execution_count": 27,
   "metadata": {},
   "outputs": [
    {
     "name": "stdout",
     "output_type": "stream",
     "text": [
      "[ 1 10  1 11  1 13  1 12  1  1]\n",
      "(10,)\n"
     ]
    }
   ],
   "source": [
    "print(X[0,:])\n",
    "print(X[0,:].shape)"
   ]
  },
  {
   "cell_type": "code",
   "execution_count": 22,
   "metadata": {},
   "outputs": [
    {
     "name": "stdout",
     "output_type": "stream",
     "text": [
      "Train on 25010 samples, validate on 1000000 samples\n",
      "Epoch 1/25\n",
      "25010/25010 [==============================] - 54s 2ms/step - loss: 0.9968 - acc: 0.5142 - val_loss: 0.9614 - val_acc: 0.5411\n",
      "Epoch 2/25\n",
      "25010/25010 [==============================] - 53s 2ms/step - loss: 0.9559 - acc: 0.5457 - val_loss: 0.9553 - val_acc: 0.5288\n",
      "Epoch 3/25\n",
      "25010/25010 [==============================] - 54s 2ms/step - loss: 0.9439 - acc: 0.5536 - val_loss: 0.9353 - val_acc: 0.5608\n",
      "Epoch 4/25\n",
      "25010/25010 [==============================] - 53s 2ms/step - loss: 0.9356 - acc: 0.5611 - val_loss: 0.9291 - val_acc: 0.5636\n",
      "Epoch 5/25\n",
      "25010/25010 [==============================] - 53s 2ms/step - loss: 0.9259 - acc: 0.5672 - val_loss: 0.9225 - val_acc: 0.5701\n",
      "Epoch 6/25\n",
      "25010/25010 [==============================] - 54s 2ms/step - loss: 0.9088 - acc: 0.5769 - val_loss: 0.9012 - val_acc: 0.5861\n",
      "Epoch 7/25\n",
      "25010/25010 [==============================] - 53s 2ms/step - loss: 0.8882 - acc: 0.5922 - val_loss: 0.8877 - val_acc: 0.5961\n",
      "Epoch 8/25\n",
      "25010/25010 [==============================] - 53s 2ms/step - loss: 0.8600 - acc: 0.6125 - val_loss: 0.8630 - val_acc: 0.6158\n",
      "Epoch 9/25\n",
      "25010/25010 [==============================] - 53s 2ms/step - loss: 0.8386 - acc: 0.6246 - val_loss: 0.8439 - val_acc: 0.6179\n",
      "Epoch 10/25\n",
      "25010/25010 [==============================] - 53s 2ms/step - loss: 0.8062 - acc: 0.6449 - val_loss: 0.8036 - val_acc: 0.6488\n",
      "Epoch 11/25\n",
      "25010/25010 [==============================] - 53s 2ms/step - loss: 0.7704 - acc: 0.6652 - val_loss: 0.8120 - val_acc: 0.6366\n",
      "Epoch 12/25\n",
      "25010/25010 [==============================] - 53s 2ms/step - loss: 0.7271 - acc: 0.6885 - val_loss: 0.7343 - val_acc: 0.6917\n",
      "Epoch 13/25\n",
      "25010/25010 [==============================] - 53s 2ms/step - loss: 0.6801 - acc: 0.7194 - val_loss: 0.7220 - val_acc: 0.6939\n",
      "Epoch 14/25\n",
      "25010/25010 [==============================] - 53s 2ms/step - loss: 0.6261 - acc: 0.7423 - val_loss: 0.6391 - val_acc: 0.7462\n",
      "Epoch 15/25\n",
      "25010/25010 [==============================] - 53s 2ms/step - loss: 0.5820 - acc: 0.7646 - val_loss: 0.5839 - val_acc: 0.7707\n",
      "Epoch 16/25\n",
      "25010/25010 [==============================] - 53s 2ms/step - loss: 0.5324 - acc: 0.7883 - val_loss: 0.5395 - val_acc: 0.7863\n",
      "Epoch 17/25\n",
      "25010/25010 [==============================] - 53s 2ms/step - loss: 0.4759 - acc: 0.8131 - val_loss: 0.5289 - val_acc: 0.7913\n",
      "Epoch 18/25\n",
      "25010/25010 [==============================] - 53s 2ms/step - loss: 0.4242 - acc: 0.8404 - val_loss: 0.4404 - val_acc: 0.8386\n",
      "Epoch 19/25\n",
      "25010/25010 [==============================] - 53s 2ms/step - loss: 0.3652 - acc: 0.8661 - val_loss: 0.4326 - val_acc: 0.8350\n",
      "Epoch 20/25\n",
      "25010/25010 [==============================] - 53s 2ms/step - loss: 0.3072 - acc: 0.8888 - val_loss: 0.3459 - val_acc: 0.8724\n",
      "Epoch 21/25\n",
      "25010/25010 [==============================] - 54s 2ms/step - loss: 0.2649 - acc: 0.9084 - val_loss: 0.3298 - val_acc: 0.8848\n",
      "Epoch 22/25\n",
      "25010/25010 [==============================] - 54s 2ms/step - loss: 0.2276 - acc: 0.9236 - val_loss: 0.3265 - val_acc: 0.8830\n",
      "Epoch 23/25\n",
      "25010/25010 [==============================] - 53s 2ms/step - loss: 0.1762 - acc: 0.9436 - val_loss: 0.2370 - val_acc: 0.9185\n",
      "Epoch 24/25\n",
      "25010/25010 [==============================] - 53s 2ms/step - loss: 0.1604 - acc: 0.9511 - val_loss: 0.1849 - val_acc: 0.9436\n",
      "Epoch 25/25\n",
      "25010/25010 [==============================] - 53s 2ms/step - loss: 0.1066 - acc: 0.9719 - val_loss: 0.1370 - val_acc: 0.9593\n"
     ]
    }
   ],
   "source": [
    "batch_size = 100\n",
    "epochs = 25\n",
    "history = model.fit(X,Y,\n",
    "                   batch_size=batch_size,\n",
    "                   epochs=epochs,\n",
    "                   verbose=1,\n",
    "                   validation_data=(test_X, test_Y))\n"
   ]
  },
  {
   "cell_type": "code",
   "execution_count": 23,
   "metadata": {},
   "outputs": [
    {
     "name": "stdout",
     "output_type": "stream",
     "text": [
      "25010/25010 [==============================] - 2s 99us/step\n",
      "Test loss: 0.0795012926328\n",
      "Test accuracy: 0.980567772891\n"
     ]
    }
   ],
   "source": [
    "#   Model Accuracy\n",
    "score = model.evaluate(X, Y, verbose=1)\n",
    "print('Test loss:',score[0])\n",
    "print('Test accuracy:',score[1])"
   ]
  },
  {
   "cell_type": "code",
   "execution_count": 24,
   "metadata": {},
   "outputs": [
    {
     "data": {
      "image/png": "[encoded data removed]",
      "text/plain": [
       "<matplotlib.figure.Figure at 0x7fc19b8326d8>"
      ]
     },
     "metadata": {},
     "output_type": "display_data"
    }
   ],
   "source": [
    "#   Plotting\n",
    "plt.figure(1)\n",
    "# summarize history for accuracy\n",
    "plt.subplot(211)\n",
    "plt.plot(history.history['acc'])\n",
    "plt.plot(history.history['val_acc'])\n",
    "plt.title('model accuracy')\n",
    "plt.ylabel('accuracy')\n",
    "plt.xlabel('epoch')\n",
    "plt.legend(['train', 'test'], loc='upper left')\n",
    "\n",
    "# summarize history for loss\n",
    "\n",
    "plt.subplot(212)\n",
    "plt.plot(history.history['loss'])\n",
    "plt.plot(history.history['val_loss'])\n",
    "plt.title('model loss')\n",
    "plt.ylabel('loss')\n",
    "plt.xlabel('epoch')\n",
    "plt.legend(['train', 'test'], loc='upper left')\n",
    "plt.tight_layout()\n",
    "plt.show()"
   ]
  },
  {
   "cell_type": "code",
   "execution_count": 25,
   "metadata": {},
   "outputs": [],
   "source": [
    "model.save('ffbnn.h5')"
   ]
  },
  {
   "cell_type": "code",
   "execution_count": 39,
   "metadata": {},
   "outputs": [
    {
     "name": "stdout",
     "output_type": "stream",
     "text": [
      "[[  2.93444190e-03   9.46342051e-01   5.06027862e-02   2.86197314e-06\n",
      "    2.11711999e-08   7.95474122e-08   1.13079252e-04   1.12993631e-12\n",
      "    4.65665016e-06   4.49812271e-11]]\n",
      "[[ 2  4  1 13  4  9  1  5  4 13]]\n",
      "1\n"
     ]
    }
   ],
   "source": [
    "pls = np.array([[ 2 , 4 , 1 , 13 , 4 , 9 , 1 , 5 , 4 , 13]])\n",
    "preds = model.predict(pls)\n",
    "print(preds)\n",
    "print(pls)\n",
    "print(np.argmax(preds))"
   ]
  },
  {
   "cell_type": "code",
   "execution_count": null,
   "metadata": {},
   "outputs": [],
   "source": []
  }
 ],
 "metadata": {
  "kernelspec": {
   "display_name": "Python 3",
   "language": "python",
   "name": "python3"
  },
  "language_info": {
   "codemirror_mode": {
    "name": "ipython",
    "version": 3
   },
   "file_extension": ".py",
   "mimetype": "text/x-python",
   "name": "python",
   "nbconvert_exporter": "python",
   "pygments_lexer": "ipython3",
   "version": "3.5.3"
  }
 },
 "nbformat": 4,
 "nbformat_minor": 2
}
