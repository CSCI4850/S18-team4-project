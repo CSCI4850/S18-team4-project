{
 "cells": [
  {
   "cell_type": "markdown",
   "metadata": {},
   "source": [
    "This file currently allows you to play with a \"dumb\" ai,\n",
    "code will need to be changed to work with our various neural nets and is\n",
    "still heavily in testing\n",
    "\n",
    "game is currently playing texas holdem( because I set this up via a tutorial\n",
    "from the docs and made minor changes) and needs to be edited to 5 card.\n",
    "There appears to possibly be a json file or something where rules can be changed.\n",
    "\n",
    "**input() may need to be changed to raw_input() on jupyter due to dif python versions, see doc dif for where to change**\n",
    "\n",
    "current next steps: figure out how to install pypokerengine on jupyter\n",
    "and confirm library fully functional on python 3.5.3, CALL during a game is broken on python 3.6"
   ]
  },
  {
   "cell_type": "code",
   "execution_count": 19,
   "metadata": {},
   "outputs": [
    {
     "ename": "ImportError",
     "evalue": "No module named 'pypokerengine'",
     "output_type": "error",
     "traceback": [
      "\u001b[0;31m---------------------------------------------------------------------------\u001b[0m",
      "\u001b[0;31mImportError\u001b[0m                               Traceback (most recent call last)",
      "\u001b[0;32m<ipython-input-19-53e0c70babe0>\u001b[0m in \u001b[0;36m<module>\u001b[0;34m()\u001b[0m\n\u001b[0;32m----> 1\u001b[0;31m \u001b[0;32mfrom\u001b[0m \u001b[0mpypokerengine\u001b[0m\u001b[0;34m.\u001b[0m\u001b[0mplayers\u001b[0m \u001b[0;32mimport\u001b[0m \u001b[0mBasePokerPlayer\u001b[0m\u001b[0;34m\u001b[0m\u001b[0m\n\u001b[0m\u001b[1;32m      2\u001b[0m \u001b[0;34m\u001b[0m\u001b[0m\n\u001b[1;32m      3\u001b[0m \u001b[0;32mclass\u001b[0m \u001b[0mFishPlayer\u001b[0m\u001b[0;34m(\u001b[0m\u001b[0mBasePokerPlayer\u001b[0m\u001b[0;34m)\u001b[0m\u001b[0;34m:\u001b[0m  \u001b[0;31m# Do not forget to make parent class as \"BasePokerPlayer\"\u001b[0m\u001b[0;34m\u001b[0m\u001b[0m\n\u001b[1;32m      4\u001b[0m \u001b[0;34m\u001b[0m\u001b[0m\n\u001b[1;32m      5\u001b[0m     \u001b[0;31m#  we define the logic to make an action through this method. (so this method would be the core of your AI)\u001b[0m\u001b[0;34m\u001b[0m\u001b[0;34m\u001b[0m\u001b[0m\n",
      "\u001b[0;31mImportError\u001b[0m: No module named 'pypokerengine'"
     ]
    }
   ],
   "source": [
    "import pypokerengine"
   ]
  },
  {
   "cell_type": "code",
   "execution_count": null,
   "metadata": {},
   "outputs": [],
   "source": [
    "#simple \"fishplayer\" AI for testing the game\n",
    "from pypokerengine.players import BasePokerPlayer\n",
    "\n",
    "class FishPlayer(BasePokerPlayer):  # Do not forget to make parent class as \"BasePokerPlayer\"\n",
    "\n",
    "    #  we define the logic to make an action through this method. (so this method would be the core of your AI)\n",
    "    def declare_action(self, valid_actions, hole_card, round_state):\n",
    "        # valid_actions format => [raise_action_info, call_action_info, fold_action_info]\n",
    "        call_action_info = valid_actions[1]\n",
    "        action, amount = call_action_info[\"action\"], call_action_info[\"amount\"]\n",
    "        return action, amount   # action returned here is sent to the poker engine\n",
    "\n",
    "    def receive_game_start_message(self, game_info):\n",
    "        pass\n",
    "\n",
    "    def receive_round_start_message(self, round_count, hole_card, seats):\n",
    "        pass\n",
    "\n",
    "    def receive_street_start_message(self, street, round_state):\n",
    "        pass\n",
    "\n",
    "    def receive_game_update_message(self, action, round_state):\n",
    "        pass\n",
    "\n",
    "    def receive_round_result_message(self, winners, hand_info, round_state):\n",
    "        pass\n"
   ]
  },
  {
   "cell_type": "code",
   "execution_count": null,
   "metadata": {},
   "outputs": [],
   "source": [
    "#create code for console player, will need to change later to play with our neural net\n",
    "import pypokerengine.utils.visualize_utils as U\n",
    "\n",
    "class ConsolePlayer(BasePokerPlayer):\n",
    "\n",
    "    def declare_action(self, valid_actions, hole_card, round_state):\n",
    "        print(U.visualize_declare_action(valid_actions, hole_card, round_state, self.uuid))\n",
    "        action, amount = self._receive_action_from_console(valid_actions)\n",
    "        return action, amount\n",
    "\n",
    "    def receive_game_start_message(self, game_info):\n",
    "        print(U.visualize_game_start(game_info, self.uuid))\n",
    "        self._wait_until_input()\n",
    "\n",
    "    def receive_round_start_message(self, round_count, hole_card, seats):\n",
    "        print(U.visualize_round_start(round_count, hole_card, seats, self.uuid))\n",
    "        self._wait_until_input()\n",
    "\n",
    "    def receive_street_start_message(self, street, round_state):\n",
    "        print(U.visualize_street_start(street, round_state, self.uuid))\n",
    "        self._wait_until_input()\n",
    "\n",
    "    def receive_game_update_message(self, new_action, round_state):\n",
    "        print(U.visualize_game_update(new_action, round_state, self.uuid))\n",
    "        self._wait_until_input()\n",
    "\n",
    "    def receive_round_result_message(self, winners, hand_info, round_state):\n",
    "        print(U.visualize_round_result(winners, hand_info, round_state, self.uuid))\n",
    "        self._wait_until_input()\n",
    "\n",
    "    def _wait_until_input(self):\n",
    "        input(\"Enter some key to continue ...\") #possible need to undo int here\n",
    "\n",
    "    # FIXME: This code would be crash if receives invalid input.\n",
    "    #        So you should add error handling properly.\n",
    "    def _receive_action_from_console(self, valid_actions):\n",
    "        action = input(\"Enter action to declare >> \")\n",
    "        if action == 'fold': amount = 0\n",
    "        if action == 'call':  amount = valid_actions[1]['action'] #CALL BROKEN ON python 3.6, needs to be tested on 3.5.3(on jupyter)\n",
    "        if action == 'raise':  amount = int(input(\"Enter raise amount >> \"))\n",
    "        return action, amount"
   ]
  },
  {
   "cell_type": "code",
   "execution_count": null,
   "metadata": {},
   "outputs": [],
   "source": [
    "#setup game\n",
    "\n",
    "from pypokerengine.api.game import setup_config, start_poker\n",
    "\n",
    "config = setup_config(max_round=10, initial_stack=100, small_blind_amount=5)\n",
    "config.register_player(name=\"fish_player\", algorithm=FishPlayer())\n",
    "config.register_player(name=\"human_player\", algorithm=ConsolePlayer())\n",
    "game_result = start_poker(config, verbose=0)  # verbose=0 because game progress is visualized by ConsolePlayer\n"
   ]
  }
 ],
 "metadata": {
  "kernelspec": {
   "display_name": "Python 3",
   "language": "python",
   "name": "python3"
  },
  "language_info": {
   "codemirror_mode": {
    "name": "ipython",
    "version": 3
   },
   "file_extension": ".py",
   "mimetype": "text/x-python",
   "name": "python",
   "nbconvert_exporter": "python",
   "pygments_lexer": "ipython3",
   "version": "3.5.3"
  }
 },
 "nbformat": 4,
 "nbformat_minor": 2
}
