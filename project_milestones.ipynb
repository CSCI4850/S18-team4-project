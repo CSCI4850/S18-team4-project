{
 "cells": [
  {
   "cell_type": "markdown",
   "metadata": {},
   "source": [
    "# <b>  PROJECT MILESTONES </b>"
   ]
  },
  {
   "cell_type": "markdown",
   "metadata": {},
   "source": [
    "## March 15"
   ]
  },
  {
   "cell_type": "markdown",
   "metadata": {},
   "source": [
    "| Deliverable | Percent Complete | Estimated Completion Date   | Percent Complete by Next Milestone     \n",
    "| :- |:------------- | :-\n",
    "|Code| 20%  | April 10 | 50%\n",
    "| Paper | 0% | April 30 | 15%\n",
    "|Demo| 0%  | April 30 | 0%\n",
    "| Presentation | 0% | April 30 | 0%"
   ]
  },
  {
   "cell_type": "markdown",
   "metadata": {},
   "source": [
    "#### What deliverable goals established in the last milestone report were accomplished to the anticipated percentage?\n",
    "\n",
    "Library for emulating poker games was added and the method by which we can emulate games for our net is mid implementation. \n",
    "\n",
    "Various NN types have been explored and are mid development.\n",
    "\n",
<<<<<<< HEAD
    "Dataset have been uploaded.\n",
    "\n",
    "\n",
    "#### What deliverable goals established in the last milestone report were were not accomplished to the anticipated percentage?\n",
=======
    "#### What deliverable goals established in the last milestone report were not accomplished to the anticipated percentage?\n",
>>>>>>> project milestone formatting done and my section of the milestone filled out
    "\n",
    "This is the first milestone report. \n",
    "\n",
    "#### What are the main deliverable goals to meet before the next milestone report, and who is working on them?\n",
    "\n",
    "Have PyPokerEngine library fully ready to be played with and interfaced with our NN for training. - Brandon \n",
    "\n",
    "Begin working on paper. - Loraina \n",
    "\n",
    "Begin feed forward NN. - Jeremy\n",
    "\n",
    "Begin various other NN types. - Delkhaz\n",
    "started the Neural Net for poker hand classification, with some more adjustments and fine tuning should be completed by next milestone. Also taking a look at other Neural Net architectures for comparison testing."
   ]
  },
  {
   "cell_type": "markdown",
   "metadata": {},
   "source": [
    "## March 29"
   ]
  },
  {
   "cell_type": "markdown",
   "metadata": {},
   "source": [
    "| Deliverable | Percent Complete | Estimated Completion Date   | Percent Complete by Next Milestone     \n",
    "| :- |:------------- | :-\n",
    "|Code| 20%  | April 15 | 50%\n",
    "| Paper | 5% | April 22 | 15%\n",
    "|Demo| 0%  | April 30 | 0%\n",
    "| Presentation | 0% | April 30 | 0%"
   ]
  },
  {
   "cell_type": "markdown",
   "metadata": {},
   "source": [
    "#### What deliverable goals established in the last milestone report were accomplished to the anticipated percentage?\n",
    "\n",
    "The work on the paper was started.\n",
    "\n",
    "#### What deliverable goals established in the last milestone report were not accomplished to the anticipated percentage?\n",
    "\n",
    "Interfacing the PyPokerEngine, and work on our NN was not done to the anticipated percentage.\n",
    "\n",
    "#### What are the main deliverable goals to meet before the next milestone report, and who is working on them?\n",
    "\n",
    "Establish if PyPokerEngine is the way to go or if a custom interface must be built. Then build this interface. - Brandon \n",
    "\n",
    " - Loraina \n",
    "\n",
    " - Jeremy\n",
    "\n",
    " - Delkhaz"
   ]
  }
 ],
 "metadata": {
  "kernelspec": {
   "display_name": "Python 3",
   "language": "python",
   "name": "python3"
  },
  "language_info": {
   "codemirror_mode": {
    "name": "ipython",
    "version": 3
   },
   "file_extension": ".py",
   "mimetype": "text/x-python",
   "name": "python",
   "nbconvert_exporter": "python",
   "pygments_lexer": "ipython3",
   "version": "3.5.3"
  }
 },
 "nbformat": 4,
 "nbformat_minor": 2
}
