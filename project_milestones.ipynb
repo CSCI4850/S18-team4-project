{
 "cells": [
  {
   "cell_type": "code",
   "execution_count": 16,
   "metadata": {},
   "outputs": [
    {
     "data": {
      "text/html": [
       "<style>\n",
       "  table {margin-left: 0 !important; }\n",
       "\n",
       "</style>"
      ],
      "text/plain": [
       "<IPython.core.display.HTML object>"
      ]
     },
     "metadata": {},
     "output_type": "display_data"
    }
   ],
   "source": [
    "%%html\n",
    "<style>\n",
    "  table {margin-left: 0 !important; }\n",
    "\n",
    "</style>\n"
   ]
  },
  {
   "cell_type": "markdown",
   "metadata": {},
   "source": [
    "# <b>  PROJECT MILESTONES </b>"
   ]
  },
  {
   "cell_type": "markdown",
   "metadata": {},
   "source": [
    "| Deliverable | Percent Complete | Estimated Completion Date   | Percent Complete by Next Milestone     \n",
    "| :- |:------------- | :-\n",
    "|Code| 20%  | April 10 | 50%\n",
    "| Paper | 0% | April 30 | 15%\n",
    "|Demo| 0%  | April 30 | 0%\n",
    "| Presentation | 0% | April 30 | 0%"
   ]
  },
  {
   "cell_type": "markdown",
   "metadata": {},
   "source": [
    "#### What deliverable goals established in the last milestone report were accomplished to the anticipated percentage?\n",
    "\n",
    "<b> Library for emulating poker games was added and the method by which we can emulate games for our net is mid implementation. </b>\n",
    "\n",
    "#### What deliverable goals established in the last milestone report were were not accomplished to the anticipated percentage?\n",
    "\n",
    "<b> This is the first milestone report. </b>\n",
    "\n",
    "#### What are the main deliverable goals to meet before the next milestone report, and who is working on them?\n",
    "\n",
    "<b> Have PyPokerEngine library fully ready to be played with an interfaced with our NN. - Brandon </b>\n",
    "\n",
    "<b> Begin working on paper. - Loraina </b>"
   ]
  }
 ],
 "metadata": {
  "kernelspec": {
   "display_name": "Python 3",
   "language": "python",
   "name": "python3"
  },
  "language_info": {
   "codemirror_mode": {
    "name": "ipython",
    "version": 3
   },
   "file_extension": ".py",
   "mimetype": "text/x-python",
   "name": "python",
   "nbconvert_exporter": "python",
   "pygments_lexer": "ipython3",
   "version": "3.5.3"
  }
 },
 "nbformat": 4,
 "nbformat_minor": 2
}
