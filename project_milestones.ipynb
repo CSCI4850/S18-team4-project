{
 "cells": [
  {
   "cell_type": "markdown",
   "metadata": {},
   "source": [
    "# <b>  PROJECT MILESTONES </b>"
   ]
  },
  {
   "cell_type": "markdown",
   "metadata": {},
   "source": [
    "## March 15"
   ]
  },
  {
   "cell_type": "markdown",
   "metadata": {},
   "source": [
    "| Deliverable | Percent Complete | Estimated Completion Date   | Percent Complete by Next Milestone     \n",
    "| :- |:------------- | :-\n",
    "|Code| 20%  | April 10 | 50%\n",
    "| Paper | 0% | April 30 | 15%\n",
    "|Demo| 0%  | April 30 | 0%\n",
    "| Presentation | 0% | April 30 | 0%"
   ]
  },
  {
   "cell_type": "markdown",
   "metadata": {},
   "source": [
    "#### What deliverable goals established in the last milestone report were accomplished to the anticipated percentage?\n",
    "\n",
    "Library for emulating poker games was added and the method by which we can emulate games for our net is mid implementation. \n",
    "\n",
    "Various NN types have been explored and are mid development.\n",
    "\n",
    "Dataset have been uploaded.\n",
    "\n",
    "\n",
    "#### What deliverable goals established in the last milestone report were not accomplished to the anticipated percentage?\n",
    "\n",
    "This is the first milestone report. \n",
    "\n",
    "#### What are the main deliverable goals to meet before the next milestone report, and who is working on them?\n",
    "\n",
    "Have PyPokerEngine library fully ready to be played with and interfaced with our NN for training. - Brandon \n",
    "\n",
    "Begin working on paper. - Loraina \n",
    "\n",
    "Begin feed forward NN. - Jeremy\n",
    "\n",
    "Begin various other NN types. - Delkhaz\n",
    "started the Neural Net for poker hand classification, with some more adjustments and fine tuning should be completed by next milestone. Also taking a look at other Neural Net architectures for comparison testing."
   ]
  },
  {
   "cell_type": "markdown",
   "metadata": {},
   "source": [
    "## March 29"
   ]
  },
  {
   "cell_type": "markdown",
   "metadata": {},
   "source": [
    "| Deliverable | Percent Complete | Estimated Completion Date   | Percent Complete by Next Milestone     \n",
    "| :- |:------------- | :-\n",
    "|Code| 30%  | April 15 | 90%\n",
    "| Paper | 5% | April 23 | 50%\n",
    "|Demo| 0%  | April 30 | 0%\n",
    "| Presentation | 0% | April 30 | 0%"
   ]
  },
  {
   "cell_type": "markdown",
   "metadata": {},
   "source": [
    "#### What deliverable goals established in the last milestone report were accomplished to the anticipated percentage?\n",
    "\n",
    "The paper has been started. The Feed Forward network has been started (data parsed, basic settings initialized) but still has yet to be completed as it is currently only\n",
    "48% accurate in classification.\n",
    "\n",
    "\n",
    "#### What deliverable goals established in the last milestone report were not accomplished to the anticipated percentage?\n",
    "\n",
    "The PyPoker library was not readied for interfacing with the NN. The feed forward NN has been started with vanilla settings but still needs tweaking to attain acceptable performance (right now at 48% accuracy).\n",
    "\n",
    "#### What are the main deliverable goals to meet before the next milestone report, and who is working on them?\n",
    "\n",
    "Have PyPokerEngine library fully ready to be played with and interfaced with our NN for training, OR have custom interface built.  - Brandon \n",
    "\n",
    " Finish the introduction for paper. Start the Abstract and method section and complete as far as possible. Bring the references section up to date. Prepare paper for next step as code is completed.  - Loraina \n",
    "\n",
    " Finish the Feed Forward NN (get accuracy over 90%), work with Brandon to interface PyPokerEngine with Feedforward NN - Jeremy\n",
    "\n",
    "Some data \"normalizing\" implementation issues have arised, working on fixing this. Working with Brandon to get PyPoker ready, if not we will go custom route. - Delkhaz\n"
   ]
  },
  {
   "cell_type": "markdown",
   "metadata": {},
   "source": [
    "## April 12"
   ]
  },
  {
   "cell_type": "markdown",
   "metadata": {},
   "source": [
    "| Deliverable | Percent Complete | Estimated Completion Date   | Percent Complete by Next Milestone     \n",
    "| :- |:------------- | :-\n",
    "|Code| 90%  | April 15 | 100%\n",
    "| Paper | 35% | April 23 | 100%\n",
    "|Demo| 65%  | April 30 | 90%\n",
    "| Presentation | 0% | April 30 | 25%"
   ]
  },
  {
   "cell_type": "markdown",
   "metadata": {},
   "source": [
    "#### What deliverable goals established in the last milestone report were accomplished to the anticipated percentage?\n",
    "\n",
    "The custom interface is ready and has been interfaced with a neural net. -- Brandon\n",
    "\n",
    "Finished a rough draft of the introduction and Background sections of the paper. References section is updated with all the referenced materials in paper already used. -- Loraina \n",
    "\n",
    "Received feedforward NN from Delkhaz which gets 98% accuracy on the full testing data set. Saved that copy of the NN to a hd5 file. Made changes to Feedforward NN to be able to interface successfully with Brandon's driver. Assisted Brandon with interfacing.  -- Jeremy\n",
    "\n",
    "FF Net is complete, Jeremy made corrections to allow for successfull interfacing. Gained valuable knowledge on RNN. -- Delkhaz\n",
    "\n",
    "#### What deliverable goals established in the last milestone report were not accomplished to the anticipated percentage?\n",
    "\n",
    "Paper is progressing slower than anticipated in the last milestone. Recent articles found for reference in paper are promising and will hopefully allow the process to speed up. -- Loraina\n",
    "\n",
    "\n",
    "#### What are the main deliverable goals to meet before the next milestone report, and who is working on them?\n",
    "\n",
    "Small bug with Demo needs to be fixed. Code needs to be cleaned up and put into a more presentable format, but the technical work on the demo is finished aside from the bug.  -- Brandon \n",
    "\n",
    "Finish the rough draft of the paper and then polish for final paper and review. -- Loraina \n",
    "\n",
    "Work with Delkhaz in getting a recurrent NN up and running so that we can eventually have the Feedforward NN and the Recurrent NN playing each other.  -- Jeremy\n",
    "\n",
    "Working with Jeremy to complete the RNN, Also working on modifiying the data set to allow us to train a RNN  -- Delkhaz\n"
   ]
  },
  {
   "cell_type": "markdown",
   "metadata": {},
   "source": [
    "## April 26"
   ]
  },
  {
   "cell_type": "markdown",
   "metadata": {},
   "source": [
    "| Deliverable | Percent Complete | Estimated Completion Date   | Percent Complete by Next Milestone     \n",
    "| :- |:------------- | :-\n",
    "|Code| 90%  | April 15 | 100%\n",
    "| Paper | 100% | April 23 | 100%\n",
    "|Demo| 90%  | April 30 | 100%\n",
    "| Presentation | 0% | April 30 | 25%"
   ]
  },
  {
   "cell_type": "markdown",
   "metadata": {},
   "source": [
    "#### What deliverable goals established in the last milestone report were accomplished to the anticipated percentage?\n",
    "\n",
    "Bug was fixed with demo, demo is now in the \"beautify\" phase. -- Brandon\n",
    "\n",
    "Finished the paper. -- Loraina \n",
    "\n",
    "  -- Jeremy\n",
    "\n",
    "Changed routes:rnn to cnn. cnn is now completed, also getting 98% accuracy. -- Delkhaz\n",
    "\n",
    "#### What deliverable goals established in the last milestone report were not accomplished to the anticipated percentage?\n",
    "\n",
    "All goals established in the last milestone were accomplished, however we were not able to successfully implement a rnn on our dataset,--placeholder\n",
    "\n",
    "\n",
    "#### What are the main deliverable goals to meet before the next milestone report, and who is working on them?\n",
    "\n",
    "No more milestones, but working to finish up demo to be ready for our presentation  -- Brandon \n",
    "\n",
    "Work with group on our presentation. -- Loraina \n",
    "\n",
    "  -- Jeremy\n",
    "\n",
    "Fixing bug issue so we can have a presentable demo-- Delkhaz\n"
   ]
  },
  {
   "cell_type": "code",
   "execution_count": null,
   "metadata": {},
   "outputs": [],
   "source": []
  }
 ],
 "metadata": {
  "kernelspec": {
   "display_name": "Python 3",
   "language": "python",
   "name": "python3"
  },
  "language_info": {
   "codemirror_mode": {
    "name": "ipython",
    "version": 3
   },
   "file_extension": ".py",
   "mimetype": "text/x-python",
   "name": "python",
   "nbconvert_exporter": "python",
   "pygments_lexer": "ipython3",
   "version": "3.5.3"
  }
 },
 "nbformat": 4,
 "nbformat_minor": 2
}
