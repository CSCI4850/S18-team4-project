{
 "cells": [
  {
   "cell_type": "code",
   "execution_count": 4,
   "metadata": {},
   "outputs": [
    {
     "name": "stderr",
     "output_type": "stream",
     "text": [
      "Using TensorFlow backend.\n"
     ]
    }
   ],
   "source": [
    "from treys import Deck,Card,Evaluator\n",
    "import keras\n",
    "import pandas as pd\n",
    "import numpy as np\n",
    "from keras.models import load_model"
   ]
  },
  {
   "cell_type": "code",
   "execution_count": null,
   "metadata": {},
   "outputs": [],
   "source": [
    "deck=Deck()\n",
    "evaluator=Evaluator()\n",
    "trans = {'Ah': [1,1], '2h': [1,2], '3h': [1,3], '4h': [1,4],'5h': [1,5], '6h': [1,6], '7h': [1,7], '8h': [1,8], '9h': [1,9], 'Th': [1,10],'Jh': [1,11], 'Qh': [1,12], 'Kh': [1,13],\n",
    "        'As': [2,1], '2s': [2,2], '3s': [2,3], '4s': [2,4],'5s': [2,5], '6s': [2,6], '7s': [2,7], '8s': [2,8], '9s': [2,9], 'Ts': [2,10],'Js': [2,11], 'Qs': [2,12], 'Ks': [2,13],\n",
    "        'Ad': [3,1], '2d': [3,2], '3d': [3,3], '4d': [3,4],'5d': [3,5], '6d': [3,6], '7d': [3,7], '8d': [3,8], '9d': [3,9], 'Td': [3,10],'Jd': [3,11], 'Qd': [3,12], 'Kd': [3,13],\n",
    "        'Ac': [4,1], '2c': [4,2], '3c': [4,3], '4c': [4,4],'5c': [4,5], '6c': [4,6], '7c': [4,7], '8c': [4,8], '9c': [4,9], 'Tc': [4,10],'Jc': [4,11], 'Qc': [4,12], 'Kc': [4,13]\n",
    "        } #dict creation\n",
    "\n",
    "\n",
    "#example of creating a list the NN can understand\n",
    "#hand = deck.draw(5)\n",
    "#hand_for_nn=[]\n",
    "#for i in range(0,5):\n",
    " #   hand_for_nn=(hand_for_nn+trans[Card.int_to_str(hand[i])])\n",
    "    \n",
    "\n",
    "#print(Card.print_pretty_cards(hand)) \n",
    "\n",
    "    \n",
    "    \n",
    "    \n",
    "    \n",
    "#get ordinal rank\n",
    "#ordinal = evaluator._five(hand)\n",
    "\n",
    "\n",
    "\n",
    "#convert ordinal rank from treys to NN value\n",
    "end=0\n",
    "\n",
    "if(ordinal > 6185): #high card(\"not a hand\")\n",
    "    end = 0\n",
    "elif(ordinal > 3325): #one pair\n",
    "    end = 1\n",
    "elif(ordinal > 2467): #two pair\n",
    "    end = 2\n",
    "elif(ordinal > 1609): #three of a kind\n",
    "    end = 3\n",
    "elif(ordinal > 1599): #straight\n",
    "    end = 4\n",
    "elif(ordinal > 322): #flush\n",
    "    end = 5\n",
    "elif(ordinal > 166): #full house\n",
    "    end = 6\n",
    "elif(ordinal > 10): #four of a kind\n",
    "    end = 7\n",
    "elif(ordinal > 1): #straight flush\n",
    "    end = 8\n",
    "elif(ordinal == 1): #royal flush\n",
    "    end = 9\n",
    "\n",
    "    \n",
    "#add ordinal value to list to complete the list for the NN\n",
    "end_list=[end]\n",
    "#hand_for_nn=hand_for_nn+end_list\n",
    "\n",
    "#print(\"for NN\", hand_for_nn)\n",
    "\n",
    "#DELKHAZ & JEREMY, hand_for_nn is the array you should give your NN that it will understand!\n",
    "\n",
    "#model = load_model('ffbnn.h5') #ffbnn.h5 is feed forward NN\n",
    "\n",
    "#handarray = np.array([hand_for_nn]) #convert hand to np array for input\n",
    "\n",
    "#preds = model.predict(handarray) #calculates probabilities of each class from NN\n",
    "\n",
    "#print(\"for NN\", hand_for_nn)\n",
    "\n",
    "#print(np.argmax(preds)) #prints the highest probability ordinal class returned by the NN"
   ]
  },
  {
   "cell_type": "code",
   "execution_count": 1,
   "metadata": {},
   "outputs": [],
   "source": [
    "#treys testing\n",
    "\n",
    "#hand=deck.draw(52)\n",
    "\n",
    "#for i in range(52):\n",
    "  #  v=Card.int_to_str(hand[i]) #this gives me a string for example a 9 of hearts is 9h\n",
    "  #  print(v)\n",
    "\n"
   ]
  },
  {
   "cell_type": "code",
   "execution_count": 2,
   "metadata": {},
   "outputs": [],
   "source": [
    "#Card.print_pretty_card(hand[6])\n",
    "#Card.print_pretty_card(hand[2])"
   ]
  },
  {
   "cell_type": "code",
   "execution_count": 29,
   "metadata": {},
   "outputs": [],
   "source": [
    "#still need to find a way to get the class value,\n",
    "#i think maybe I can somehow search the data that the NN learned from after the hand dealt\n",
    "#by treys is translated and if all of the elements from the array are found in arr eles\n",
    "#0-9, then arr ele[10] is my class value\n",
    "#and then finally i will have a matched hand for the NN to tell me its categorization of it\n",
    "\n",
    "#the only thing with this is i cant just search for all of the elements in the array,\n",
    "#they need to be found in pairs such that im searching for 5 \"cards\" and not 10 ints"
   ]
  },
  {
   "cell_type": "code",
   "execution_count": 57,
   "metadata": {},
   "outputs": [],
   "source": [
    "#i need to see if the data is every possible combo of cards,\n",
    "#or if im lucky if it is every possible combo/order of cards\n",
    "#if its the latter I can simply search for exact matches excluding the last ele\n",
    "\n",
    "\n",
    "\n",
    "#might be able to use the lookup section of the evaluator in treys to assign the classification ele!"
   ]
  },
  {
   "cell_type": "markdown",
   "metadata": {},
   "source": [
    "## game creation/playing below"
   ]
  },
  {
   "cell_type": "code",
   "execution_count": 13,
   "metadata": {},
   "outputs": [],
   "source": [
    "deck=Deck() #reinitializes the deck every time this is ran"
   ]
  },
  {
   "cell_type": "code",
   "execution_count": 14,
   "metadata": {},
   "outputs": [
    {
     "name": "stdout",
     "output_type": "stream",
     "text": [
      "Player1 hand: \n",
      " [5♣],[3\u001b[31m♥\u001b[0m],[7\u001b[31m♦\u001b[0m],[9\u001b[31m♦\u001b[0m],[2♣] \n",
      "NN hand: \n",
      " [Q\u001b[31m♦\u001b[0m],[6\u001b[31m♥\u001b[0m],[7\u001b[31m♥\u001b[0m],[2\u001b[31m♦\u001b[0m],[A♠] \n"
     ]
    }
   ],
   "source": [
    "player1_hand=deck.draw(5) #draw initial hands\n",
    "nn_hand=deck.draw(5)\n",
    "\n",
    "#initialize money players have an money on table\n",
    "player1_money=100\n",
    "nn_money=100\n",
    "pot=0\n",
    "\n",
    "print (\"Player1 hand: \")# prints initial hands\n",
    "Card.print_pretty_cards(player1_hand)\n",
    "\n",
    "print (\"NN hand: \")\n",
    "Card.print_pretty_cards(nn_hand)\n",
    "\n"
   ]
  },
  {
   "cell_type": "code",
   "execution_count": 15,
   "metadata": {},
   "outputs": [
    {
     "name": "stdout",
     "output_type": "stream",
     "text": [
      "Label 0\n"
     ]
    }
   ],
   "source": [
    "#determine what the NN thinks of the hand\n",
    "hand_for_nn=[]\n",
    "for i in range(0,5):\n",
    "    hand_for_nn=(hand_for_nn+trans[Card.int_to_str(nn_hand[i])])\n",
    "\n",
    "    \n",
    "    \n",
    "model = load_model('ffbnn.h5') #ffbnn.h5 is feed forward NN\n",
    "\n",
    "handarray = np.array([hand_for_nn]) #convert hand to np array for input\n",
    "\n",
    "preds = model.predict(handarray) #calculates probabilities of each class from NN\n",
    "\n",
    "label=np.argmax(preds)\n",
    "\n",
    "print(\"Label\", label)\n",
    "\n",
    "#sometimes the NN doesnt return anything? bug?\n",
    "\n",
    "#print(\"NN says the hand is: \",np.argmax(preds)) #prints the highest probability ordinal class returned by the NN\n"
   ]
  },
  {
   "cell_type": "code",
   "execution_count": 24,
   "metadata": {},
   "outputs": [
    {
     "name": "stdout",
     "output_type": "stream",
     "text": [
      "NN hand: \n",
      " [3♠],[T♠],[4♠],[4\u001b[31m♥\u001b[0m],[8♠] \n"
     ]
    }
   ],
   "source": [
    "#code decisions based on classification here, might need to move\n",
    "#this into a function to be called later to clean all of this up\n",
    "#for the actual demo\n",
    "\n",
    "\n",
    "#if nothing in hand\n",
    "if (label==0):\n",
    "    nn_hand=deck.draw(5)#draw 5 new cards\n",
    "    print (\"NN hand: \")\n",
    "    Card.print_pretty_cards(nn_hand)\n",
    "    \n",
    "#if one pair\n",
    "if (label==1):\n",
    "    print(\"placeholder\")\n",
    "    #need to determine what cards are the pair.\n",
    "    #i think a pair just has the same value, dif suit so should be\n",
    "    #checking every even ele if beginning count at 0\n",
    "    \n",
    "    cards_to_keep=[] #array where will store the cards from hand to keep\n",
    "    count=2\n",
    "    for i in nn_hand:\n",
    "        current=nn_hand[i] #get card\n",
    "        for x in nn_hand:\n",
    "            if (x!=i): #if we're not on the card we are checking for a match for\n",
    "                check=nn_hand[x] #get card to check against current\n",
    "                if()\n",
    "                \n",
    "                \n",
    "    \n",
    "    \n",
    "    "
   ]
  },
  {
   "cell_type": "code",
   "execution_count": 26,
   "metadata": {},
   "outputs": [
    {
     "name": "stdout",
     "output_type": "stream",
     "text": [
      "Label 1\n"
     ]
    }
   ],
   "source": [
    "#NN evaluates hand for a second time\n",
    "\n",
    "\n",
    "#determine what the NN thinks of the hand\n",
    "hand_for_nn=[]\n",
    "for i in range(0,5):\n",
    "    hand_for_nn=(hand_for_nn+trans[Card.int_to_str(nn_hand[i])])\n",
    "\n",
    "    \n",
    "    \n",
    "#model = load_model('ffbnn.h5') #ffbnn.h5 is feed forward NN\n",
    "\n",
    "handarray = np.array([hand_for_nn]) #convert hand to np array for input\n",
    "\n",
    "preds = model.predict(handarray) #calculates probabilities of each class from NN\n",
    "\n",
    "label=np.argmax(preds)\n",
    "\n",
    "print(\"Label\", label)"
   ]
  },
  {
   "cell_type": "code",
   "execution_count": 27,
   "metadata": {},
   "outputs": [],
   "source": [
    "# CAN USE HAND RANKS FROM TREYS TO SEE WHO WINS\n"
   ]
  },
  {
   "cell_type": "markdown",
   "metadata": {},
   "source": [
    "## round 1 of betting/play"
   ]
  },
  {
   "cell_type": "code",
   "execution_count": 73,
   "metadata": {},
   "outputs": [],
   "source": [
    "#so this is where the NN's evaluating their hands and send me back \"scores\" will happen.\n",
    "\n",
    "#based on these scores I will hardcode decisions\n",
    "#such as fold, call or raise\n",
    "\n",
    "#in what format are the scores that the NN's will send me??"
   ]
  },
  {
   "cell_type": "code",
   "execution_count": 71,
   "metadata": {},
   "outputs": [],
   "source": [
    "#this is where I will discard cards and draw new ones"
   ]
  },
  {
   "cell_type": "code",
   "execution_count": 72,
   "metadata": {},
   "outputs": [],
   "source": [
    "#this is where I will evaluate the hands with the NN's once more"
   ]
  },
  {
   "cell_type": "markdown",
   "metadata": {},
   "source": [
    "## round 2 of betting/play"
   ]
  },
  {
   "cell_type": "code",
   "execution_count": null,
   "metadata": {},
   "outputs": [],
   "source": []
  },
  {
   "cell_type": "markdown",
   "metadata": {},
   "source": [
    "## reveal of winner"
   ]
  },
  {
   "cell_type": "code",
   "execution_count": 76,
   "metadata": {},
   "outputs": [],
   "source": [
    "#send money to whoever and log who won.\n",
    "#all of this will have to be done in a loop and X games will need to played to determine statistical\n",
    "#dominance of 1 net\n",
    "\n",
    "#so maybe I will combine all of this when done into 1 cell with a loop or something or maybe\n",
    "#i can throw this into another file and call the game to be played\n"
   ]
  }
 ],
 "metadata": {
  "kernelspec": {
   "display_name": "Python 3",
   "language": "python",
   "name": "python3"
  },
  "language_info": {
   "codemirror_mode": {
    "name": "ipython",
    "version": 3
   },
   "file_extension": ".py",
   "mimetype": "text/x-python",
   "name": "python",
   "nbconvert_exporter": "python",
   "pygments_lexer": "ipython3",
   "version": "3.5.3"
  }
 },
 "nbformat": 4,
 "nbformat_minor": 2
}
