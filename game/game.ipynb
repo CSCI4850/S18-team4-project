{
 "cells": [
  {
   "cell_type": "code",
   "execution_count": 52,
   "metadata": {},
   "outputs": [],
   "source": [
    "from treys import Deck,Card\n",
    "\n",
    "deck=Deck()"
   ]
  },
  {
   "cell_type": "code",
   "execution_count": 2,
   "metadata": {},
   "outputs": [],
   "source": [
    "#dict testing\n",
    "\n",
    "t=[\"2h\",\"3h\",\"4h\",\"5h\",\"6h\"] #treys card reps\n",
    "n=[[1,2],[1,3],[1,4],[1,5],[1,6]] #nn card reps"
   ]
  },
  {
   "cell_type": "code",
   "execution_count": 61,
   "metadata": {},
   "outputs": [
    {
     "name": "stdout",
     "output_type": "stream",
     "text": [
      "[1, 2, 1, 3]\n",
      "dict_keys(['Ks', 'Ac', 'Ts', 'Jh', '3s', 'Kh', 'Qc', '8s', '8d', '2s', '6d', '4h', '8h', 'Qs', 'Qh', '4s', 'Qd', 'Js', '3c', 'Td', 'Jc', '9h', '8c', '5s', 'As', 'Jd', '9c', '5c', '2c', '4d', '6h', '9d', '7s', 'Th', 'Tc', '5h', 'Ad', '7h', '6c', '6s', '4c', 'Ah', '2h', '3h', 'Kc', '2d', '3d', '7c', '9s', '7d', '5d'])\n"
     ]
    }
   ],
   "source": [
    "trans = {'Ah': [1,1], '2h': [1,2], '3h': [1,3], '4h': [1,4],'5h': [1,5], '6h': [1,6], '7h': [1,7], '8h': [1,8], '9h': [1,9], 'Th': [1,10],'Jh': [1,11], 'Qh': [1,12], 'Kh': [1,13],\n",
    "        'As': [2,1], '2s': [2,2], '3s': [2,3], '4s': [2,4],'5s': [2,5], '6s': [2,6], '7s': [2,7], '8s': [2,8], '9s': [2,9], 'Ts': [2,10],'Js': [2,11], 'Qs': [2,12], 'Ks': [2,13],\n",
    "        'Ad': [3,1], '2d': [3,2], '3d': [3,3], '4d': [3,4],'5d': [3,5], '6d': [3,6], '7d': [3,7], '8d': [3,8], '9d': [3,9], 'Td': [3,10],'Jd': [3,11], 'Qd': [3,12], 'Kh': [3,13],\n",
    "        'Ac': [4,1], '2c': [4,2], '3c': [4,3], '4c': [4,4],'5c': [4,5], '6c': [4,6], '7c': [4,7], '8c': [4,8], '9c': [4,9], 'Tc': [4,10],'Jc': [4,11], 'Qc': [4,12], 'Kc': [4,13]\n",
    "        } #dict creation\n",
    "\n",
    "\n",
    "#example of creating a list the NN can understand\n",
    "x = trans['2h']\n",
    "y = trans['3h']\n",
    "x=x+y\n",
    "print(x)\n",
    "\n",
    "print(trans.keys())"
   ]
  },
  {
   "cell_type": "code",
   "execution_count": 53,
   "metadata": {},
   "outputs": [
    {
     "name": "stdout",
     "output_type": "stream",
     "text": [
      "6h\n",
      "7s\n",
      "Jh\n",
      "8c\n",
      "5c\n",
      "4s\n",
      "Ts\n",
      "6s\n",
      "Qs\n",
      "4d\n",
      "Jd\n",
      "Kc\n",
      "9s\n",
      "Th\n",
      "3h\n",
      "4h\n",
      "9c\n",
      "Ad\n",
      "3s\n",
      "4c\n",
      "Td\n",
      "8s\n",
      "2s\n",
      "5d\n",
      "2c\n",
      "Ah\n",
      "9d\n",
      "Ac\n",
      "Ks\n",
      "5s\n",
      "Js\n",
      "3d\n",
      "Qd\n",
      "Qc\n",
      "6d\n",
      "7d\n",
      "6c\n",
      "9h\n",
      "Kh\n",
      "5h\n",
      "3c\n",
      "Kd\n",
      "7c\n",
      "Tc\n",
      "8h\n",
      "Jc\n",
      "8d\n",
      "Qh\n",
      "2h\n",
      "2d\n",
      "7h\n",
      "As\n"
     ]
    }
   ],
   "source": [
    "#treys testing\n",
    "\n",
    "hand=deck.draw(52)\n",
    "\n",
    "for i in range(52):\n",
    "    v=Card.int_to_str(hand[i]) #this gives me a string for example a 9 of hearts is 9h\n",
    "    print(v)\n",
    "\n"
   ]
  },
  {
   "cell_type": "code",
   "execution_count": 56,
   "metadata": {},
   "outputs": [
    {
     "name": "stdout",
     "output_type": "stream",
     "text": [
      "[T♠]\n",
      "[J\u001b[31m♥\u001b[0m]\n"
     ]
    }
   ],
   "source": [
    "Card.print_pretty_card(hand[6])\n",
    "Card.print_pretty_card(hand[2])"
   ]
  },
  {
   "cell_type": "code",
   "execution_count": 29,
   "metadata": {},
   "outputs": [],
   "source": [
    "#still need to find a way to get the class value,\n",
    "#i think maybe I can somehow search the data that the NN learned from after the hand dealt\n",
    "#by treys is translated and if all of the elements from the array are found in arr eles\n",
    "#0-9, then arr ele[10] is my class value\n",
    "#and then finally i will have a matched hand for the NN to tell me its categorization of it\n",
    "\n",
    "#the only thing with this is i cant just search for all of the elements in the array,\n",
    "#they need to be found in pairs such that im searching for 5 \"cards\" and not 10 ints"
   ]
  },
  {
   "cell_type": "code",
   "execution_count": 57,
   "metadata": {},
   "outputs": [],
   "source": [
    "#i need to see if the data is every possible combo of cards,\n",
    "#or if im lucky if it is every possible combo/order of cards\n",
    "#if its the latter I can simply search for exact matches excluding the last ele\n",
    "\n",
    "\n",
    "\n",
    "#might be able to use the lookup section of the evaluator in treys to assign the classification ele!"
   ]
  }
 ],
 "metadata": {
  "kernelspec": {
   "display_name": "Python 3",
   "language": "python",
   "name": "python3"
  },
  "language_info": {
   "codemirror_mode": {
    "name": "ipython",
    "version": 3
   },
   "file_extension": ".py",
   "mimetype": "text/x-python",
   "name": "python",
   "nbconvert_exporter": "python",
   "pygments_lexer": "ipython3",
   "version": "3.5.3"
  }
 },
 "nbformat": 4,
 "nbformat_minor": 2
}
