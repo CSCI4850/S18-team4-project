{
 "cells": [
  {
   "cell_type": "code",
   "execution_count": 2,
   "metadata": {},
   "outputs": [],
   "source": [
    "from treys import Deck,Card"
   ]
  },
  {
   "cell_type": "code",
   "execution_count": 6,
   "metadata": {},
   "outputs": [
    {
     "name": "stdout",
     "output_type": "stream",
     "text": [
      " [J♣],[4\u001b[31m♦\u001b[0m],[A\u001b[31m♥\u001b[0m],[Q♠],[2♣] \n"
     ]
    }
   ],
   "source": [
    "deck=Deck()\n",
    "\n",
    "hand=deck.draw(5)\n",
    "Card.print_pretty_cards(hand)"
   ]
  },
  {
   "cell_type": "code",
   "execution_count": 7,
   "metadata": {},
   "outputs": [
    {
     "name": "stdout",
     "output_type": "stream",
     "text": [
      "Player1 hand: \n",
      " [4♣],[3♣],[K\u001b[31m♦\u001b[0m],[J♠],[T\u001b[31m♥\u001b[0m] \n",
      "Player2 hand: \n",
      " [3♠],[2♠],[9♣],[3\u001b[31m♦\u001b[0m],[6\u001b[31m♥\u001b[0m] \n",
      " [T\u001b[31m♦\u001b[0m],[8\u001b[31m♥\u001b[0m] \n",
      " [8\u001b[31m♥\u001b[0m] \n",
      " [4♣],[3♣],[K\u001b[31m♦\u001b[0m],[J♠],[T\u001b[31m♥\u001b[0m],[8\u001b[31m♥\u001b[0m] \n",
      "4\n",
      "2\n",
      "2048\n",
      "512\n",
      "295429\n",
      "num here:\n",
      "295429\n",
      "4c\n"
     ]
    }
   ],
   "source": [
    "player1_hand=deck.draw(5)\n",
    "player2_hand=deck.draw(5)\n",
    "\n",
    "print (\"Player1 hand: \")\n",
    "Card.print_pretty_cards(player1_hand)\n",
    "\n",
    "print (\"Player2 hand: \")\n",
    "Card.print_pretty_cards(player2_hand)\n",
    "\n",
    "##need to figure out how to the the data into a form i can give to a NN\\\n",
    "#so when i do deck.draw() is it an array or what?\n",
    "\n",
    "#x=deck.GetFullDeck()\n",
    "\n",
    "#Card.print_pretty_cards(x)\n",
    "\n",
    "player2_hand=deck.draw(2)\n",
    "Card.print_pretty_cards(player2_hand)\n",
    "\n",
    "del player2_hand[0] #gets rid of a bit of the player hand, gets rid of the first card\n",
    "Card.print_pretty_cards(player2_hand)\n",
    "\n",
    "\n",
    "#in this way i can add things to hands and discard\n",
    "player2_hand=player1_hand+player2_hand\n",
    "Card.print_pretty_cards(player2_hand)\n",
    "\n",
    "#so whatever card the algorithm wants to discard, I can just identify its ele and del it!\n",
    "y=Card.get_bitrank_int(player1_hand[0])\n",
    "z=Card.get_bitrank_int(player1_hand[1])\n",
    "q=Card.get_bitrank_int(player1_hand[2])\n",
    "w=Card.get_bitrank_int(player1_hand[3])\n",
    "print(y)\n",
    "print(z)\n",
    "print(q)\n",
    "print(w)\n",
    "print(player1_hand[0])\n",
    "\n",
    "print(\"num here:\")\n",
    "m=player1_hand[0]\n",
    "print(m)\n",
    "\n",
    "\n",
    "#HOW TO GET SRING VALUES OF CARDS!\n",
    "v=Card.int_to_str(player1_hand[0]) #this gives me a string for example a 9 of hearts is 9h\n",
    "print(v)\n",
    "\n",
    "#I THINK i can use a python dictionary to encode this library as keys to values the NN will understand\n",
    "#or i might have to do it the other way around\n",
    "#SO if the library calls a nine of hearts \"9h\" make \"9h\" the key that gives you the value\n",
    "#that the NN will understand, so maybe it understands that as \"NineH\" or something need to find out\n",
    "\n",
    "#so i need to figure out what way the library is coding the hands,\n",
    "#like what integer value corresponds to a 2 of hearts? there has to be a system of course\n",
    "#if I can figure this out I can feed the hands to neural nets\n",
    "#although I might need my own code to \"translate\" this to the way they recognize a 2 of hearts\n"
   ]
  }
 ],
 "metadata": {
  "kernelspec": {
   "display_name": "Python 3",
   "language": "python",
   "name": "python3"
  },
  "language_info": {
   "codemirror_mode": {
    "name": "ipython",
    "version": 3
   },
   "file_extension": ".py",
   "mimetype": "text/x-python",
   "name": "python",
   "nbconvert_exporter": "python",
   "pygments_lexer": "ipython3",
   "version": "3.5.3"
  }
 },
 "nbformat": 4,
 "nbformat_minor": 2
}
