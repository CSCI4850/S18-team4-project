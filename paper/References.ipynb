{
 "cells": [
  {
   "cell_type": "raw",
   "metadata": {},
   "source": [
    "@article{b1,\n",
    "  author = \"L\\^e D{\\~u}ng Trang and Zoghman Mebkhout\",\n",
    "   title = \"Vari\\'et\\'es caract\\'er\\-istiques et vari\\'et\\'es polaires\",\n",
    " journal = \"C. R. Acad. Sc. Paris\",\n",
    "  volume = 296,\n",
    "    year = 1983,\n",
    "   pages = \"129--132\"\n",
    "}"
   ]
  },
  {
   "cell_type": "raw",
   "metadata": {},
   "source": [
    "@article{b2,\n",
    "  author = \"Jo{\\\"e}l Biran{\\c c}on and Philippe Maisonobe and Michel Merle\",\n",
    "   title = \"Localisation de syst\\`emes diff\\'erentiels, stratifications\n",
    "            de {W}hitney et condition de {T}hom\",\n",
    " journal = \"Invent. Math.\",\n",
    "  volume = 117,\n",
    "    year = 1994,\n",
    "   pages = \"531--550\"\n",
    "}"
   ]
  },
  {
   "cell_type": "raw",
   "metadata": {},
   "source": [
    "@article{b3,\n",
    "  author = \"Adam Parusi\\'nski and Piotr Pragacz\",\n",
    "   title = \"A formula for the {E}uler characteristic of singular hypersurfaces\",\n",
    " journal = \"J. Alg. Geom.\",\n",
    "  volume = 4,\n",
    "    year = 1995,\n",
    "   pages = \"337-351\"\n",
    "}"
   ]
  },
  {
   "cell_type": "raw",
   "metadata": {},
   "source": [
    "@unpublished{b4,\n",
    "    author = \"K. Elissa\",\n",
    "    title = \"Title of paper if known\"\n",
    "}"
   ]
  },
  {
   "cell_type": "raw",
   "metadata": {},
   "source": [
    "@article{b5,\n",
    "    author = \"R. Nicole\",\n",
    "    title = \"Title of paper with only first word capitalized\",\n",
    "    journal = \"J. Name Stand. Abbrev.\"\n",
    "}"
   ]
  },
  {
   "cell_type": "raw",
   "metadata": {},
   "source": [
    "@article{b6,\n",
    "  author = \"L\\^e D{\\~u}ng Trang and Bernard Teissier\",\n",
    "   title = \"Vari\\'et\\'es polaires locales et classes de {C}hern des\n",
    "            vari\\'et\\'es singuli\\`eres\",\n",
    " journal = \"Ann. of Math.\",\n",
    "  volume = 114,\n",
    "    year = 1981,\n",
    "   pages = \"457--491\"\n",
    "}   "
   ]
  },
  {
   "cell_type": "raw",
   "metadata": {},
   "source": [
    "@article{b7,\n",
    "  author = \"Dirk Siersma and Mihai Ti{\\u b}ar\",\n",
    "   title = \"Singularities at infinity and their vanishing cycles\",\n",
    " journal = \"Duke Math. J.\",\n",
    "  volume = 80,\n",
    "    year = 1995,\n",
    "   pages = \"771--783\"\n",
    "}"
   ]
  },
  {
   "cell_type": "raw",
   "metadata": {},
   "source": [
    "@electronic{odds,\n",
    " author    = \"Michael Shackleford\",\n",
    " month     = \"March\",\n",
    " year      = \"2018\",\n",
    " title     = \"Poker Probabillities - Wizard of Odds\",\n",
    " url       = \"https://wizardofodds.com/games/poker/\"\n",
    "}"
   ]
  },
  {
   "cell_type": "raw",
   "metadata": {},
   "source": [
    "@article{deepstack,\n",
    "  author    = {Matej Moravc{\\'{\\i}}k and\n",
    "               Martin Schmid and\n",
    "               Neil Burch and\n",
    "               Viliam Lis{\\'{y}} and\n",
    "               Dustin Morrill and\n",
    "               Nolan Bard and\n",
    "               Trevor Davis and\n",
    "               Kevin Waugh and\n",
    "               Michael Johanson and\n",
    "               Michael H. Bowling},\n",
    "  title     = {DeepStack: Expert-Level Artificial Intelligence in No-Limit Poker},\n",
    "  journal   = {CoRR},\n",
    "  volume    = {abs/1701.01724},\n",
    "  year      = {2017},\n",
    "  url       = {http://arxiv.org/abs/1701.01724},\n",
    "  archivePrefix = {arXiv},\n",
    "  eprint    = {1701.01724},\n",
    "  timestamp = {Wed, 07 Jun 2017 14:40:10 +0200},\n",
    "  biburl    = {https://dblp.org/rec/bib/journals/corr/MoravcikSBLMBDW17},\n",
    "  bibsource = {dblp computer science bibliography, https://dblp.org}\n",
    "}"
   ]
  },
  {
   "cell_type": "raw",
   "metadata": {},
   "source": [
    "@misc{uci,\n",
    "    author = \"Dheeru, Dua and Karra Taniskidou, Efi\",\n",
    "    year = \"2017\",\n",
    "    title = \"{UCI} Machine Learning Repository\",\n",
    "    url = \"http://archive.ics.uci.edu/ml\",\n",
    "    institution = \"University of California, Irvine, School of Information and Computer Sciences\" \n",
    "}"
   ]
  },
  {
   "cell_type": "raw",
   "metadata": {},
   "source": [
    "@book{DLbook,\n",
    "    title={Deep Learning},\n",
    "    author={Ian Goodfellow and Yoshua Bengio and Aaron Courville},\n",
    "    publisher={MIT Press},\n",
    "    note={\\url{http://www.deeplearningbook.org}},\n",
    "    year={2016}\n",
    "}"
   ]
  },
  {
   "cell_type": "raw",
   "metadata": {},
   "source": [
    "@misc{ker,\n",
    "  title={Keras},\n",
    "  author={Chollet, Fran\\c{c}ois and others},\n",
    "  year={2015},\n",
    "  howpublished={\\url{https://keras.io}},\n",
    "}"
   ]
  },
  {
   "cell_type": "raw",
   "metadata": {},
   "source": [
    "@misc{moffitt, \n",
    "    title={Guide to Encoding Categorical Values in Python}, \n",
    "    url={http://pbpython.com/categorical-encoding.html}, \n",
    "    journal={Practical Business Python Atom}, \n",
    "    author={Moffitt, Chris}\n",
    "}"
   ]
  },
  {
   "cell_type": "raw",
   "metadata": {},
   "source": [
    "@misc{github, \n",
    "    title={CSCI4850/S18-team4-project}, \n",
    "    url={https://github.com/CSCI4850/S18-team4-project/}, \n",
    "    journal={GitHub}, \n",
    "    author={Lowery, Brandon and Ibrahimi, Delkhaz and Watts, Jeremy and Lampley, Loraina}\n",
    "}"
   ]
  }
 ],
 "metadata": {
  "kernelspec": {
   "display_name": "Python 3",
   "language": "python",
   "name": "python3"
  },
  "language_info": {
   "codemirror_mode": {
    "name": "ipython",
    "version": 3
   },
   "file_extension": ".py",
   "mimetype": "text/x-python",
   "name": "python",
   "nbconvert_exporter": "python",
   "pygments_lexer": "ipython3",
   "version": "3.5.3"
  }
 },
 "nbformat": 4,
 "nbformat_minor": 2
}
