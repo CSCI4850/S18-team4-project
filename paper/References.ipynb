{
 "cells": [
  {
   "cell_type": "raw",
   "metadata": {},
   "source": [
    "@electronic{odds,\n",
    " author    = \"Michael Shackleford\",\n",
    " month     = \"March\",\n",
    " year      = \"2018\",\n",
    " title     = \"Poker Probabillities - Wizard of Odds\",\n",
    " url       = \"https://wizardofodds.com/games/poker/\"\n",
    "}"
   ]
  },
  {
   "cell_type": "raw",
   "metadata": {},
   "source": [
    "@article{deepstack,\n",
    "  author    = {Matej Moravc{\\'{\\i}}k and\n",
    "               Martin Schmid and\n",
    "               Neil Burch and\n",
    "               Viliam Lis{\\'{y}} and\n",
    "               Dustin Morrill and\n",
    "               Nolan Bard and\n",
    "               Trevor Davis and\n",
    "               Kevin Waugh and\n",
    "               Michael Johanson and\n",
    "               Michael H. Bowling},\n",
    "  title     = {DeepStack: Expert-Level Artificial Intelligence in No-Limit Poker},\n",
    "  journal   = {CoRR},\n",
    "  volume    = {abs/1701.01724},\n",
    "  year      = {2017},\n",
    "  url       = {http://arxiv.org/abs/1701.01724},\n",
    "  archivePrefix = {arXiv},\n",
    "  eprint    = {1701.01724},\n",
    "  timestamp = {Wed, 07 Jun 2017 14:40:10 +0200},\n",
    "  biburl    = {https://dblp.org/rec/bib/journals/corr/MoravcikSBLMBDW17},\n",
    "  bibsource = {dblp computer science bibliography, https://dblp.org}\n",
    "}"
   ]
  },
  {
   "cell_type": "raw",
   "metadata": {},
   "source": [
    "@misc{uci,\n",
    "    author = \"Dheeru, Dua and Karra Taniskidou, Efi\",\n",
    "    year = \"2017\",\n",
    "    title = \"{UCI} Machine Learning Repository\",\n",
    "    url = \"http://archive.ics.uci.edu/ml\",\n",
    "    institution = \"University of California, Irvine, School of Information and Computer Sciences\" \n",
    "}"
   ]
  },
  {
   "cell_type": "raw",
   "metadata": {},
   "source": [
    "@book{DLbook,\n",
    "    title={Deep Learning},\n",
    "    author={Ian Goodfellow and Yoshua Bengio and Aaron Courville},\n",
    "    publisher={MIT Press},\n",
    "    note={\\url{http://www.deeplearningbook.org}},\n",
    "    year={2016}\n",
    "}"
   ]
  },
  {
   "cell_type": "raw",
   "metadata": {},
   "source": [
    "@misc{ker,\n",
    "  title={Keras},\n",
    "  author={Chollet, Fran\\c{c}ois and others},\n",
    "  year={2015},\n",
    "  howpublished={\\url{https://keras.io}},\n",
    "}"
   ]
  },
  {
   "cell_type": "raw",
   "metadata": {},
   "source": [
    "@misc{moffitt, \n",
    "    title={Guide to Encoding Categorical Values in Python}, \n",
    "    url={http://pbpython.com/categorical-encoding.html}, \n",
    "    journal={Practical Business Python Atom}, \n",
    "    author={Moffitt, Chris}\n",
    "}"
   ]
  },
  {
   "cell_type": "raw",
   "metadata": {},
   "source": [
    "@misc{github, \n",
    "    title={CSCI4850/S18-team4-project}, \n",
    "    url={https://github.com/CSCI4850/S18-team4-project/}, \n",
    "    journal={GitHub}, \n",
    "    author={Lowery, Brandon and Ibrahimi, Delkhaz and Watts, Jeremy and Lampley, Loraina}\n",
    "}"
   ]
  },
  {
   "cell_type": "raw",
   "metadata": {},
   "source": [
    "@article{classification,\n",
    "    author = {Jabin, Suraiya},\n",
    "    year = {2016},\n",
    "    month = {04},\n",
    "    pages = {269-273},\n",
    "    title = {Poker hand classification}\n",
    "}"
   ]
  }
 ],
 "metadata": {
  "kernelspec": {
   "display_name": "Python 3",
   "language": "python",
   "name": "python3"
  },
  "language_info": {
   "codemirror_mode": {
    "name": "ipython",
    "version": 3
   },
   "file_extension": ".py",
   "mimetype": "text/x-python",
   "name": "python",
   "nbconvert_exporter": "python",
   "pygments_lexer": "ipython3",
   "version": "3.5.3"
  }
 },
 "nbformat": 4,
 "nbformat_minor": 2
}
