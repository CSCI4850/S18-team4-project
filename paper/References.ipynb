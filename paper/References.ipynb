{
 "cells": [
  {
   "cell_type": "raw",
   "metadata": {},
   "source": [
    "@article{b1,\n",
    "  author = \"L\\^e D{\\~u}ng Trang and Zoghman Mebkhout\",\n",
    "   title = \"Vari\\'et\\'es caract\\'er\\-istiques et vari\\'et\\'es polaires\",\n",
    " journal = \"C. R. Acad. Sc. Paris\",\n",
    "  volume = 296,\n",
    "    year = 1983,\n",
    "   pages = \"129--132\"\n",
    "}"
   ]
  },
  {
   "cell_type": "raw",
   "metadata": {},
   "source": [
    "@article{b2,\n",
    "  author = \"Jo{\\\"e}l Biran{\\c c}on and Philippe Maisonobe and Michel Merle\",\n",
    "   title = \"Localisation de syst\\`emes diff\\'erentiels, stratifications\n",
    "            de {W}hitney et condition de {T}hom\",\n",
    " journal = \"Invent. Math.\",\n",
    "  volume = 117,\n",
    "    year = 1994,\n",
    "   pages = \"531--550\"\n",
    "}"
   ]
  },
  {
   "cell_type": "raw",
   "metadata": {},
   "source": [
    "@article{b3,\n",
    "  author = \"Adam Parusi\\'nski and Piotr Pragacz\",\n",
    "   title = \"A formula for the {E}uler characteristic of singular hypersurfaces\",\n",
    " journal = \"J. Alg. Geom.\",\n",
    "  volume = 4,\n",
    "    year = 1995,\n",
    "   pages = \"337-351\"\n",
    "}"
   ]
  },
  {
   "cell_type": "raw",
   "metadata": {},
   "source": [
    "@unpublished{b4,\n",
    "    author = \"K. Elissa\",\n",
    "    title = \"Title of paper if known\"\n",
    "}"
   ]
  },
  {
   "cell_type": "raw",
   "metadata": {},
   "source": [
    "@article{b5,\n",
    "    author = \"R. Nicole\",\n",
    "    title = \"Title of paper with only first word capitalized\",\n",
    "    journal = \"J. Name Stand. Abbrev.\"\n",
    "}"
   ]
  },
  {
   "cell_type": "raw",
   "metadata": {},
   "source": [
    "@article{b6,\n",
    "  author = \"L\\^e D{\\~u}ng Trang and Bernard Teissier\",\n",
    "   title = \"Vari\\'et\\'es polaires locales et classes de {C}hern des\n",
    "            vari\\'et\\'es singuli\\`eres\",\n",
    " journal = \"Ann. of Math.\",\n",
    "  volume = 114,\n",
    "    year = 1981,\n",
    "   pages = \"457--491\"\n",
    "}   "
   ]
  },
  {
   "cell_type": "raw",
   "metadata": {},
   "source": [
    "@article{b7,\n",
    "  author = \"Dirk Siersma and Mihai Ti{\\u b}ar\",\n",
    "   title = \"Singularities at infinity and their vanishing cycles\",\n",
    " journal = \"Duke Math. J.\",\n",
    "  volume = 80,\n",
    "    year = 1995,\n",
    "   pages = \"771--783\"\n",
    "}"
   ]
  }
 ],
 "metadata": {
  "kernelspec": {
   "display_name": "Python 3",
   "language": "python",
   "name": "python3"
  },
  "language_info": {
   "codemirror_mode": {
    "name": "ipython",
    "version": 3
   },
   "file_extension": ".py",
   "mimetype": "text/x-python",
   "name": "python",
   "nbconvert_exporter": "python",
   "pygments_lexer": "ipython3",
   "version": "3.5.3"
  }
 },
 "nbformat": 4,
 "nbformat_minor": 2
}
