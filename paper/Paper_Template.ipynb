{
 "cells": [
  {
   "cell_type": "raw",
   "metadata": {},
   "source": [
    "% PACKAGES INCLUDED HERE \n",
    "% DO NOT NEED TO CHANGE\n",
    "\\documentclass[conference]{IEEEtran}\n",
    "%\\IEEEoverridecommandlockouts\n",
    "% The preceding line is only needed to identify funding in the first footnote. If that is unneeded, please comment it out.\n",
    "\\usepackage{cite}\n",
    "\\usepackage{amsmath,amssymb,amsfonts}\n",
    "\\usepackage{algorithmic}\n",
    "\\usepackage{graphicx}\n",
    "\\usepackage{textcomp}\n",
    "\\def\\BibTeX{{\\rm B\\kern-.05em{\\sc i\\kern-.025em b}\\kern-.08em\n",
    "    T\\kern-.1667em\\lower.7ex\\hbox{E}\\kern-.125emX}}\n",
    "\\begin{document}"
   ]
  },
  {
   "cell_type": "raw",
   "metadata": {},
   "source": [
    "% TITLE GOES HERE\n",
    "\n",
    "\\title{Comparing Feed-Forward and Recurrent Neural Networks by Training Poker AIs\\\\}\n"
   ]
  },
  {
   "cell_type": "raw",
   "metadata": {},
   "source": [
    "% AUTHOR NAMES GOES HERE\n",
    "\n",
    "\\author{\\IEEEauthorblockN{Delkhaz Ibrahimi}\n",
    "\\IEEEauthorblockA{\\textit{Department of Computer Science} \\\\\n",
    "\\textit{Middle Tennessee State University}\\\\\n",
    "Murrfreesboro, Tennessee USA\\\\\n",
    "dai2i@mtmail.mtsu.edu}\n",
    "\\and\n",
    "\\IEEEauthorblockN{Loraina Lampley}\n",
    "\\IEEEauthorblockA{\\textit{Department of Computer Science} \\\\\n",
    "\\textit{Middle Tennessee State University}\\\\\n",
    "Murrfreesboro, Tennessee USA\\\\\n",
    "lnl2v@mtmail.mtsu.edu}\n",
    "\\and\n",
    "\\IEEEauthorblockN{Brandon Lowery}\n",
    "\\IEEEauthorblockA{\\textit{Department of Computer Science} \\\\\n",
    "\\textit{Middle Tennessee State University}\\\\\n",
    "Murrfreesboro, Tennessee USA\\\\\n",
    "bdl3k@mtmail.mtsu.edu}\n",
    "\\and\n",
    "\\IEEEauthorblockN{Jeremy Watts}\n",
    "\\IEEEauthorblockA{\\textit{Department of Computer Science} \\\\\n",
    "\\textit{Middle Tennessee State University}\\\\\n",
    "Murrfreesboro, Tennessee USA\\\\\n",
    "email address}\n",
    "}\n",
    "\n",
    "\\maketitle"
   ]
  },
  {
   "cell_type": "raw",
   "metadata": {},
   "source": [
    "% ABSTRACT \n",
    "\n",
    "\\begin{abstract}\n",
    "This document is a model and instructions for \\LaTeX.\n",
    "This and the IEEEtran.cls file define the components of your paper [title, text, heads, etc.]. *CRITICAL: Do Not Use Symbols, Special Characters, Footnotes, \n",
    "or Math in Paper Title or Abstract.\n",
    "\\end{abstract}\n"
   ]
  },
  {
   "cell_type": "raw",
   "metadata": {},
   "source": [
    "% KEYWORDS\n",
    "\n",
    "\\begin{IEEEkeywords}\n",
    "component, formatting, style, styling, insert\n",
    "\\end{IEEEkeywords}"
   ]
  },
  {
   "cell_type": "raw",
   "metadata": {},
   "source": [
    "% INTRODUCTION SECTION\n",
    "\\section{Introduction}\n",
    "\n",
    "Gaming is a common way to test an individual’s aptitude to complete a specified challenge.  In competitive gaming, the individual’s ability is often measured against a set precedent or another human player.  Competitive games have evolved to now include computer games, and computerized players that an individual can compete against. This creates the problem of how to create a good computerized player that would be able to actively respond to the game conditions as it progresses throughout the various stages of the game. A solution to this problem would be to find a technique that could develop a computerized artificial intelligence, computer AI, that could identify the circumstances of the game and then react based on those observations. One technique that can be used for the development of the computerized AI, is the implementation of a neural network to train the computer AI in the game procedure. A computer player that was trained by the neural network would then compete in the game with some capacity to respond to the game environment. The level of training necessary would be relative to the complexity of the game.\n",
    "\n",
    "Poker is an example of a competitive game that often is generated with computerized players. The game itself has many variations of differing complexity. The poker variant 5-Card Stud has 2,598,960 different hand combinations in a standard 52 card deck from only one draw of a 5-card hand. These different hands are then classified into categories based on the value of the cards. The categories of hands, ranks and odds of each hand are detailed in \\textbf{Table} \\ref{tab1}. With this many possible hands, it is easy to see how difficult it could be to train a computer AI to categorize all the possible hands. The difficulty continues as poker not only has an ample collection of hands, but also adds an element of betting, raising, or folding based on the likelihood of one player having the better hand. This decision can be assisted by knowing the rank of the current hand and the odds of having each hand category that has a higher rank. Computerized players must be able to identify the hand and then use a categorical approach based on the odds and significant training to determine how likely it is to have a better hand then the other player. That is when the computerized player would choose to bet, raise or fold armed with nothing else other than the ability to classify a hand and determine how likely it is to be in the lead based on a prior knowledge of the statistics of its hand.\n",
    "\n",
    "\\begin{table}[htbp]\n",
    "\\caption{Poker Hand Types}\n",
    "\\begin{center}\n",
    "\\begin{tabular}{|c|c|c|}\n",
    "\\hline\n",
    "\\textbf{Rank} & \\textbf{Hand Name}& \\textbf{Odds} \\\\\n",
    "\\hline\n",
    "\\textbf{10} & \\textbf{\\textit{Royal Flush}}& \\textbf{\\textit{0.00000154}} \\\\\n",
    "\\hline\n",
    "\\textbf{9} & \\textbf{\\textit{Straight Flush}}& \\textbf{\\textit{0.00001385}} \\\\\n",
    "\\hline\n",
    "\\textbf{8} & \\textbf{\\textit{Four of a Kind}}& \\textbf{\\textit{0.00024010}} \\\\\n",
    "\\hline\n",
    "\\textbf{7} & \\textbf{\\textit{Full House}}& \\textbf{\\textit{0.00144058}} \\\\\n",
    "\\hline\n",
    "\\textbf{6} & \\textbf{\\textit{Flush}}& \\textbf{\\textit{0.00196540}} \\\\\n",
    "\\hline\n",
    "\\textbf{5} & \\textbf{\\textit{Straight}}& \\textbf{\\textit{0.00392465}} \\\\\n",
    "\\hline\n",
    "\\textbf{4} & \\textbf{\\textit{Three of a Kind}}& \\textbf{\\textit{0.02112845}} \\\\\n",
    "\\hline\n",
    "\\textbf{3} & \\textbf{\\textit{Two Pair}}& \\textbf{\\textit{0.04753902}} \\\\\n",
    "\\hline\n",
    "\\textbf{2} & \\textbf{\\textit{Pair}}& \\textbf{\\textit{0.42256903}} \\\\\n",
    "\\hline\n",
    "\\textbf{1} & \\textbf{\\textit{Nothing}}& \\textbf{\\textit{0.50117739}} \\\\\n",
    "\\hline\n",
    "\\multicolumn{3}{l}{$^{\\mathrm{a}}$Probabillities based on Five Card Stud.\\cite{b8}.} \n",
    "\\end{tabular}\n",
    "\\label{tab1}\n",
    "\\end{center}\n",
    "\\end{table}\n",
    "\n",
    "A computerized poker player that is trained by a neural network would need to be trained to classify the hands and from that knowledge determine the odds of winning. This training could be done by different methods depending on the neural network used. This investigation is meant to compare a feed-forward neural network against a recurrent neural network to train a good computerized poker player. The competence of the neural networks to train the computer AI is measured by having separate computer players that use each neural network to train. These computer players would then be tested against each other, and later against a human player, to determine the viability of these different neural networks to develop a good poker computer AI.\\cite{b1}."
   ]
  },
  {
   "cell_type": "raw",
   "metadata": {},
   "source": [
    "% BACKGROUND SECTION\n",
    "\\section{Background}\n",
    "\n",
    "Start typing here \\cite{b2}."
   ]
  },
  {
   "cell_type": "raw",
   "metadata": {},
   "source": [
    "% METHODS SECTION\n",
    "\\section{Methods}\n",
    "\n",
    "Start typing here \\cite{b3}."
   ]
  },
  {
   "cell_type": "raw",
   "metadata": {},
   "source": [
    "% RESULTS SECTION\n",
    "\\section{Results}\n",
    "\n",
    "Start typing here \\cite{b4}."
   ]
  },
  {
   "cell_type": "raw",
   "metadata": {},
   "source": [
    "% DISCUSSION SECTION\n",
    "\\section{Discussion}\n",
    "\n",
    "Start typing here \\cite{b5}."
   ]
  },
  {
   "cell_type": "raw",
   "metadata": {},
   "source": [
    "% REFERENCES\n",
    "% THIS IS CREATED AUTOMATICALLY\n",
    "\\bibliographystyle{IEEEtran}\n",
    "\\bibliography{References} % change if another name is used for References file"
   ]
  },
  {
   "cell_type": "raw",
   "metadata": {},
   "source": [
    "\\end{document}"
   ]
  }
 ],
 "metadata": {
  "kernelspec": {
   "display_name": "Python 3",
   "language": "python",
   "name": "python3"
  },
  "language_info": {
   "codemirror_mode": {
    "name": "ipython",
    "version": 3
   },
   "file_extension": ".py",
   "mimetype": "text/x-python",
   "name": "python",
   "nbconvert_exporter": "python",
   "pygments_lexer": "ipython3",
   "version": "3.5.3"
  }
 },
 "nbformat": 4,
 "nbformat_minor": 2
}
