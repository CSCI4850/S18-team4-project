{
 "cells": [
  {
   "cell_type": "raw",
   "metadata": {},
   "source": [
    "% PACKAGES INCLUDED HERE \n",
    "% DO NOT NEED TO CHANGE\n",
    "\\documentclass[conference]{IEEEtran}\n",
    "%\\IEEEoverridecommandlockouts\n",
    "% The preceding line is only needed to identify funding in the first footnote. If that is unneeded, please comment it out.\n",
    "\\usepackage{cite}\n",
    "\\usepackage{amsmath,amssymb,amsfonts}\n",
    "\\usepackage{algorithmic}\n",
    "\\usepackage{graphicx}\n",
    "\\usepackage{textcomp}\n",
    "\\def\\BibTeX{{\\rm B\\kern-.05em{\\sc i\\kern-.025em b}\\kern-.08em\n",
    "    T\\kern-.1667em\\lower.7ex\\hbox{E}\\kern-.125emX}}\n",
    "\\begin{document}"
   ]
  },
  {
   "cell_type": "raw",
   "metadata": {},
   "source": [
    "% TITLE GOES HERE\n",
    "\n",
    "\\title{Comparing Feed-Forward and Recurrent Neural Networks by Training Poker AIs\\\\}\n"
   ]
  },
  {
   "cell_type": "raw",
   "metadata": {},
   "source": [
    "% AUTHOR NAMES GOES HERE\n",
    "\n",
    "\\author{\\IEEEauthorblockN{Delkhaz Ibrahimi}\n",
    "\\IEEEauthorblockA{\\textit{Department of Computer Science} \\\\\n",
    "\\textit{Middle Tennessee State University}\\\\\n",
    "Murrfreesboro, Tennessee USA\\\\\n",
    "dai2i@mtmail.mtsu.edu}\n",
    "\\and\n",
    "\\IEEEauthorblockN{Loraina Lampley}\n",
    "\\IEEEauthorblockA{\\textit{Department of Computer Science} \\\\\n",
    "\\textit{Middle Tennessee State University}\\\\\n",
    "Murrfreesboro, Tennessee USA\\\\\n",
    "lnl2v@mtmail.mtsu.edu}\n",
    "\\and\n",
    "\\IEEEauthorblockN{Brandon Lowery}\n",
    "\\IEEEauthorblockA{\\textit{Department of Computer Science} \\\\\n",
    "\\textit{Middle Tennessee State University}\\\\\n",
    "Murrfreesboro, Tennessee USA\\\\\n",
    "bdl3k@mtmail.mtsu.edu}\n",
    "\\and\n",
    "\\IEEEauthorblockN{Jeremy Watts}\n",
    "\\IEEEauthorblockA{\\textit{Department of Computer Science} \\\\\n",
    "\\textit{Middle Tennessee State University}\\\\\n",
    "Murrfreesboro, Tennessee USA\\\\\n",
    "jnw5c@mtmail.mtsu.edu}\n",
    "}\n",
    "\n",
    "\\maketitle"
   ]
  },
  {
   "cell_type": "raw",
   "metadata": {},
   "source": [
    "% ABSTRACT \n",
    "\n",
    "\\begin{abstract}\n",
    "This document is a model and instructions for \\LaTeX.\n",
    "This and the IEEEtran.cls file define the components of your paper [title, text, heads, etc.]. *CRITICAL: Do Not Use Symbols, Special Characters, Footnotes, \n",
    "or Math in Paper Title or Abstract.\n",
    "\\end{abstract}\n"
   ]
  },
  {
   "cell_type": "raw",
   "metadata": {},
   "source": [
    "% KEYWORDS\n",
    "\n",
    "\\begin{IEEEkeywords}\n",
    "component, formatting, style, styling, insert\n",
    "\\end{IEEEkeywords}"
   ]
  },
  {
   "cell_type": "raw",
   "metadata": {},
   "source": [
    "% INTRODUCTION SECTION\n",
    "\\section{Introduction}\n",
    "\n",
    "Gaming is a common way to test an individual’s aptitude to complete a specified challenge.  In competitive gaming, the individual’s ability is often measured against a set precedent or another human player.  Competitive games have evolved to now include computer games, and computerized players that an individual can compete against. This creates the problem of how to create a good computerized player that would be able to actively respond to the game conditions as it progresses throughout the various stages of the game. A solution to this problem would be to find a technique that could develop a computerized artificial intelligence, computer AI, that could identify the circumstances of the game and then react based on those observations. One technique that can be used for the development of the computerized AI, is the implementation of a neural network to train the computer AI in the game procedure. A computer player that was trained by the neural network would then compete in the game with some capacity to respond to the game environment. The level of training necessary would be relative to the complexity of the game.\n",
    "\n",
    "Poker is an example of a competitive game that often is generated with computerized players. The game itself has many variations of differing complexity. The poker variant 5-Card Stud has 2,598,960 different hand combinations in a standard 52 card deck from only one draw of a 5-card hand. These different hands are then classified into categories based on the value of the cards. The categories of hands, ranks and odds of each hand are detailed in \\textbf{Table} \\ref{tab1}. With this many possible hands, it is easy to see how difficult it could be to train a computer AI to categorize all the possible hands. The difficulty continues as poker not only has an ample collection of hands, but also adds an element of betting, raising, or folding based on the likelihood of one player having the better hand. This decision can be assisted by knowing the rank of the current hand and the odds of having each hand category that has a higher rank. Computerized players must be able to identify the hand and then use a categorical approach based on the odds and significant training to determine how likely it is to have a better hand then the other player. That is when the computerized player would choose to bet, raise or fold armed with nothing else other than the ability to classify a hand and determine how likely it is to be in the lead based on a prior knowledge of the statistics of its hand.\n",
    "\n",
    "A computerized poker player that is trained by a neural network would need to be trained to classify the hands and from that knowledge determine the odds of winning. This training could be done by different methods depending on the neural network used. This investigation is meant to compare a feed-forward neural network against a convolutional neural network to train a good computerized poker player. The competence of the neural networks to train the computer AI is measured by having separate computer players that use each neural network to train. These computer players would then be tested against each other, and later against a human player, to determine the viability of these different neural networks to develop a good poker computer AI.\n",
    "\n",
    "\\begin{table}[htbp]\n",
    "\\caption{Poker Hand Types}\n",
    "\\begin{center}\n",
    "\\begin{tabular}{|c|c|c|}\n",
    "\\hline\n",
    "\\textbf{Rank} & \\textbf{Hand Name}& \\textbf{Odds} \\\\\n",
    "\\hline\n",
    "\\textbf{10} & \\textbf{\\textit{Royal Flush}}& \\textbf{\\textit{0.00000154}} \\\\\n",
    "\\hline\n",
    "\\textbf{9} & \\textbf{\\textit{Straight Flush}}& \\textbf{\\textit{0.00001385}} \\\\\n",
    "\\hline\n",
    "\\textbf{8} & \\textbf{\\textit{Four of a Kind}}& \\textbf{\\textit{0.00024010}} \\\\\n",
    "\\hline\n",
    "\\textbf{7} & \\textbf{\\textit{Full House}}& \\textbf{\\textit{0.00144058}} \\\\\n",
    "\\hline\n",
    "\\textbf{6} & \\textbf{\\textit{Flush}}& \\textbf{\\textit{0.00196540}} \\\\\n",
    "\\hline\n",
    "\\textbf{5} & \\textbf{\\textit{Straight}}& \\textbf{\\textit{0.00392465}} \\\\\n",
    "\\hline\n",
    "\\textbf{4} & \\textbf{\\textit{Three of a Kind}}& \\textbf{\\textit{0.02112845}} \\\\\n",
    "\\hline\n",
    "\\textbf{3} & \\textbf{\\textit{Two Pair}}& \\textbf{\\textit{0.04753902}} \\\\\n",
    "\\hline\n",
    "\\textbf{2} & \\textbf{\\textit{Pair}}& \\textbf{\\textit{0.42256903}} \\\\\n",
    "\\hline\n",
    "\\textbf{1} & \\textbf{\\textit{Nothing}}& \\textbf{\\textit{0.50117739}} \\\\\n",
    "\\hline\n",
    "\\multicolumn{3}{l}{$^{\\mathrm{a}}$Probabillities based on Five Card Stud.\\cite{odds}.} \n",
    "\\end{tabular}\n",
    "\\label{tab1}\n",
    "\\end{center}\n",
    "\\end{table}"
   ]
  },
  {
   "cell_type": "raw",
   "metadata": {},
   "source": [
    "% BACKGROUND SECTION\n",
    "\\section{Background}\n",
    "\n",
    "There have been many advancements training a computer AI to play games competitively against expert human players. Some of the games include common strategy board games, classic arcade games, and card games. A recent development in computer AIs gaming is the attempt to make an AI that could play professional poker. The difficulty in training an AI to play poker verses other games, is that the previous games allow the players to have all the information. Poker, however, relies on the player’s inability to know the hand of the other players. This is necessary for betting, raising, folding, and bluffing on a professional level. The lack of information changes the way the AI must learn how to play.\n",
    "\n",
    "Though it is possible to create a strategy prior to play, this method would never reach the ability to compete on an expert level. The AI would be limited and the would diagnose a pattern of the other player. An expert poker AI needs to learn to adjust its strategy during the game to account for the unknown factor available in poker. The goal is to adjust the AI strategy with every round.  DeepStack is the first algorithm capable of beating a professional poker player during heads-up-no-limit Texas hold’em poker. The algorithm continuously resolves the games strategy during the game. DeepStack uses Deep Counterfactual Value Networks, including a feedforward neural network. This opens up the chance for many new advancements in professional game playing AIs.\\cite{deepstack}.     "
   ]
  },
  {
   "cell_type": "raw",
   "metadata": {},
   "source": [
    "% METHODS SECTION\n",
    "\\section{Methods}\n",
    "\n",
    "The first step was to create two separate neural networks after importing keras.\\cite{ker}. The same data was used with the same level of training to determine which neural network would have the best accuracy at classifying poker hands. The neural networks tested were a feed-forward neural network and a convolutional neural network. A feed-forward neural network is a multilayer neural network that passes information through the layers. The information is fed-forward through the input layer, then the hidden layer(s), and lastly to the final layer that produces the output of the neural network. Feed-forward neural networks are primarily used for classification.  A convolutional neural network is a specialized kind of neural network for processing data by finding the relationships of subsamples of that data. A convolutional neural network consists of convolution layer(s), pooling layer(s), and the fully connected layers. Convolutional neural networks are primarily used for image classification.\\ cite{DLbook}.\n",
    "\n",
    "These networks will be used to classify poker hands with data provided by Robert Cattral and Franz Oppacher from the Computer Science department at Carleton University featured at the UCI Machine Learning Library.\\cite{uci}. This dataset has the information on the classification of the different poker hands and odds, as well as training and testing data that can be loaded into the neural networks. These datasets were encoded to both neural networks providing each with the same data with the help of the Guide to Encoding Categorical Values in Python.\\cite{ moffitt}.\n",
    "\n",
    "The statistics of these neural networks is split between the architecture of the networks, the training, and the plotted accuracy and loss. The architecture of the feed-forward network was a sequential model that consisted of four Dense layers. Three of these layers had 512 units with relu activation. The other was 10 units with softmax activation. The model was compiled with the Adam optimizer with default values. This provided 536, 074 parameters. The architecture of the convolutional neural network is [**]. Training on each was done with a batch size of 100 and 25 epochs.  The accuracy and loss was plotted and can be seen in the provided figures: Feed-forward neural network figure 1, and convolutional neural network figure 2. The completed neural networks with the plotted accuracy showed the neural networks ability to classify the poker hands. \n",
    "\n",
    "The next step was to create a game that the neural networks could be uploaded into to play as the game AIs. The game was created using python to run through a standard game of 5 card stud. The neural network is loaded as the opposing player. The game deals the cards, and the betting occurs. The neural network will decide, raise, bet, or fold, determined by the probability of winning. The player bets against the AI. The game has two rounds of betting before declaring the winner. The game can be found in the project directory on GitHub. \\cite{github}. "
   ]
  },
  {
   "cell_type": "raw",
   "metadata": {},
   "source": [
    "% RESULTS SECTION\n",
    "\\section{Results}\n",
    "\n",
    "Start typing here \\cite{b4}."
   ]
  },
  {
   "cell_type": "raw",
   "metadata": {},
   "source": [
    "% DISCUSSION SECTION\n",
    "\\section{Discussion}\n",
    "\n",
    "Start typing here \\cite{b5}."
   ]
  },
  {
   "cell_type": "raw",
   "metadata": {},
   "source": [
    "% REFERENCES\n",
    "% THIS IS CREATED AUTOMATICALLY\n",
    "\\bibliographystyle{IEEEtran}\n",
    "\\bibliography{References} % change if another name is used for References file"
   ]
  },
  {
   "cell_type": "raw",
   "metadata": {},
   "source": [
    "\\end{document}"
   ]
  }
 ],
 "metadata": {
  "kernelspec": {
   "display_name": "Python 3",
   "language": "python",
   "name": "python3"
  },
  "language_info": {
   "codemirror_mode": {
    "name": "ipython",
    "version": 3
   },
   "file_extension": ".py",
   "mimetype": "text/x-python",
   "name": "python",
   "nbconvert_exporter": "python",
   "pygments_lexer": "ipython3",
   "version": "3.5.3"
  }
 },
 "nbformat": 4,
 "nbformat_minor": 2
}
