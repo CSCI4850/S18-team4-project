{
 "cells": [
  {
   "cell_type": "raw",
   "metadata": {},
   "source": [
    "% PACKAGES INCLUDED HERE \n",
    "% DO NOT NEED TO CHANGE\n",
    "\\documentclass[conference]{IEEEtran}\n",
    "%\\IEEEoverridecommandlockouts\n",
    "% The preceding line is only needed to identify funding in the first footnote. If that is unneeded, please comment it out.\n",
    "\\usepackage{cite}\n",
    "\\usepackage{amsmath,amssymb,amsfonts}\n",
    "\\usepackage{algorithmic}\n",
    "\\usepackage{graphicx}\n",
    "\\usepackage{textcomp}\n",
    "\\def\\BibTeX{{\\rm B\\kern-.05em{\\sc i\\kern-.025em b}\\kern-.08em\n",
    "    T\\kern-.1667em\\lower.7ex\\hbox{E}\\kern-.125emX}}\n",
    "\\begin{document}"
   ]
  },
  {
   "cell_type": "raw",
   "metadata": {},
   "source": [
    "% TITLE GOES HERE\n",
    "\n",
    "\\title{Comparing Feed-Forward and Convolutional Neural Networks by Training Poker AIs\\\\}\n"
   ]
  },
  {
   "cell_type": "raw",
   "metadata": {},
   "source": [
    "% AUTHOR NAMES GOES HERE\n",
    "\n",
    "\\author{\\IEEEauthorblockN{Delkhaz Ibrahimi}\n",
    "\\IEEEauthorblockA{\\textit{Department of Computer Science} \\\\\n",
    "\\textit{Middle Tennessee State University}\\\\\n",
    "Murrfreesboro, Tennessee USA\\\\\n",
    "dai2i@mtmail.mtsu.edu}\n",
    "\\and\n",
    "\\IEEEauthorblockN{Loraina Lampley}\n",
    "\\IEEEauthorblockA{\\textit{Department of Computer Science} \\\\\n",
    "\\textit{Middle Tennessee State University}\\\\\n",
    "Murrfreesboro, Tennessee USA\\\\\n",
    "lnl2v@mtmail.mtsu.edu}\n",
    "\\and\n",
    "\\IEEEauthorblockN{Brandon Lowery}\n",
    "\\IEEEauthorblockA{\\textit{Department of Computer Science} \\\\\n",
    "\\textit{Middle Tennessee State University}\\\\\n",
    "Murrfreesboro, Tennessee USA\\\\\n",
    "bdl3k@mtmail.mtsu.edu}\n",
    "\\and\n",
    "\\IEEEauthorblockN{Jeremy Watts}\n",
    "\\IEEEauthorblockA{\\textit{Department of Computer Science} \\\\\n",
    "\\textit{Middle Tennessee State University}\\\\\n",
    "Murrfreesboro, Tennessee USA\\\\\n",
    "jnw5c@mtmail.mtsu.edu}\n",
    "}\n",
    "\n",
    "\\maketitle"
   ]
  },
  {
   "cell_type": "raw",
   "metadata": {},
   "source": [
    "% ABSTRACT \n",
    "\n",
    "\\begin{abstract}\n",
    "Poker game AIs need to be able to make intelligent decisions, so that the AI can decide whether to bet on a hand. Before the poker AIs that can play against professional players, the AI needs to be trained to classify its hand. Neural networks can be used for this training with varying success. Feed-forward neural networks and convolutional neural networks are both used primarily for classification. When undergoing the same training with the same data, the accuracy can be measured to determine the relative success and demonstrate which can perform the task better. These completed neural networks would then be tested to play poker using a categorical approach to betting. The success of the AI is then measured by its ability to win the game and make good decisions. The results show that the feed-forward neural network outperforms the convolutional neural network for this problem. The Feed-forward also shows an acceptable win rate for categorical betting.  This implies that a good poker AI that could compete professionally would be more successful using a feed-forward network for poker hand classification than a convolutional neural network. \n",
    "\\end{abstract}\n"
   ]
  },
  {
   "cell_type": "raw",
   "metadata": {},
   "source": [
    "% KEYWORDS\n",
    "\n",
    "\\begin{IEEEkeywords}\n",
    "feed-forward, convolutional, neural network, poker, AI, classification\n",
    "\\end{IEEEkeywords}"
   ]
  },
  {
   "cell_type": "raw",
   "metadata": {},
   "source": [
    "% INTRODUCTION SECTION\n",
    "\\section{Introduction}\n",
    "\n",
    "Gaming is a common way to test an individual’s aptitude to complete a specified challenge.  In competitive gaming, the individual’s ability is often measured against a set precedent or another human player.  Competitive games have evolved to now include computer games with computerized players that an individual can compete against. This creates the problem of how to create a good computerized player that would be able to actively respond to the game conditions as it progresses throughout the various stages of the game. A solution to this problem would be to find a technique that could develop a computerized artificial intelligence, AI, that could identify the circumstances of the game and then react based on those observations. One technique that can be used for the development of the AI, is the implementation of a neural network to train the AI in the game procedure. A computer player that was trained by the neural network would then be able to compete in the game with some capacity to respond to the game environment. The level of training necessary would be relative to the complexity of the game.\n",
    "\n",
    "Poker is an example of a competitive game that is often generated with computerized players. The game itself has many variations of differing complexity. The poker variant 5-Card Stud has 2,598,960 different hand combinations in a standard 52 card deck. This is from only one draw of a 5-card hand. These different hands are then classified into categories based on the value of the cards. The categories of hands, ranks and odds of each hand are detailed in \\textbf{Table} \\ref{tab1}. With this many possible hands, it is easy to see how difficult it could be to train an AI to categorize all the possible hands. The difficulty continues as poker not only has an ample collection of hands, but also adds an element of betting, raising, or folding based on the likelihood of one player having the better hand. This decision can be assisted by knowing the rank of the current hand and the odds of the opponent having a hand that has a higher rank. Computerized players must be able to identify the hand and then use a categorical approach and significant training to determine how likely it is to have a better hand then the other player.  A poker AI that uses only a categorical approach would choose to bet, raise or fold armed with nothing else other than its ability to classify a hand. Then it would determine how likely it is to be in the lead based on prior knowledge of the statistics of that hand.\n",
    "\n",
    "This investigation is meant to compare a feed-forward neural network against a convolutional neural network to train an AI to classify poker hands. The competence of the neural networks to train the computer AI is measured by having two distinct neural networks to import into a poker AI. These computer players would then be tested against each other, and later against a human player in a game, to determine the viability of these different neural networks to classify poker hands. Feed-forward neural networks have been known to be used for classification. Furthering the attempt to create a good classification neural network, a convolutional neural network will be trained using the same data as a feed-forward network to determine which is a more practical solution.\n",
    "\n",
    "\n",
    "\\begin{table}[htbp]\n",
    "\\caption{Poker Hand Types}\n",
    "\\begin{center}\n",
    "\\begin{tabular}{|c|c|c|}\n",
    "\\hline\n",
    "\\textbf{Rank} & \\textbf{Hand Name}& \\textbf{Odds} \\\\\n",
    "\\hline\n",
    "\\textbf{10} & \\textbf{\\textit{Royal Flush}}& \\textbf{\\textit{0.00000154}} \\\\\n",
    "\\hline\n",
    "\\textbf{9} & \\textbf{\\textit{Straight Flush}}& \\textbf{\\textit{0.00001385}} \\\\\n",
    "\\hline\n",
    "\\textbf{8} & \\textbf{\\textit{Four of a Kind}}& \\textbf{\\textit{0.00024010}} \\\\\n",
    "\\hline\n",
    "\\textbf{7} & \\textbf{\\textit{Full House}}& \\textbf{\\textit{0.00144058}} \\\\\n",
    "\\hline\n",
    "\\textbf{6} & \\textbf{\\textit{Flush}}& \\textbf{\\textit{0.00196540}} \\\\\n",
    "\\hline\n",
    "\\textbf{5} & \\textbf{\\textit{Straight}}& \\textbf{\\textit{0.00392465}} \\\\\n",
    "\\hline\n",
    "\\textbf{4} & \\textbf{\\textit{Three of a Kind}}& \\textbf{\\textit{0.02112845}} \\\\\n",
    "\\hline\n",
    "\\textbf{3} & \\textbf{\\textit{Two Pair}}& \\textbf{\\textit{0.04753902}} \\\\\n",
    "\\hline\n",
    "\\textbf{2} & \\textbf{\\textit{Pair}}& \\textbf{\\textit{0.42256903}} \\\\\n",
    "\\hline\n",
    "\\textbf{1} & \\textbf{\\textit{Nothing}}& \\textbf{\\textit{0.50117739}} \\\\\n",
    "\\hline\n",
    "\\multicolumn{3}{l}{$^{\\mathrm{a}}$Probabillities based on Five Card Stud.\\cite{odds}.} \n",
    "\\end{tabular}\n",
    "\\label{tab1}\n",
    "\\end{center}\n",
    "\\end{table}"
   ]
  },
  {
   "cell_type": "raw",
   "metadata": {},
   "source": [
    "% BACKGROUND SECTION\n",
    "\\section{Background}\n",
    "\n",
    "There have been many advancements in training a computer AI to play games competitively against expert human players. Some of the games include common strategy board games, classic arcade games, and card games. A recent development in computer AIs gaming is the attempt to make an AI that could play professional poker. The difficulty in training an AI to play poker verses other games, is that the previous games allow the players to have all the information. Poker, however, relies on the player’s inability to know the hand of the other players. This is necessary for betting, raising, folding, and bluffing on a professional level. The lack of information changes the way the AI must learn how to play.\n",
    "\n",
    "Poker AIs are limited and unable to diagnose a pattern of the other player by known human signs. An expert poker AI needs to learn to adjust its strategy during the game to account for the unknown factor available in poker. The goal is to adjust the AI strategy with every round.  DeepStack is the first algorithm capable of beating a professional poker player during heads-up-no-limit Texas hold’em poker. This would serve as the ultimate test for an AI as the game highly relies on the player’s ability to understand and diagnose a pattern of the other players. This algorithm continuously resolves the games strategy during the game as the AI learns how to play against the opponent. DeepStack uses Deep Counterfactual Value Networks, including a feedforward neural network. This presents the chance for many new advancements in artificial intelligence when applied to other decisions that are made with imperfect information.\\cite{deepstack}.\n",
    "\n",
    "Before a poker AI can ever be trained for tournament play, the neural network would need to be able to classify poker hands and determine the odds for that hand. Even the most advanced AI would suffer if it was not able to determine what was in its hand. This indicates that a decision for the classification neural network would be instrumental in the beginning stages of creating a professional AI. There have been many classification neural networks that have been tested for this purpose. Computer Scientist Suraiya Jabin, created a feed-forward neural network that insured a 94\\% accuracy when classifying a poker hand.\\cite{classification}. In this article, it is shown how the feed-forward neural network was constructed and alternate ideas for future advancement. "
   ]
  },
  {
   "cell_type": "raw",
   "metadata": {},
   "source": [
    "% METHODS SECTION\n",
    "\\section{Methods}\n",
    "\n",
    "The first step was to create two separate neural networks after importing keras.\\cite{ker}. The same data was used with the same level of training to determine which neural network would have the best accuracy at classifying poker hands. A feed-forward neural network is a multilayer neural network that passes information through the layers. The information is fed-forward through the input layer, then the hidden layer(s), and lastly to the final layer that produces the output of the neural network. Feed-forward neural networks are primarily used for classification.  A convolutional neural network is a specialized kind of neural network for processing data by finding the relationships of subsamples of that data. A convolutional neural network consists of convolution layer(s), pooling layer(s), and the fully connected layers. Convolutional neural networks are primarily used for image classification.\\cite{DLbook}.\n",
    "\n",
    "These networks will be used to classify poker hands with data provided by Robert Cattral and Franz Oppacher from the Computer Science department at Carleton University featured at the UCI Machine Learning Library.\\cite{uci}. This dataset has the information on the classification of the different poker hands and odds, as well as training and testing data that can be loaded into the neural networks. These datasets were encoded to both neural networks providing each with the same data. This was done with the help of the Guide to Encoding Categorical Values in Python.\\cite{ moffitt}.\n",
    "\n",
    "The statistics of these neural networks is split between the architecture of the networks, the training, and the plotted accuracy and loss. The architecture of the feed-forward network was a sequential model that consisted of four Dense layers. Three of these layers had 512 units with relu activation. The other was 10 units with softmax activation. Compiled with the Adam optimizer with default values, the model provided 536, 074 parameters. The architecture of the convolutional neural network is [**]. Training on each was done with a batch size of 100 and 25 epochs.  The accuracy and loss were plotted and can be seen in the provided figures: Feed-forward neural network Fig.~\\ref{fnn}, and convolutional neural network Fig. {CNN}. The completed neural networks with the plotted accuracy showed the neural networks ability to classify the poker hands. \n",
    "\n",
    "The next step was to create a game that the neural networks could be uploaded into to play as the game AIs. The game was created using python to run through a standard game of 5 card stud. The neural network is loaded as the opposing player. The game deals the cards, and the betting occurs. The neural network will decide to raise, bet, or fold, by the probability of winning. Next, the player bets against the AI. The game has two rounds of betting before declaring the winner. The game can be found in the project directory on GitHub. \\cite{github}."
   ]
  },
  {
   "cell_type": "raw",
   "metadata": {},
   "source": [
    "% RESULTS SECTION\n",
    "\\section{Results}\n",
    "\n",
    "The accuracy and loss plots give the implication that feed-forward neural networks are more suited to the task of classifying poker hands. Feed-forward neural networks showed a steady improvement as the accuracy continued to increase and the loss continued to decrease. Fig.~\\ref{fnn}. This means that the feed-forward neural network was able to learn with the data provided for training.  The final loss dropped to 0.08 and the accuracy rose to 0.98. This concludes that the neural network would be able to correctly classify the hand roughly 98\\% of the time. The convolutional neural network [**].\n",
    "\n",
    "The game provides a method to check on the performance of the neural network against another opponent. The ratio of the neural networks to win was directly related to the ability to classify the poker hands. Since the categorical approach was used to decide during betting rounds, the only way for the neural network to make informed decisions was if it was successful at knowing the odds. If the neural network classified the hand wrong, it would not know the odds of having a better hand. The convolutional neural network was not able to classify the poker hands accurately for all the games. This made the neural network play slightly better than a random function to decide to raise, bet or fold. This neural network had a chance to win, but the overall win ratio was low. The feed-forward neural network had a larger win ratio, since the classification was much more successful. Another factor remained on whether the neural network made the right decision. The final output would display the hands of the players as well as who won, so that the neural network could be monitored. Fig.~\\ref{game}. This showed that the feed-forward neural network was relatively successful at making a verdict on its hand.\n",
    "\n",
    "\\begin{figure}[htbp]\n",
    "\\centerline{\\includegraphics[width=\\linewidth]{fnnfigure.png}}\n",
    "\\caption{Accuracy and loss for feed-forward neural network shows consistant improvement during training.}\n",
    "\\label{fnn}\n",
    "\\end{figure}\n",
    "\n",
    "\\begin{figure}[htbp]\n",
    "\\centerline{\\includegraphics[width=0.5\\linewidth]{game-results-figure.png}}\n",
    "\\caption{Example of game output. Here feed-forward neural network won the game.}\n",
    "\\label{game}\n",
    "\\end{figure}."
   ]
  },
  {
   "cell_type": "raw",
   "metadata": {},
   "source": [
    "% DISCUSSION SECTION\n",
    "\\section{Discussion}\n",
    "The result of the investigation showed that a feed-forward neural network was more competent at classifying poker hands than convolutional neural networks. The computer players with the neural networks were tested against each other and showed a higher accuracy for the feed-forward network, even when using the same information. When tested against a human player in the game, it become clear that the accuracy of classifying the poker hands did affect the neural networks ability to win. Feed-forward neural networks remain the more viable neural network for classification in poker. \n",
    "\n",
    "The future holds the possibility of training feed-forward networks with different models to maximize the classification ability. The data provided a good training and testing set to be used for future models. With the modification of the feed-forward architecture, it will be possible to make a feed-forward neural network that has an even greater capacity to make more informed decisions. The completed neural network will then form the first step of creating further professional poker AIs that can compete in tournament style poker.  "
   ]
  },
  {
   "cell_type": "raw",
   "metadata": {},
   "source": [
    "% REFERENCES\n",
    "% THIS IS CREATED AUTOMATICALLY\n",
    "\\bibliographystyle{IEEEtran}\n",
    "\\bibliography{References} % change if another name is used for References file"
   ]
  },
  {
   "cell_type": "raw",
   "metadata": {},
   "source": [
    "\\end{document}"
   ]
  }
 ],
 "metadata": {
  "kernelspec": {
   "display_name": "Python 3",
   "language": "python",
   "name": "python3"
  },
  "language_info": {
   "codemirror_mode": {
    "name": "ipython",
    "version": 3
   },
   "file_extension": ".py",
   "mimetype": "text/x-python",
   "name": "python",
   "nbconvert_exporter": "python",
   "pygments_lexer": "ipython3",
   "version": "3.5.3"
  }
 },
 "nbformat": 4,
 "nbformat_minor": 2
}
